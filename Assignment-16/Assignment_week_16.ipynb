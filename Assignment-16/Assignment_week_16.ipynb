{
 "cells": [
  {
   "cell_type": "markdown",
   "metadata": {},
   "source": [
    "### 1.复习上课内容。"
   ]
  },
  {
   "cell_type": "markdown",
   "metadata": {},
   "source": [
    "### 2.理论题"
   ]
  },
  {
   "cell_type": "markdown",
   "metadata": {},
   "source": [
    "1. Why we need $\\gamma$ in reinforcement learning ?"
   ]
  },
  {
   "cell_type": "markdown",
   "metadata": {},
   "source": [
    ">$G_t=R_{t+1}+R_{t+2}+...$<br>\n",
    "如果$R_{t+2}=R_{t+1}$(这里同时指状态相同，而不单单是reward相等)，则会陷入循环，导致G会无限大，加入$\\gamma\\in (0,1)$能避免G无穷大的问题"
   ]
  },
  {
   "cell_type": "markdown",
   "metadata": {},
   "source": [
    "2. Please breifly explain what is value function and what is Q function ?"
   ]
  },
  {
   "cell_type": "markdown",
   "metadata": {},
   "source": [
    ">Value Function\n",
    ">>$V_\\pi(S)=\\mathbb{E}_\\pi(G_t|S_t=s)$，其中$\\pi=policy$<br>\n",
    "Value function是指在State=s时的value期望。因为State=s时可能有不止一种action，因此需要求期望值(而且time=t+1,t+2...可能都有不同的action，因此都需要求期望)\n",
    "\n",
    ">Q Function\n",
    ">>$Q_\\pi(s,a)=\\mathbb{E}_\\pi(G_t|S_t=s,A_t=a)$<br>\n",
    "Q function是指在State=s并采取Action=a时的value期望。"
   ]
  },
  {
   "cell_type": "markdown",
   "metadata": {},
   "source": [
    "3. How temperal difference related to dynamic programming and monte-carlo methods ?"
   ]
  },
  {
   "cell_type": "markdown",
   "metadata": {},
   "source": [
    ">Temperal difference是DP和MC的结合。DP需要知道环境变量，而MC需要每次走到end之后才能更新估计值。TD则是先用MC走N步，然后和DP一样用其他估计值来更新估计值。<br>\n",
    "$V(S_t)\\leftarrow V(S_t)+\\alpha(R_{t+1}+\\gamma V(S_{t+1})-V(S))\\;\\;|\\;\\;NStep=1$"
   ]
  },
  {
   "cell_type": "markdown",
   "metadata": {},
   "source": [
    "4. Please briefly describe what are value iteration and policy iteration ?"
   ]
  },
  {
   "cell_type": "markdown",
   "metadata": {},
   "source": [
    ">这是在Dynamic programming中对value和policy更新的过程\n",
    ">>Value iteration<br>\n",
    "先初始化所有value(t=0)，然后一直迭代更新直到$|W_{t+1}-W_t|\\le \\theta$\n",
    "\n",
    ">>Policy iteration分2步循环：\n",
    "1. Policy evaluation: (t=0时，随机选择Action)，迭代计算得到value\n",
    "2. 根据当前value求出最优的action，并更新\n",
    "3. 如果$|\\pi_{t+1}-\\pi_t|\\le \\theta$，退出循环，反之则回到步骤1"
   ]
  },
  {
   "cell_type": "markdown",
   "metadata": {},
   "source": [
    "5. How can we use deep lerning in reinforcement learning ?"
   ]
  },
  {
   "cell_type": "markdown",
   "metadata": {},
   "source": [
    ">深度学习应用在强化学习中的方式是直接将state->action迭代的过程用神经网络来代替。设计一个函数$Q(s,a;\\theta)$，通过不断更新$\\theta$的值来使函数逼近最优的Q值"
   ]
  },
  {
   "cell_type": "markdown",
   "metadata": {},
   "source": [
    "### 选做题 （实践）"
   ]
  },
  {
   "cell_type": "code",
   "execution_count": 1,
   "metadata": {},
   "outputs": [],
   "source": [
    "import matplotlib\n",
    "import matplotlib.pyplot as plt\n",
    "import numpy as np\n",
    "from matplotlib.table import Table"
   ]
  },
  {
   "cell_type": "code",
   "execution_count": 2,
   "metadata": {},
   "outputs": [],
   "source": [
    "def draw_image(image):\n",
    "    fig,ax = plt.subplots()\n",
    "    ax.set_axis_off()\n",
    "    tb = Table(ax,bbox=[0,0,1,1])\n",
    "\n",
    "    nrows,ncols = image.shape\n",
    "    width,height = 1.0/ncols,1.0/nrows\n",
    "\n",
    "    for (i,j), val in np.ndenumerate(image):\n",
    "        if (i,j) == (0,1):\n",
    "            val = \"A\"\n",
    "        elif (i,j) == (0,3):\n",
    "            val = \"B\"\n",
    "        elif (i,j) == (4,1):\n",
    "            val = \"A'\"\n",
    "        elif (i,j) == (2,3):\n",
    "            val = \"B'\"\n",
    "        tb.add_cell(i,j,width,height,text=val,\n",
    "                    loc='center',facecolor='white')\n",
    "\n",
    "    for i in range(len(image)):\n",
    "        tb.add_cell(i,-1,width,height,text=i+1,loc='right',\n",
    "                    edgecolor='none',facecolor='none')\n",
    "        tb.add_cell(-1,i,width,height/2,text=i+1,loc='center',\n",
    "                    edgecolor='none',facecolor='none')\n",
    "    ax.add_table(tb)"
   ]
  },
  {
   "cell_type": "code",
   "execution_count": 3,
   "metadata": {},
   "outputs": [
    {
     "data": {
      "image/png": "[encoded data removed]",
      "text/plain": [
       "<Figure size 432x288 with 1 Axes>"
      ]
     },
     "metadata": {},
     "output_type": "display_data"
    }
   ],
   "source": [
    "WORLD_SIZE=5\n",
    "draw_image(np.zeros((WORLD_SIZE,WORLD_SIZE)))"
   ]
  },
  {
   "cell_type": "markdown",
   "metadata": {},
   "source": [
    "Figure above shows a rectangular gridworld. The cell of the grid correspond to the state of the environment. At each cell, four actions with equal probability are possible: north, south, east and west, which deterministically cause the agent to move one cell in the respective direction on the grid. Actions that would take the agent off the grid leave its unchanged, but also result in a reward -1. Other actions result in a reward of 0, expect those taht move the agent out of the special states A and B. From state A, all four actions yield a reward of +10 and take the agent to A'. From state B, all actions yield a reward of +5 and take the agent to B'. "
   ]
  },
  {
   "cell_type": "markdown",
   "metadata": {},
   "source": [
    "#### Try to compute the value of each state ? You can choose any algorithms we leanred in the class.\n",
    "Good luck and happy new year. !!"
   ]
  },
  {
   "cell_type": "code",
   "execution_count": 10,
   "metadata": {},
   "outputs": [],
   "source": [
    "table = np.zeros((WORLD_SIZE, WORLD_SIZE))"
   ]
  },
  {
   "cell_type": "code",
   "execution_count": 11,
   "metadata": {},
   "outputs": [
    {
     "data": {
      "text/plain": [
       "array([[0., 0., 0., 0., 0.],\n",
       "       [0., 0., 0., 0., 0.],\n",
       "       [0., 0., 0., 0., 0.],\n",
       "       [0., 0., 0., 0., 0.],\n",
       "       [0., 0., 0., 0., 0.]])"
      ]
     },
     "execution_count": 11,
     "metadata": {},
     "output_type": "execute_result"
    }
   ],
   "source": [
    "table"
   ]
  },
  {
   "cell_type": "markdown",
   "metadata": {},
   "source": [
    "迭代公式：<br>\n",
    "$V^\\pi(s)=\\sum_{a}\\pi(s,a)\\sum_{s'}\\mathcal{P}^{a}_{ss'}[\\mathcal{R}^{a}_{ss'}+\\gamma V^{\\pi}(s')]$"
   ]
  },
  {
   "cell_type": "code",
   "execution_count": 48,
   "metadata": {},
   "outputs": [],
   "source": [
    "def calc_v(i, j, v_table, gamma=0.9):\n",
    "    if (i, j) == (0, 1):\n",
    "        up_r = down_r = left_r = right_r = 10\n",
    "        up_v = down_v = left_v = right_v = v_table[4][1]\n",
    "    elif (i, j) == (0, 3):\n",
    "        up_r = down_r = left_r = right_r = 5\n",
    "        up_v = down_v = left_v = right_v = v_table[2][3]\n",
    "    else:\n",
    "        if j - 1 < 0:\n",
    "            up_r, up_v = -1, v_table[i][j]\n",
    "        else:\n",
    "            up_r, up_v = 0, v_table[i][j-1]\n",
    "        if j + 1 > 4:\n",
    "            down_r, down_v = -1, v_table[i][j]\n",
    "        else:\n",
    "            down_r, down_v = 0, v_table[i][j+1]\n",
    "        if i - 1 < 0:\n",
    "            left_r, left_v = -1, v_table[i][j]\n",
    "        else:\n",
    "            left_r, left_v = 0, v_table[i-1][j]\n",
    "        if i + 1 > 4:\n",
    "            right_r, right_v = -1, v_table[i][j]\n",
    "        else:\n",
    "            right_r, right_v = 0, v_table[i+1][j]\n",
    "    return 0.25*((up_r+gamma*up_v)+(down_r+gamma*down_v)+(left_r+gamma*left_v)+(right_r+gamma*right_v))"
   ]
  },
  {
   "cell_type": "code",
   "execution_count": 53,
   "metadata": {},
   "outputs": [],
   "source": [
    "def iter_v(theta=1e-2):\n",
    "    table = np.zeros((WORLD_SIZE, WORLD_SIZE))\n",
    "    while True:\n",
    "        new_table = np.zeros((WORLD_SIZE, WORLD_SIZE))\n",
    "        for (i,j), _ in np.ndenumerate(table):\n",
    "            v = calc_v(i, j, table)\n",
    "            new_table[i][j] = v\n",
    "        if np.average(np.abs(table-new_table)) < theta:\n",
    "            return new_table\n",
    "        table = new_table"
   ]
  },
  {
   "cell_type": "code",
   "execution_count": 57,
   "metadata": {},
   "outputs": [],
   "source": [
    "def draw_table(table):\n",
    "    fig,ax = plt.subplots()\n",
    "    ax.set_axis_off()\n",
    "    tb = Table(ax,bbox=[0,0,1,1])\n",
    "\n",
    "    nrows,ncols = table.shape\n",
    "    width,height = 1.0/ncols,1.0/nrows\n",
    "\n",
    "    for (i,j), val in np.ndenumerate(table):\n",
    "        tb.add_cell(i,j,width,height,text=val,\n",
    "                    loc='center',facecolor='white')\n",
    "\n",
    "    for i in range(len(table)):\n",
    "        tb.add_cell(i,-1,width,height,text=i+1,loc='right',\n",
    "                    edgecolor='none',facecolor='none')\n",
    "        tb.add_cell(-1,i,width,height/2,text=i+1,loc='center',\n",
    "                    edgecolor='none',facecolor='none')\n",
    "    ax.add_table(tb)"
   ]
  },
  {
   "cell_type": "code",
   "execution_count": 58,
   "metadata": {},
   "outputs": [
    {
     "data": {
      "image/png": "[encoded data removed]",
      "text/plain": [
       "<Figure size 432x288 with 1 Axes>"
      ]
     },
     "metadata": {},
     "output_type": "display_data"
    }
   ],
   "source": [
    "draw_table(np.around(iter_v(), decimals=1))"
   ]
  },
  {
   "cell_type": "code",
   "execution_count": null,
   "metadata": {},
   "outputs": [],
   "source": []
  }
 ],
 "metadata": {
  "kernelspec": {
   "display_name": "Python 3",
   "language": "python",
   "name": "python3"
  },
  "language_info": {
   "codemirror_mode": {
    "name": "ipython",
    "version": 3
   },
   "file_extension": ".py",
   "mimetype": "text/x-python",
   "name": "python",
   "nbconvert_exporter": "python",
   "pygments_lexer": "ipython3",
   "version": "3.6.5"
  }
 },
 "nbformat": 4,
 "nbformat_minor": 2
}
