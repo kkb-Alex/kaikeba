{
 "cells": [
  {
   "cell_type": "markdown",
   "metadata": {},
   "source": [
    "# Assignment 12"
   ]
  },
  {
   "cell_type": "markdown",
   "metadata": {},
   "source": [
    "### 1.复习上课内容"
   ]
  },
  {
   "cell_type": "markdown",
   "metadata": {},
   "source": [
    "### 2.回答以下理论问题"
   ]
  },
  {
   "cell_type": "markdown",
   "metadata": {},
   "source": [
    "#### 1. 请写一下TF-IDF的计算公式"
   ]
  },
  {
   "cell_type": "markdown",
   "metadata": {},
   "source": [
    ">TF(Term frequency):在一个文档中，一个词出现的次数: $tf_{t,d}=count(t,d)$,也可以对结果取对数, $tf_{t,d}=log_{10}(count(t,d)+1)$<br>\n",
    "其中，t=某个词在该文档中出现对频次，d=文档的总词数\n",
    "\n",
    ">IDF(Inverse document frenquency):总文档数除以包含某个词的文档数，再取对数: $idf_t=log_{10}(\\frac{N}{df_t})$<br>\n",
    "其中，N=总文档数，$df_t$=包含t的文档数\n",
    "\n",
    ">TF-IDF = $TF * IDF$"
   ]
  },
  {
   "cell_type": "markdown",
   "metadata": {},
   "source": [
    "#### 2. LDA算法的基本假设是什么？"
   ]
  },
  {
   "cell_type": "markdown",
   "metadata": {},
   "source": [
    ">LDA的2个基本假设：\n",
    "1. Per-document topic distributions: The topics of each document obey a probability distribution(每个文本主题服从某个概率分布)\n",
    "2. Per-topic word distributions: The words of each topic obey a probability distribution (每个主题下的词服从一个概率分布)"
   ]
  },
  {
   "cell_type": "markdown",
   "metadata": {},
   "source": [
    "#### 3. 在TextRank算法中构建图的权重是如何得到的？"
   ]
  },
  {
   "cell_type": "markdown",
   "metadata": {},
   "source": [
    ">一般是通过计算2个词的词向量之间的余弦相似度来得到的: $W_{ij}=similarity\\;cosine(w_i, w_j)$"
   ]
  },
  {
   "cell_type": "markdown",
   "metadata": {},
   "source": [
    "#### 4. 什么是命名实体识别？ 有什么应用场景？"
   ]
  },
  {
   "cell_type": "markdown",
   "metadata": {},
   "source": [
    ">- Named entity recognitions(NER): To find each menthon of a named entity in the text and label its type (识别文档中的实体(比如地点，人名，时间等)并加上标签)\n",
    "- NER types are appliction specific:\n",
    "    - Commonly include people, places and organizations\n",
    "    - Biomedical domain: names of genes and proteins\n",
    "    - Education: codes of college courses\n",
    "    - ..."
   ]
  },
  {
   "cell_type": "markdown",
   "metadata": {},
   "source": [
    "#### 5.NLP主要有哪几类任务 ？"
   ]
  },
  {
   "cell_type": "markdown",
   "metadata": {},
   "source": [
    ">NLP任务:\n",
    "- 分类任务(Classification tasks)\n",
    "    - 情感分析\n",
    "    - 文本分类\n",
    "    - 实体识别\n",
    "- 生成任务(Generation tasks)\n",
    "    - 机器翻译\n",
    "    - 对话系统(QA)\n",
    "    - 文本生成"
   ]
  },
  {
   "cell_type": "markdown",
   "metadata": {},
   "source": [
    "### 3.实践题"
   ]
  },
  {
   "cell_type": "markdown",
   "metadata": {},
   "source": [
    "#### 3.1 手动实现TextRank算法 (在新闻数据中随机提取100条新闻训练词向量和做做法测试）"
   ]
  },
  {
   "cell_type": "markdown",
   "metadata": {},
   "source": [
    " 提示：\n",
    " 1. 确定窗口，建立图链接。   \n",
    " 2. 通过词向量相似度确定图上边的权重\n",
    " 3. 根据公式实现算法迭代(d=0.85)"
   ]
  },
  {
   "cell_type": "markdown",
   "metadata": {},
   "source": [
    "训练词向量"
   ]
  },
  {
   "cell_type": "code",
   "execution_count": 7,
   "metadata": {},
   "outputs": [],
   "source": [
    "import numpy as np\n",
    "import pandas as pd\n",
    "from sklearn.feature_extraction.text import TfidfVectorizer\n",
    "import re\n",
    "import jieba\n",
    "import random"
   ]
  },
  {
   "cell_type": "code",
   "execution_count": 3,
   "metadata": {},
   "outputs": [],
   "source": [
    "path = '../lecture5/sqlResult_1558435.csv'\n",
    "news = pd.read_csv(path, encoding='gb18030')"
   ]
  },
  {
   "cell_type": "code",
   "execution_count": 32,
   "metadata": {},
   "outputs": [],
   "source": [
    "news = news.fillna('')"
   ]
  },
  {
   "cell_type": "code",
   "execution_count": 33,
   "metadata": {},
   "outputs": [],
   "source": [
    "content = news['content'].tolist()"
   ]
  },
  {
   "cell_type": "code",
   "execution_count": 45,
   "metadata": {},
   "outputs": [],
   "source": [
    "# 读取中文停用词\n",
    "with open('../lecture10/stopwords.dat', 'r') as f:\n",
    "    stopwords = [w.strip() for w in f.readlines()]"
   ]
  },
  {
   "cell_type": "code",
   "execution_count": 52,
   "metadata": {},
   "outputs": [],
   "source": [
    "def cut(string):\n",
    "    return ' '.join(token for token in jieba.cut(''.join(re.sub('\\\\\\\\n|[\\n\\u3000\\r]', '', string))) \n",
    "                    if token not in stopwords)"
   ]
  },
  {
   "cell_type": "code",
   "execution_count": 87,
   "metadata": {},
   "outputs": [
    {
     "data": {
      "text/plain": [
       "'本周 月 12 日 小米 手机 15 款 机型 外 机型 暂停 更新 发布 含 开发 版 体验版 内测 稳定版 暂不受 影响 确保 工程师 精力 系统优化 工作 有人 猜测 精力 用到 MIUI   研发 之中 MIUI   去年 月 发布 距今已有 一年 有余 更新换代 MIUI   确切 信息 等待 官方消息'"
      ]
     },
     "execution_count": 87,
     "metadata": {},
     "output_type": "execute_result"
    }
   ],
   "source": [
    "# test\n",
    "cut(content[0])"
   ]
  },
  {
   "cell_type": "code",
   "execution_count": 70,
   "metadata": {},
   "outputs": [],
   "source": [
    "sample_content = random.sample(content, 100)"
   ]
  },
  {
   "cell_type": "code",
   "execution_count": 71,
   "metadata": {},
   "outputs": [],
   "source": [
    "new_content = [cut(c) for c in sample_content]"
   ]
  },
  {
   "cell_type": "code",
   "execution_count": 72,
   "metadata": {},
   "outputs": [
    {
     "data": {
      "text/plain": [
       "'新华社 照片 明斯克 2017 年 月 21 日 国际 白俄罗斯 国际 武器装备 军事 技术展 这是 月 20 日 白俄罗斯 首都 明斯克 拍摄 展会 开幕式 跳伞 表演 第八届 白俄罗斯 米 列克斯 2017 国际 武器装备 军事 技术展 20 日 明斯克 开幕 本届 展会 为期 天 吸引 白俄罗斯 俄罗斯 中国 哈萨克斯坦 德国 斯洛伐克 乌克兰 等国 140 多家 参展商 参展 总计 展出 350 多件 武器装备 军用 技术 产品 新华社 记者 魏忠杰 摄'"
      ]
     },
     "execution_count": 72,
     "metadata": {},
     "output_type": "execute_result"
    }
   ],
   "source": [
    "new_content[1]"
   ]
  },
  {
   "cell_type": "code",
   "execution_count": 73,
   "metadata": {},
   "outputs": [],
   "source": [
    "vectorizer = TfidfVectorizer(token_pattern='(?u)\\\\b\\\\w+\\\\b') # 默认pattern是只匹配长度至少为2的词"
   ]
  },
  {
   "cell_type": "code",
   "execution_count": 74,
   "metadata": {},
   "outputs": [],
   "source": [
    "X = vectorizer.fit_transform(new_content)"
   ]
  },
  {
   "cell_type": "code",
   "execution_count": 75,
   "metadata": {
    "scrolled": true
   },
   "outputs": [
    {
     "data": {
      "text/plain": [
       "(100, 5735)"
      ]
     },
     "execution_count": 75,
     "metadata": {},
     "output_type": "execute_result"
    }
   ],
   "source": [
    "X.shape"
   ]
  },
  {
   "cell_type": "code",
   "execution_count": 83,
   "metadata": {},
   "outputs": [],
   "source": [
    "def get_wv(word):\n",
    "    return X[:, vectorizer.vocabulary_[word]].toarray()"
   ]
  },
  {
   "cell_type": "code",
   "execution_count": 100,
   "metadata": {},
   "outputs": [],
   "source": [
    "wordvec_dict = {}\n",
    "for word in vectorizer.vocabulary_.keys():\n",
    "    wordvec_dict[word] = get_wv(word)"
   ]
  },
  {
   "cell_type": "markdown",
   "metadata": {},
   "source": [
    "TextRank算法实现"
   ]
  },
  {
   "cell_type": "code",
   "execution_count": 88,
   "metadata": {},
   "outputs": [],
   "source": [
    "from collections import defaultdict"
   ]
  },
  {
   "cell_type": "code",
   "execution_count": 189,
   "metadata": {},
   "outputs": [],
   "source": [
    "class TextRank():\n",
    "    \n",
    "    def __init__(self, content, wv):\n",
    "        self.content = content\n",
    "        self.wv = wv\n",
    "        self.wordmap = defaultdict(set)\n",
    "        \n",
    "    # 添加关系\n",
    "    def add_to_wordmap(self, words):\n",
    "        for i in range(len(words) - 1):\n",
    "            for j in range(len(words[i:]) - 1):\n",
    "                # 因为要用词向量计算权重，因此如果某个词没有词向量，则不建立联系\n",
    "                if words[i] != words[j] and words[i] in self.wv and words[j] in self.wv:\n",
    "                    self.wordmap[words[i]].add(words[j])\n",
    "                    self.wordmap[words[j]].add(words[i])\n",
    "    \n",
    "    # 根据窗口大小构建关系图\n",
    "    def createNodes(self, window=3):\n",
    "        word_list = self.content.split()\n",
    "        if len(word_list) < window:\n",
    "            self.add_to_wordmap(word_list)\n",
    "        else:\n",
    "            for i in range(len(word_list) - window + 1):\n",
    "                self.add_to_wordmap(word_list[i:i+window])\n",
    "    \n",
    "    def cosine(self, word1, word2):\n",
    "        wv1 = self.wv[word1]\n",
    "        wv2 = self.wv[word2]\n",
    "        return np.dot(wv1.T, wv2)[0][0] / (np.linalg.norm(wv1) * np.linalg.norm(wv2))\n",
    "    \n",
    "    # 根据关系构建矩阵\n",
    "    def createMatrix(self):\n",
    "        self.words = list(self.wordmap.keys())\n",
    "        self.matrix = np.zeros([len(self.words), len(self.words)])\n",
    "        self.word_index = {}\n",
    "        \n",
    "        for i, word in enumerate(self.words):\n",
    "            self.word_index[word] = i\n",
    "        \n",
    "        for word_i in self.words:\n",
    "            for word_j in self.wordmap[word_i]:\n",
    "                weight = self.cosine(word_i, word_j) / sum([self.cosine(word_j, word_k) for word_k in self.wordmap[word_j]])\n",
    "                self.matrix[self.word_index[word_i], self.word_index[word_j]] = weight\n",
    "    \n",
    "    def calculate(self, num_iters = 1000, d=0.85):\n",
    "        self.WS = np.ones([len(self.words), 1]) / len(self.words)\n",
    "        for i in range(num_iters):\n",
    "            self.WS = (1 - d) + d * np.dot(self.matrix, self.WS)\n",
    "    \n",
    "    def get_result(self):\n",
    "        ws_dict = {}\n",
    "        for word in self.words:\n",
    "            ws_dict[word] = self.WS[self.word_index[word]][0]\n",
    "        return ws_dict"
   ]
  },
  {
   "cell_type": "code",
   "execution_count": 357,
   "metadata": {},
   "outputs": [],
   "source": [
    "# test\n",
    "def test_textrank(content, topn=10):\n",
    "    tk = TextRank(content, wordvec_dict)\n",
    "    tk.createNodes(window=3)\n",
    "    tk.createMatrix()\n",
    "    tk.calculate(num_iters=1000, d=0.85)\n",
    "    ws = tk.get_result()\n",
    "    for item in sorted(ws.items(), key=lambda x: x[1], reverse=True)[:10]:\n",
    "        print('word:{0:{2}<5}, weight:{1:.4f}'.format(item[0], item[1], chr(12288)))"
   ]
  },
  {
   "cell_type": "code",
   "execution_count": 361,
   "metadata": {
    "scrolled": true
   },
   "outputs": [
    {
     "name": "stdout",
     "output_type": "stream",
     "text": [
      "word:投资　　　, weight:6.2971\n",
      "word:上市公司　, weight:4.3141\n",
      "word:资金　　　, weight:4.1200\n",
      "word:公司　　　, weight:3.9148\n",
      "word:理财产品　, weight:2.6468\n",
      "word:闲置　　　, weight:2.1827\n",
      "word:资产　　　, weight:1.9702\n",
      "word:理财　　　, weight:1.9613\n",
      "word:主营业务　, weight:1.9208\n",
      "word:授权　　　, weight:1.8136\n"
     ]
    }
   ],
   "source": [
    "test_textrank(random.choice(new_content))"
   ]
  },
  {
   "cell_type": "markdown",
   "metadata": {},
   "source": [
    "### 3.2 使用词向量和k-means的方法寻找关键词"
   ]
  },
  {
   "cell_type": "markdown",
   "metadata": {},
   "source": [
    "提示：   \n",
    "1.使用3.1训练好的词向量   \n",
    "2.可使用sklearn等机器学习库"
   ]
  },
  {
   "cell_type": "code",
   "execution_count": 215,
   "metadata": {},
   "outputs": [],
   "source": [
    "from sklearn.cluster import KMeans"
   ]
  },
  {
   "cell_type": "code",
   "execution_count": 301,
   "metadata": {},
   "outputs": [],
   "source": [
    "class keyword_kmeans():\n",
    "    \n",
    "    def __init__(self, train_wv, wv_dict, n_clusters=3, max_iter=500):\n",
    "        self.centers = KMeans(n_clusters=n_clusters, max_iter=max_iter).fit(train_wv).cluster_centers_\n",
    "        self.wv_dict = wv_dict\n",
    "        \n",
    "    def distance(self, wordvec):\n",
    "        dist_l = []\n",
    "        for i, center in enumerate(self.centers):\n",
    "            dist = np.dot(center, wordvec)[0] / (np.linalg.norm(center) * np.linalg.norm(wordvec))\n",
    "            dist_l.append((i, dist))\n",
    "        return max(dist_l, key=lambda x: x[1])\n",
    "    \n",
    "    def calculate(self, content, topn=10):\n",
    "        words = list(set(content.split()))\n",
    "        self.keywords = sorted([(word, self.distance(self.wv_dict[word])) for word in words if word in self.wv_dict], \n",
    "                               key=lambda x:x[1][1], reverse=True)[:topn]\n",
    "    \n",
    "    def get_result(self, print_out=True):\n",
    "        if print_out:\n",
    "            for word, (center, dist) in self.keywords:\n",
    "                print('word:{0:{3}<4}, center:{1:<2}, distance:{2:.4f}'.format(word, center, dist, chr(12288)))\n",
    "        else:\n",
    "            return self.keywords"
   ]
  },
  {
   "cell_type": "code",
   "execution_count": 311,
   "metadata": {},
   "outputs": [],
   "source": [
    "kk = keyword_kmeans(X.T, wordvec_dict, n_clusters=3)"
   ]
  },
  {
   "cell_type": "code",
   "execution_count": 324,
   "metadata": {},
   "outputs": [],
   "source": [
    "kk.calculate(random.choice(new_content))"
   ]
  },
  {
   "cell_type": "code",
   "execution_count": 325,
   "metadata": {},
   "outputs": [
    {
     "name": "stdout",
     "output_type": "stream",
     "text": [
      "word:新华社　, center:1 , distance:0.9620\n",
      "word:照片　　, center:1 , distance:0.9600\n",
      "word:日　　　, center:1 , distance:0.9560\n",
      "word:月　　　, center:1 , distance:0.9453\n",
      "word:2017, center:1 , distance:0.9024\n",
      "word:年　　　, center:1 , distance:0.8927\n",
      "word:当日　　, center:2 , distance:0.6968\n",
      "word:记者　　, center:0 , distance:0.5818\n",
      "word:一场　　, center:0 , distance:0.2282\n",
      "word:31　　, center:1 , distance:0.2279\n"
     ]
    }
   ],
   "source": [
    "kk.get_result()"
   ]
  },
  {
   "cell_type": "markdown",
   "metadata": {},
   "source": [
    "这里出现了一些问题，因为所有的新闻里都包含了一些词，比如新华社，日期等，这些都被归类成了一个cluster，进而干扰了后续的聚类结果。尝试去掉这些词后进行训练"
   ]
  },
  {
   "cell_type": "code",
   "execution_count": 326,
   "metadata": {},
   "outputs": [],
   "source": [
    "stopwords += ['新华社', '日', '月', '2017', '记者', '摄', '照片', '年']"
   ]
  },
  {
   "cell_type": "code",
   "execution_count": 327,
   "metadata": {},
   "outputs": [],
   "source": [
    "new_content2 = [cut(c) for c in sample_content]"
   ]
  },
  {
   "cell_type": "code",
   "execution_count": 330,
   "metadata": {},
   "outputs": [],
   "source": [
    "vectorizer2 = TfidfVectorizer(token_pattern='(?u)\\\\b\\\\w+\\\\b') # 默认pattern是只匹配长度至少为2的词\n",
    "X2 = vectorizer2.fit_transform(new_content2)"
   ]
  },
  {
   "cell_type": "code",
   "execution_count": 331,
   "metadata": {},
   "outputs": [
    {
     "data": {
      "text/plain": [
       "(100, 5727)"
      ]
     },
     "execution_count": 331,
     "metadata": {},
     "output_type": "execute_result"
    }
   ],
   "source": [
    "X2.shape"
   ]
  },
  {
   "cell_type": "code",
   "execution_count": 332,
   "metadata": {},
   "outputs": [],
   "source": [
    "def get_wv2(word):\n",
    "    return X2[:, vectorizer2.vocabulary_[word]].toarray()\n",
    "wordvec_dict2 = {}\n",
    "for word in vectorizer2.vocabulary_.keys():\n",
    "    wordvec_dict2[word] = get_wv2(word)"
   ]
  },
  {
   "cell_type": "code",
   "execution_count": 339,
   "metadata": {},
   "outputs": [],
   "source": [
    "def test_kmeans(content):\n",
    "    kk = keyword_kmeans(X2.T, wordvec_dict2, n_clusters=6)\n",
    "    kk.calculate(content)\n",
    "    kk.get_result()"
   ]
  },
  {
   "cell_type": "code",
   "execution_count": 340,
   "metadata": {},
   "outputs": [
    {
     "name": "stdout",
     "output_type": "stream",
     "text": [
      "word:轮　　　, center:2 , distance:0.8697\n",
      "word:甲级联赛, center:2 , distance:0.8508\n",
      "word:足球　　, center:2 , distance:0.7995\n",
      "word:客场　　, center:2 , distance:0.7805\n",
      "word:中　　　, center:5 , distance:0.7800\n",
      "word:29　　, center:2 , distance:0.7578\n",
      "word:2016, center:2 , distance:0.7413\n",
      "word:球员　　, center:2 , distance:0.7134\n",
      "word:当日　　, center:5 , distance:0.7053\n",
      "word:进球　　, center:2 , distance:0.7043\n"
     ]
    }
   ],
   "source": [
    "test_kmeans(random.choice(new_content))"
   ]
  },
  {
   "cell_type": "markdown",
   "metadata": {},
   "source": [
    "对比一下textrank和kmeans"
   ]
  },
  {
   "cell_type": "code",
   "execution_count": 365,
   "metadata": {},
   "outputs": [
    {
     "name": "stdout",
     "output_type": "stream",
     "text": [
      "TextRank:\n",
      "word:精神　　　, weight:3.1102\n",
      "word:飞行　　　, weight:2.8655\n",
      "word:战略　　　, weight:2.6986\n",
      "word:新　　　　, weight:2.6001\n",
      "word:四个　　　, weight:2.3724\n",
      "word:航天　　　, weight:2.3717\n",
      "word:圆满成功　, weight:2.3199\n",
      "word:天舟　　　, weight:1.9669\n",
      "word:习近平　　, weight:1.9093\n",
      "word:党　　　　, weight:1.8580\n",
      "\n",
      "Kmeans:\n",
      "word:全国　　, center:3 , distance:0.8853\n",
      "word:27　　, center:3 , distance:0.8068\n",
      "word:中　　　, center:2 , distance:0.7285\n",
      "word:届　　　, center:2 , distance:0.6595\n",
      "word:北京　　, center:3 , distance:0.5266\n",
      "word:完　　　, center:0 , distance:0.5263\n",
      "word:日电　　, center:0 , distance:0.5061\n",
      "word:这是　　, center:3 , distance:0.4838\n",
      "word:世界　　, center:2 , distance:0.4727\n",
      "word:中国　　, center:0 , distance:0.4687\n"
     ]
    }
   ],
   "source": [
    "c = random.choice(new_content)\n",
    "print('TextRank:')\n",
    "test_textrank(c)\n",
    "print()\n",
    "print('Kmeans:')\n",
    "test_kmeans(c)"
   ]
  },
  {
   "cell_type": "markdown",
   "metadata": {},
   "source": [
    "简评：\n",
    ">可以看到，在小样本中，TextRank的效果比kmeans好很多。kmeans的主要问题在于cluster的数量需要人为设定，而且需要手动去掉特殊的停用词。\n",
    "\n",
    ">kmeans的改进方向：修改distance的计算方法，引入大样本，对不同的cluster进行测试...这里主要就实现一下kmeans提取keywords算法，具体优化就不在这里进行了。"
   ]
  },
  {
   "cell_type": "markdown",
   "metadata": {},
   "source": [
    "### 3.3  提取新闻人物里的对话。(使用以上提取小数据即可）"
   ]
  },
  {
   "cell_type": "markdown",
   "metadata": {},
   "source": [
    "提示：    \n",
    "1.寻找预料里具有表示说的意思。    \n",
    "2.使用语法分析提取句子结构。    \n",
    "3.检测谓语是否有表示说的意思。"
   ]
  },
  {
   "cell_type": "code",
   "execution_count": 366,
   "metadata": {},
   "outputs": [],
   "source": [
    "import pyltp\n",
    "from gensim.models import Word2Vec\n",
    "from pyltp import Segmentor\n",
    "import jieba\n",
    "from gensim.models.word2vec import LineSentence\n",
    "from pyltp import  SentenceSplitter,NamedEntityRecognizer,Postagger,Parser,Segmentor\n",
    "from gensim import models\n",
    "import numpy as np"
   ]
  },
  {
   "cell_type": "code",
   "execution_count": 367,
   "metadata": {},
   "outputs": [],
   "source": [
    "cws_model = \"ltp_data_v3.4.0/cws.model\"\n",
    "pos_model = \"ltp_data_v3.4.0/pos.model\"\n",
    "par_model = \"ltp_data_v3.4.0/parser.model\"\n",
    "ner_model = \"ltp_data_v3.4.0/ner.model\""
   ]
  },
  {
   "cell_type": "code",
   "execution_count": 368,
   "metadata": {},
   "outputs": [],
   "source": [
    "def get_word_list(sentence,model):\n",
    "    #得到分词\n",
    "    segmentor = Segmentor()\n",
    "    segmentor.load(model)\n",
    "    word_list = list(segmentor.segment(sentence))\n",
    "    segmentor.release()\n",
    "    return word_list\n",
    "\n",
    "def get_postag_list(word_list,model):\n",
    "    #得到词性标注\n",
    "    postag = Postagger()\n",
    "    postag.load(model)\n",
    "    postag_list = list(postag.postag(word_list))\n",
    "    postag.release()\n",
    "    return postag_list\n",
    "\n",
    "def get_parser_list(word_list,postag_list,model):\n",
    "    #得到依存关系\n",
    "    parser = Parser()\n",
    "    parser.load(model)\n",
    "    arcs = parser.parse(word_list,postag_list)\n",
    "    arc_list = [(arc.head,arc.relation) for arc in arcs]\n",
    "    parser.release()\n",
    "    return arc_list"
   ]
  },
  {
   "cell_type": "code",
   "execution_count": 393,
   "metadata": {},
   "outputs": [],
   "source": [
    "test_news = random.choice(sample_content)"
   ]
  },
  {
   "cell_type": "code",
   "execution_count": 402,
   "metadata": {},
   "outputs": [
    {
     "data": {
      "text/plain": [
       "'余贺新在颁奖仪式上。新华社记者夏一方摄新华社青岛4月16日新媒体专电（记者张旭东、周欣、张薇）2017年全国游泳冠军赛16日在青岛继续展开较量，里约奥运会银牌得主徐嘉余在打破男子100米仰泳亚洲纪录和200米仰泳全国纪录后，又在半决赛中打破男子50米仰泳全国纪录。伦敦奥运会冠军叶诗文在副项女子200米仰泳决赛中名列第三。男子50米仰泳半决赛中，浙江选手徐嘉余以24秒42名列前茅，打破全国纪录，比此前的全国纪录快了0.16秒。广东队余贺新以22秒46在男子50米自由泳项目中折桂，银牌和铜牌被辽宁队包揽，分属林永庆和老将班豹。余贺新在比赛中出发。新华社记者夏一方摄比赛期间患感冒的余贺新说：“今天状态一般，仅比昨天快了一点点。世锦赛尽力去游，接着就是全运会，赛程挺煎熬的。全运会是零金牌目标，没有包袱。”在女子200米仰泳决赛前，里约奥运会铜牌得主傅园慧在场边大声为自己的队友叶诗文加油。前100米，叶诗文位居头名，第三个50米被浙江队友柳雅欣超越，最后50米湖北队陈洁后来居上。叶诗文在比赛中。新华社记者夏一方摄最终，陈洁夺冠，柳雅欣摘银，叶诗文排名第三。11日打破男子50米蝶泳全国纪录的浙江队李朱濠继续神勇表现，以51秒63摘得100米蝶泳冠军，山东队张麒斌获得第二名，33岁的广东老将周嘉威摘得铜牌。男子100米蝶泳冠军李朱濠（右二），亚军张麒斌（左一）和季军周嘉威（右一）在颁奖仪式上合影新华社记者朱峥摄“现在我更多是享受比赛，作为教练员去比赛，就是欣赏一下李朱濠等比我年轻时水平高的运动员怎么游的，怎么训练的，帮助我教导我的运动员。”周嘉威说。他比决赛第二年龄大的选手大了10岁，比年龄最小的选手大了18岁。15岁的河北小将李冰洁在女子800米自由泳决赛中夺冠，这是她继400米自由泳获胜后的第二金。八一队张雨涵和山东队毕雯馨分获亚军和季军。李冰洁在比赛后。新华社记者夏一方摄赛后，李冰洁的国家队教练刘海涛对弟子的整体表现表示满意。他说：“李冰洁在2015年第一次拿了冠军。她有自己的特性，后来一年的起伏比较大，有一些身体问题需要调节，还有一些技术不足，自己控制不了，需要继续调整，向东京奥运会努力。”上海名将陆滢夺得女子50米蝶泳冠军，江苏队张雨霏和浙江队林欣彤分获第二、第三名。在男女4×100米自由泳接力决赛中，辽宁队夺冠，亚军和季军分属北京队和上海队。编辑：黄杰；签发：高鹏版权归新华社所有，未经许可严禁转载'"
      ]
     },
     "execution_count": 402,
     "metadata": {},
     "output_type": "execute_result"
    }
   ],
   "source": [
    "test_news = re.sub('\\\\\\\\n|[\\n\\u3000\\r]', '', test_news)\n",
    "test_news"
   ]
  },
  {
   "cell_type": "code",
   "execution_count": 397,
   "metadata": {},
   "outputs": [],
   "source": [
    "def news_parser(news):\n",
    "    word_list = get_word_list(news,cws_model)\n",
    "    postag_list = get_postag_list(word_list,pos_model)\n",
    "    parser_list = get_parser_list(word_list,postag_list,par_model)\n",
    "    for i in range(len(word_list)):\n",
    "        print(i+1, word_list[i],parser_list[i])"
   ]
  },
  {
   "cell_type": "code",
   "execution_count": 400,
   "metadata": {
    "scrolled": true
   },
   "outputs": [
    {
     "name": "stdout",
     "output_type": "stream",
     "text": [
      "1 余贺新 (2, 'SBV')\n",
      "2 在 (10, 'ADV')\n",
      "3 颁奖 (4, 'ATT')\n",
      "4 仪式 (5, 'ATT')\n",
      "5 上 (2, 'POB')\n",
      "6 。 (2, 'WP')\n",
      "7 新华社 (8, 'ATT')\n",
      "8 记者 (9, 'ATT')\n",
      "9 夏一方 (10, 'SBV')\n",
      "10 摄 (0, 'HED')\n",
      "11 新华社 (17, 'ATT')\n",
      "12 青岛 (17, 'ATT')\n",
      "13 4月 (14, 'ATT')\n",
      "14 16日 (17, 'ATT')\n",
      "15 新 (16, 'ATT')\n",
      "16 媒体 (17, 'ATT')\n",
      "17 专电 (10, 'VOB')\n",
      "18 （ (20, 'WP')\n",
      "19 记者 (20, 'ATT')\n",
      "20 张旭东 (17, 'COO')\n",
      "21 、 (20, 'WP')\n",
      "22 周欣 (20, 'COO')\n",
      "23 、 (22, 'WP')\n",
      "24 张薇 (20, 'COO')\n",
      "25 ） (20, 'WP')\n",
      "26 2017年 (29, 'ATT')\n",
      "27 全国 (29, 'ATT')\n",
      "28 游泳 (29, 'ATT')\n",
      "29 冠军赛 (33, 'SBV')\n",
      "30 16日 (33, 'ADV')\n",
      "31 在 (33, 'ADV')\n",
      "32 青岛 (31, 'POB')\n",
      "33 继续 (10, 'COO')\n",
      "34 展开 (33, 'COO')\n",
      "35 较量 (34, 'VOB')\n",
      "36 ， (33, 'WP')\n",
      "37 里约 (38, 'ATT')\n",
      "38 奥运会 (39, 'ATT')\n",
      "39 银牌 (40, 'ATT')\n",
      "40 得主 (41, 'ATT')\n",
      "41 徐嘉余 (62, 'SBV')\n",
      "42 在 (62, 'ADV')\n",
      "43 打破 (56, 'ATT')\n",
      "44 男子 (49, 'ATT')\n",
      "45 100 (46, 'ATT')\n",
      "46 米 (47, 'ATT')\n",
      "47 仰泳 (49, 'ATT')\n",
      "48 亚洲 (49, 'ATT')\n",
      "49 纪录 (55, 'ATT')\n",
      "50 和 (53, 'LAD')\n",
      "51 200 (52, 'ATT')\n",
      "52 米 (53, 'ATT')\n",
      "53 仰泳 (49, 'COO')\n",
      "54 全国 (55, 'ATT')\n",
      "55 纪录 (43, 'VOB')\n",
      "56 后 (42, 'POB')\n",
      "57 ， (42, 'WP')\n",
      "58 又 (62, 'ADV')\n",
      "59 在 (62, 'ADV')\n",
      "60 半决赛 (61, 'ATT')\n",
      "61 中 (59, 'POB')\n",
      "62 打破 (33, 'COO')\n",
      "63 男子 (66, 'ATT')\n",
      "64 50 (65, 'ATT')\n",
      "65 米 (66, 'ATT')\n",
      "66 仰泳 (68, 'ATT')\n",
      "67 全国 (68, 'ATT')\n",
      "68 纪录 (62, 'VOB')\n",
      "69 。 (10, 'WP')\n",
      "70 伦敦 (71, 'ATT')\n",
      "71 奥运会 (72, 'ATT')\n",
      "72 冠军 (73, 'ATT')\n",
      "73 叶 (74, 'ATT')\n",
      "74 诗文 (83, 'SBV')\n",
      "75 在 (83, 'ADV')\n",
      "76 副项 (77, 'ATT')\n",
      "77 女子 (80, 'ATT')\n",
      "78 200 (79, 'ATT')\n",
      "79 米 (80, 'ATT')\n",
      "80 仰泳 (81, 'ATT')\n",
      "81 决赛 (82, 'ATT')\n",
      "82 中 (75, 'POB')\n",
      "83 名列 (10, 'COO')\n",
      "84 第三 (83, 'VOB')\n",
      "85 。 (10, 'WP')\n",
      "86 男子 (90, 'ATT')\n",
      "87 50 (88, 'ATT')\n",
      "88 米 (89, 'ATT')\n",
      "89 仰泳 (90, 'ATT')\n",
      "90 半决赛 (91, 'ATT')\n",
      "91 中 (100, 'ADV')\n",
      "92 ， (91, 'WP')\n",
      "93 浙江 (94, 'ATT')\n",
      "94 选手 (95, 'ATT')\n",
      "95 徐嘉余 (100, 'SBV')\n",
      "96 以 (100, 'ADV')\n",
      "97 24 (98, 'ATT')\n",
      "98 秒 (99, 'ATT')\n",
      "99 42 (96, 'POB')\n",
      "100 名列前茅 (10, 'COO')\n",
      "101 ， (100, 'WP')\n",
      "102 打破 (100, 'COO')\n",
      "103 全国 (104, 'ATT')\n",
      "104 纪录 (102, 'VOB')\n",
      "105 ， (100, 'WP')\n",
      "106 比 (111, 'ADV')\n",
      "107 此前 (110, 'ATT')\n",
      "108 的 (107, 'RAD')\n",
      "109 全国 (110, 'ATT')\n",
      "110 纪录 (106, 'POB')\n",
      "111 快 (100, 'COO')\n",
      "112 了 (111, 'RAD')\n",
      "113 0.16 (114, 'ATT')\n",
      "114 秒 (111, 'CMP')\n",
      "115 。 (10, 'WP')\n",
      "116 广东队 (117, 'ATT')\n",
      "117 余 (118, 'SBV')\n",
      "118 贺 (10, 'COO')\n",
      "119 新 (131, 'ADV')\n",
      "120 以 (131, 'ADV')\n",
      "121 22 (122, 'ATT')\n",
      "122 秒 (123, 'ATT')\n",
      "123 46 (120, 'POB')\n",
      "124 在 (131, 'ADV')\n",
      "125 男子 (128, 'ATT')\n",
      "126 50 (127, 'ATT')\n",
      "127 米 (128, 'ATT')\n",
      "128 自由泳 (129, 'ATT')\n",
      "129 项目 (130, 'ATT')\n",
      "130 中 (124, 'POB')\n",
      "131 折桂 (118, 'COO')\n",
      "132 ， (131, 'WP')\n",
      "133 银牌 (138, 'FOB')\n",
      "134 和 (135, 'LAD')\n",
      "135 铜牌 (133, 'COO')\n",
      "136 被 (138, 'ADV')\n",
      "137 辽宁队 (136, 'POB')\n",
      "138 包揽 (131, 'COO')\n",
      "139 ， (138, 'WP')\n",
      "140 分属 (141, 'ATT')\n",
      "141 林永庆 (138, 'COO')\n",
      "142 和 (144, 'LAD')\n",
      "143 老将 (144, 'ATT')\n",
      "144 班豹 (141, 'COO')\n",
      "145 。 (10, 'WP')\n",
      "146 余贺 (151, 'SBV')\n",
      "147 新 (151, 'ADV')\n",
      "148 在 (151, 'ADV')\n",
      "149 比赛 (150, 'ATT')\n",
      "150 中 (148, 'POB')\n",
      "151 出发 (10, 'COO')\n",
      "152 。 (10, 'WP')\n",
      "153 新华社 (154, 'ATT')\n",
      "154 记者 (155, 'ATT')\n",
      "155 夏一方 (156, 'SBV')\n",
      "156 摄 (158, 'ATT')\n",
      "157 比赛 (156, 'VOB')\n",
      "158 期间 (159, 'ADV')\n",
      "159 患 (162, 'ATT')\n",
      "160 感冒 (159, 'VOB')\n",
      "161 的 (159, 'RAD')\n",
      "162 余贺 (163, 'ATT')\n",
      "163 新说 (10, 'COO')\n",
      "164 ： (163, 'WP')\n",
      "165 “ (168, 'WP')\n",
      "166 今天 (167, 'ATT')\n",
      "167 状态 (168, 'SBV')\n",
      "168 一般 (163, 'COO')\n",
      "169 ， (168, 'WP')\n",
      "170 仅 (173, 'ADV')\n",
      "171 比 (173, 'ADV')\n",
      "172 昨天 (171, 'POB')\n",
      "173 快 (168, 'COO')\n",
      "174 了 (173, 'RAD')\n",
      "175 一点点 (173, 'CMP')\n",
      "176 。 (168, 'WP')\n",
      "177 世锦赛 (180, 'SBV')\n",
      "178 尽力 (180, 'ADV')\n",
      "179 去 (180, 'ADV')\n",
      "180 游 (168, 'COO')\n",
      "181 ， (180, 'WP')\n",
      "182 接着 (184, 'ADV')\n",
      "183 就 (184, 'ADV')\n",
      "184 是 (180, 'COO')\n",
      "185 全运会 (184, 'VOB')\n",
      "186 ， (184, 'WP')\n",
      "187 赛程 (189, 'SBV')\n",
      "188 挺 (189, 'ADV')\n",
      "189 煎熬 (184, 'COO')\n",
      "190 的 (189, 'RAD')\n",
      "191 。 (168, 'WP')\n",
      "192 全运会 (193, 'SBV')\n",
      "193 是 (168, 'COO')\n",
      "194 零 (195, 'ATT')\n",
      "195 金牌 (196, 'ATT')\n",
      "196 目标 (193, 'VOB')\n",
      "197 ， (193, 'WP')\n",
      "198 没有 (193, 'COO')\n",
      "199 包袱 (198, 'VOB')\n",
      "200 。 (193, 'WP')\n",
      "201 ” (193, 'WP')\n",
      "202 在 (224, 'ADV')\n",
      "203 女子 (206, 'ATT')\n",
      "204 200 (205, 'ATT')\n",
      "205 米 (206, 'ATT')\n",
      "206 仰泳 (207, 'ATT')\n",
      "207 决赛 (208, 'ATT')\n",
      "208 前 (202, 'POB')\n",
      "209 ， (202, 'WP')\n",
      "210 里约 (211, 'ATT')\n",
      "211 奥运会 (212, 'ATT')\n",
      "212 铜牌 (213, 'ATT')\n",
      "213 得主 (214, 'ATT')\n",
      "214 傅园慧 (224, 'SBV')\n",
      "215 在 (224, 'ADV')\n",
      "216 场边 (215, 'POB')\n",
      "217 大声 (224, 'ADV')\n",
      "218 为 (224, 'ADV')\n",
      "219 自己 (221, 'ATT')\n",
      "220 的 (219, 'RAD')\n",
      "221 队友 (222, 'ATT')\n",
      "222 叶 (223, 'ATT')\n",
      "223 诗文 (218, 'POB')\n",
      "224 加油 (168, 'COO')\n",
      "225 。 (168, 'WP')\n",
      "226 前 (228, 'ATT')\n",
      "227 100 (228, 'ATT')\n",
      "228 米 (232, 'ADV')\n",
      "229 ， (228, 'WP')\n",
      "230 叶 (231, 'ATT')\n",
      "231 诗文 (232, 'SBV')\n",
      "232 位居 (168, 'COO')\n",
      "233 头名 (232, 'VOB')\n",
      "234 ， (232, 'WP')\n",
      "235 第三 (236, 'ATT')\n",
      "236 个 (238, 'ATT')\n",
      "237 50 (238, 'ATT')\n",
      "238 米 (243, 'ADV')\n",
      "239 被 (243, 'ADV')\n",
      "240 浙江 (241, 'ATT')\n",
      "241 队友 (242, 'ATT')\n",
      "242 柳雅欣 (239, 'POB')\n",
      "243 超越 (232, 'COO')\n",
      "244 ， (243, 'WP')\n",
      "245 最后 (246, 'ATT')\n",
      "246 50 (247, 'ATT')\n",
      "247 米 (248, 'ATT')\n",
      "248 湖北队 (249, 'ATT')\n",
      "249 陈洁 (250, 'SBV')\n",
      "250 后来居上 (243, 'COO')\n",
      "251 。 (168, 'WP')\n",
      "252 叶 (253, 'ATT')\n",
      "253 诗文 (254, 'SBV')\n",
      "254 在 (261, 'ADV')\n",
      "255 比赛 (256, 'ATT')\n",
      "256 中 (254, 'POB')\n",
      "257 。 (254, 'WP')\n",
      "258 新华社 (259, 'ATT')\n",
      "259 记者 (260, 'ATT')\n",
      "260 夏一方 (261, 'SBV')\n",
      "261 摄 (168, 'COO')\n",
      "262 最终 (265, 'ADV')\n",
      "263 ， (262, 'WP')\n",
      "264 陈洁 (265, 'SBV')\n",
      "265 夺冠 (261, 'COO')\n",
      "266 ， (261, 'WP')\n",
      "267 柳 (268, 'ATT')\n",
      "268 雅欣 (269, 'SBV')\n",
      "269 摘 (261, 'COO')\n",
      "270 银 (269, 'VOB')\n",
      "271 ， (261, 'WP')\n",
      "272 叶 (273, 'ATT')\n",
      "273 诗文 (274, 'SBV')\n",
      "274 排名 (261, 'COO')\n",
      "275 第三 (274, 'VOB')\n",
      "276 。 (168, 'WP')\n",
      "277 11日 (278, 'ADV')\n",
      "278 打破 (287, 'ATT')\n",
      "279 男子 (282, 'ATT')\n",
      "280 50 (281, 'ATT')\n",
      "281 米 (282, 'ATT')\n",
      "282 蝶泳 (284, 'ATT')\n",
      "283 全国 (284, 'ATT')\n",
      "284 纪录 (278, 'VOB')\n",
      "285 的 (278, 'RAD')\n",
      "286 浙江队 (287, 'ATT')\n",
      "287 李朱濠 (288, 'SBV')\n",
      "288 继续 (168, 'COO')\n",
      "289 神勇 (290, 'ADV')\n",
      "290 表现 (288, 'VOB')\n",
      "291 ， (288, 'WP')\n",
      "292 以 (296, 'ADV')\n",
      "293 51 (294, 'ATT')\n",
      "294 秒 (295, 'ATT')\n",
      "295 63 (292, 'POB')\n",
      "296 摘 (288, 'COO')\n",
      "297 得 (296, 'CMP')\n",
      "298 100 (299, 'ATT')\n",
      "299 米 (300, 'ATT')\n",
      "300 蝶泳 (301, 'ATT')\n",
      "301 冠军 (296, 'VOB')\n",
      "302 ， (288, 'WP')\n",
      "303 山东队 (304, 'ATT')\n",
      "304 张麒斌 (305, 'SBV')\n",
      "305 获得 (288, 'COO')\n",
      "306 第二 (307, 'ATT')\n",
      "307 名 (305, 'VOB')\n",
      "308 ， (305, 'WP')\n",
      "309 33 (310, 'ATT')\n",
      "310 岁 (313, 'ATT')\n",
      "311 的 (310, 'RAD')\n",
      "312 广东 (313, 'ATT')\n",
      "313 老将 (314, 'ATT')\n",
      "314 周嘉威 (315, 'SBV')\n",
      "315 摘 (305, 'COO')\n",
      "316 得 (315, 'RAD')\n",
      "317 铜牌 (315, 'VOB')\n",
      "318 。 (168, 'WP')\n",
      "319 男子 (322, 'ATT')\n",
      "320 100 (321, 'ATT')\n",
      "321 米 (322, 'ATT')\n",
      "322 蝶泳 (323, 'ATT')\n",
      "323 冠军 (324, 'ATT')\n",
      "324 李朱濠 (168, 'COO')\n",
      "325 （ (327, 'WP')\n",
      "326 右 (327, 'ATT')\n",
      "327 二 (324, 'COO')\n",
      "328 ） (327, 'WP')\n",
      "329 ， (168, 'WP')\n",
      "330 亚军 (331, 'ATT')\n",
      "331 张麒斌 (168, 'COO')\n",
      "332 （ (334, 'WP')\n",
      "333 左 (334, 'ATT')\n",
      "334 一 (331, 'COO')\n",
      "335 ） (334, 'WP')\n",
      "336 和 (338, 'LAD')\n",
      "337 季军 (338, 'ATT')\n",
      "338 周嘉威 (331, 'COO')\n",
      "339 （ (341, 'WP')\n",
      "340 右 (341, 'ATT')\n",
      "341 一 (338, 'COO')\n",
      "342 ） (341, 'WP')\n",
      "343 在 (347, 'ADV')\n",
      "344 颁奖 (345, 'ATT')\n",
      "345 仪式 (346, 'ATT')\n",
      "346 上 (343, 'POB')\n",
      "347 合影 (168, 'COO')\n",
      "348 新华社 (349, 'ATT')\n",
      "349 记者 (350, 'ATT')\n",
      "350 朱峥 (351, 'SBV')\n",
      "351 摄 (347, 'COO')\n",
      "352 “ (357, 'WP')\n",
      "353 现在 (357, 'ADV')\n",
      "354 我 (357, 'SBV')\n",
      "355 更 (356, 'ADV')\n",
      "356 多 (357, 'ADV')\n",
      "357 是 (351, 'VOB')\n",
      "358 享受 (357, 'VOB')\n",
      "359 比赛 (358, 'VOB')\n",
      "360 ， (357, 'WP')\n",
      "361 作为 (357, 'COO')\n",
      "362 教练员 (361, 'VOB')\n",
      "363 去 (361, 'COO')\n",
      "364 比赛 (363, 'VOB')\n",
      "365 ， (361, 'WP')\n",
      "366 就是 (361, 'COO')\n",
      "367 欣赏 (366, 'VOB')\n",
      "368 一下 (367, 'CMP')\n",
      "369 李朱濠 (380, 'SBV')\n",
      "370 等 (369, 'RAD')\n",
      "371 比 (380, 'ADV')\n",
      "372 我 (374, 'ATT')\n",
      "373 年轻 (374, 'ATT')\n",
      "374 时 (376, 'ADV')\n",
      "375 水平 (376, 'SBV')\n",
      "376 高 (378, 'ATT')\n",
      "377 的 (376, 'RAD')\n",
      "378 运动员 (371, 'POB')\n",
      "379 怎么 (380, 'ADV')\n",
      "380 游 (367, 'VOB')\n",
      "381 的 (380, 'RAD')\n",
      "382 ， (366, 'WP')\n",
      "383 怎么 (384, 'ADV')\n",
      "384 训练 (366, 'COO')\n",
      "385 的 (384, 'RAD')\n",
      "386 ， (384, 'WP')\n",
      "387 帮助 (384, 'COO')\n",
      "388 我 (387, 'DBL')\n",
      "389 教导 (387, 'VOB')\n",
      "390 我 (392, 'ATT')\n",
      "391 的 (390, 'RAD')\n",
      "392 运动员 (389, 'VOB')\n",
      "393 。 (357, 'WP')\n",
      "394 ” (357, 'WP')\n",
      "395 周嘉威 (396, 'SBV')\n",
      "396 说 (357, 'COO')\n",
      "397 。 (168, 'WP')\n",
      "398 他 (406, 'SBV')\n",
      "399 比 (406, 'ADV')\n",
      "400 决赛 (405, 'ATT')\n",
      "401 第二 (402, 'ATT')\n",
      "402 年龄 (403, 'SBV')\n",
      "403 大 (405, 'ATT')\n",
      "404 的 (403, 'RAD')\n",
      "405 选手 (399, 'POB')\n",
      "406 大 (168, 'COO')\n",
      "407 了 (406, 'RAD')\n",
      "408 10 (409, 'ATT')\n",
      "409 岁 (406, 'CMP')\n",
      "410 ， (406, 'WP')\n",
      "411 比 (417, 'ADV')\n",
      "412 年龄 (411, 'POB')\n",
      "413 最 (414, 'ADV')\n",
      "414 小 (416, 'ATT')\n",
      "415 的 (414, 'RAD')\n",
      "416 选手 (411, 'POB')\n",
      "417 大 (406, 'COO')\n",
      "418 了 (417, 'RAD')\n",
      "419 18 (420, 'ATT')\n",
      "420 岁 (417, 'CMP')\n",
      "421 。 (168, 'WP')\n",
      "422 15 (423, 'ATT')\n",
      "423 岁 (427, 'ATT')\n",
      "424 的 (423, 'RAD')\n",
      "425 河北 (426, 'ATT')\n",
      "426 小将 (427, 'ATT')\n",
      "427 李冰洁 (435, 'SBV')\n",
      "428 在 (435, 'ADV')\n",
      "429 女子 (432, 'ATT')\n",
      "430 800 (431, 'ATT')\n",
      "431 米 (432, 'ATT')\n",
      "432 自由泳 (433, 'ATT')\n",
      "433 决赛 (434, 'ATT')\n",
      "434 中 (428, 'POB')\n",
      "435 夺冠 (168, 'COO')\n",
      "436 ， (435, 'WP')\n",
      "437 这 (438, 'SBV')\n",
      "438 是 (168, 'COO')\n",
      "439 她 (440, 'SBV')\n",
      "440 继 (438, 'VOB')\n",
      "441 400 (442, 'ATT')\n",
      "442 米 (443, 'ATT')\n",
      "443 自由泳 (444, 'SBV')\n",
      "444 获胜 (445, 'ATT')\n",
      "445 后 (448, 'ATT')\n",
      "446 的 (445, 'RAD')\n",
      "447 第二 (448, 'ATT')\n",
      "448 金 (440, 'VOB')\n",
      "449 。 (438, 'WP')\n",
      "450 八一队 (451, 'ATT')\n",
      "451 张雨涵 (456, 'SBV')\n",
      "452 和 (453, 'LAD')\n",
      "453 山东队 (451, 'COO')\n",
      "454 毕雯 (451, 'COO')\n",
      "455 馨分 (456, 'ADV')\n",
      "456 获 (438, 'COO')\n",
      "457 亚军 (456, 'VOB')\n",
      "458 和 (459, 'LAD')\n",
      "459 季军 (457, 'COO')\n",
      "460 。 (168, 'WP')\n",
      "461 李冰洁 (168, 'COO')\n",
      "462 在 (461, 'CMP')\n",
      "463 比赛 (464, 'ATT')\n",
      "464 后 (462, 'POB')\n",
      "465 。 (168, 'WP')\n",
      "466 新华社 (467, 'ATT')\n",
      "467 记者 (468, 'ATT')\n",
      "468 夏一方 (482, 'SBV')\n",
      "469 摄 (482, 'SBV')\n",
      "470 赛后 (482, 'ADV')\n",
      "471 ， (470, 'WP')\n",
      "472 李冰洁 (475, 'ATT')\n",
      "473 的 (472, 'RAD')\n",
      "474 国家队 (475, 'ATT')\n",
      "475 教练 (476, 'ATT')\n",
      "476 刘海涛 (482, 'SBV')\n",
      "477 对 (482, 'ADV')\n",
      "478 弟子 (480, 'ATT')\n",
      "479 的 (478, 'RAD')\n",
      "480 整体 (481, 'ATT')\n",
      "481 表现 (477, 'POB')\n",
      "482 表示 (168, 'COO')\n",
      "483 满意 (482, 'VOB')\n",
      "484 。 (168, 'WP')\n",
      "485 他 (486, 'SBV')\n",
      "486 说 (168, 'COO')\n",
      "487 ： (486, 'WP')\n",
      "488 “ (494, 'WP')\n",
      "489 李冰洁 (494, 'SBV')\n",
      "490 在 (494, 'ADV')\n",
      "491 2015年 (493, 'ATT')\n",
      "492 第一 (493, 'ATT')\n",
      "493 次 (490, 'POB')\n",
      "494 拿 (541, 'ATT')\n",
      "495 了 (494, 'RAD')\n",
      "496 冠军 (494, 'VOB')\n",
      "497 。 (494, 'WP')\n",
      "498 她 (499, 'SBV')\n",
      "499 有 (494, 'COO')\n",
      "500 自己 (502, 'ATT')\n",
      "501 的 (500, 'RAD')\n",
      "502 特性 (499, 'VOB')\n",
      "503 ， (499, 'WP')\n",
      "504 后来 (510, 'ADV')\n",
      "505 一 (506, 'ATT')\n",
      "506 年 (508, 'ATT')\n",
      "507 的 (506, 'RAD')\n",
      "508 起伏 (510, 'SBV')\n",
      "509 比较 (510, 'ADV')\n",
      "510 大 (494, 'COO')\n",
      "511 ， (510, 'WP')\n",
      "512 有 (510, 'COO')\n",
      "513 一些 (515, 'ATT')\n",
      "514 身体 (515, 'ATT')\n",
      "515 问题 (512, 'DBL')\n",
      "516 需要 (512, 'VOB')\n",
      "517 调节 (516, 'VOB')\n"
     ]
    },
    {
     "name": "stdout",
     "output_type": "stream",
     "text": [
      "518 ， (516, 'WP')\n",
      "519 还有 (516, 'COO')\n",
      "520 一些 (521, 'ATT')\n",
      "521 技术 (522, 'SBV')\n",
      "522 不足 (519, 'VOB')\n",
      "523 ， (519, 'WP')\n",
      "524 自己 (525, 'SBV')\n",
      "525 控制 (519, 'COO')\n",
      "526 不 (527, 'ADV')\n",
      "527 了 (525, 'CMP')\n",
      "528 ， (525, 'WP')\n",
      "529 需要 (525, 'COO')\n",
      "530 继续 (529, 'VOB')\n",
      "531 调整 (530, 'VOB')\n",
      "532 ， (530, 'WP')\n",
      "533 向 (536, 'ADV')\n",
      "534 东京 (535, 'ATT')\n",
      "535 奥运会 (533, 'POB')\n",
      "536 努力 (530, 'COO')\n",
      "537 。 (494, 'WP')\n",
      "538 ” (494, 'WP')\n",
      "539 上海 (540, 'ATT')\n",
      "540 名将 (541, 'ATT')\n",
      "541 陆滢 (542, 'SBV')\n",
      "542 夺得 (486, 'VOB')\n",
      "543 女子 (546, 'ATT')\n",
      "544 50 (545, 'ATT')\n",
      "545 米 (546, 'ATT')\n",
      "546 蝶泳 (547, 'ATT')\n",
      "547 冠军 (542, 'VOB')\n",
      "548 ， (542, 'WP')\n",
      "549 江苏队 (550, 'ATT')\n",
      "550 张雨霏 (555, 'SBV')\n",
      "551 和 (552, 'LAD')\n",
      "552 浙江队 (553, 'ATT')\n",
      "553 林欣彤 (550, 'COO')\n",
      "554 分 (555, 'ADV')\n",
      "555 获 (542, 'COO')\n",
      "556 第二 (559, 'ATT')\n",
      "557 、 (558, 'WP')\n",
      "558 第三 (556, 'COO')\n",
      "559 名 (555, 'VOB')\n",
      "560 。 (542, 'WP')\n",
      "561 在 (571, 'ADV')\n",
      "562 男女 (565, 'ATT')\n",
      "563 4×100 (564, 'ATT')\n",
      "564 米 (565, 'ATT')\n",
      "565 自由泳 (567, 'ATT')\n",
      "566 接力 (567, 'ATT')\n",
      "567 决赛 (568, 'ATT')\n",
      "568 中 (561, 'POB')\n",
      "569 ， (561, 'WP')\n",
      "570 辽宁队 (571, 'SBV')\n",
      "571 夺冠 (542, 'COO')\n",
      "572 ， (571, 'WP')\n",
      "573 亚军 (576, 'SBV')\n",
      "574 和 (575, 'LAD')\n",
      "575 季军 (573, 'COO')\n",
      "576 分属 (571, 'COO')\n",
      "577 北京队 (576, 'VOB')\n",
      "578 和 (579, 'LAD')\n",
      "579 上海队 (577, 'COO')\n",
      "580 。 (168, 'WP')\n",
      "581 编辑 (583, 'ATT')\n",
      "582 ： (581, 'WP')\n",
      "583 黄杰 (168, 'COO')\n",
      "584 ； (583, 'WP')\n",
      "585 签发 (168, 'COO')\n",
      "586 ： (585, 'WP')\n",
      "587 高鹏 (588, 'ATT')\n",
      "588 版权 (589, 'SBV')\n",
      "589 归 (585, 'COO')\n",
      "590 新华社 (591, 'SBV')\n",
      "591 所有 (589, 'VOB')\n",
      "592 ， (589, 'WP')\n",
      "593 未经 (594, 'ADV')\n",
      "594 许可 (589, 'COO')\n",
      "595 严禁 (594, 'COO')\n",
      "596 转载 (595, 'VOB')\n"
     ]
    }
   ],
   "source": [
    "news_parser(re.sub('\\\\\\\\n|[\\n\\u3000\\r]', '', test_news))"
   ]
  },
  {
   "cell_type": "markdown",
   "metadata": {},
   "source": [
    "问题分解\n",
    ">1. 找到所有主谓关系: SBV，SBV指向谓语\n",
    "2. 判断谓语是否是“说”(或者是表示说的词)\n",
    "3. 如果是，获取该谓语所在的句子以及后面的完整句子"
   ]
  },
  {
   "cell_type": "code",
   "execution_count": 403,
   "metadata": {},
   "outputs": [],
   "source": [
    "def get_news_parser(news):\n",
    "    word_list = get_word_list(news,cws_model)\n",
    "    postag_list = get_postag_list(word_list,pos_model)\n",
    "    parser_list = get_parser_list(word_list,postag_list,par_model)\n",
    "    return [(word_list[i], parser_list[i]) for i in range(len(word_list))]"
   ]
  },
  {
   "cell_type": "code",
   "execution_count": 405,
   "metadata": {},
   "outputs": [],
   "source": [
    "def get_speak(word_parser_list):\n",
    "    speak_words = ['说'] # 将表示说的词加入这个list\n",
    "    speak_indexes = []\n",
    "    for _, (index, parser) in word_parser_list:\n",
    "        if parser == 'SBV':\n",
    "            verb_index = index - 1\n",
    "            if word_parser_list[verb_index][0] in speak_words:\n",
    "                speak_indexes.append(verb_index)\n",
    "    return sorted(list(set(speak_indexes)))"
   ]
  },
  {
   "cell_type": "code",
   "execution_count": 410,
   "metadata": {},
   "outputs": [],
   "source": [
    "def get_speak_sentence(word_parser_list, speak_index):\n",
    "    \"\"\"\n",
    "    这里需要返回2个句子：\n",
    "        1. “说”这个词所在的句子\n",
    "            1.1 句首为任意标点符号或者是整个字符串开头\n",
    "            1.2 句尾为任意标点符号或者是整个字符串结尾\n",
    "        2. “说”的内容\n",
    "            2.1 该句应该紧贴着“说“这个词所在的句子（前方或者后方）\n",
    "            2.2 句首为：，或”\n",
    "            2.3 句尾为：。或“\n",
    "            2.4 如果“说”的内容在“说”这个词所在句子之前，那么必须以”结尾\n",
    "    \"\"\"\n",
    "    \n",
    "    # “说”所在的句子\n",
    "    speak_start = 0\n",
    "    for i in range(speak_index, -1, -1):\n",
    "        if word_parser_list[i][1][1] == 'WP':\n",
    "            speak_start = i+1\n",
    "            break\n",
    "    speak_end = len(word_parser_list) - 1\n",
    "    for i in range(speak_index, speak_end+1):\n",
    "        if word_parser_list[i][1][1] == 'WP':\n",
    "            speak_end = i\n",
    "            break\n",
    "    speak_sentence = ''.join(word_parser_list[i][0] for i in range(speak_start, speak_end+1))\n",
    "    \n",
    "    # 位于“说”所在句子之前的内容\n",
    "    content_before = ''\n",
    "    content_before_end = speak_start - 1\n",
    "    if content_before_end > 0:\n",
    "        if word_parser_list[content_before_end][0] == '”': # 没有详细考虑过所有情况，这里假定位于之前的句子内容必须在引号范围内\n",
    "            for i in range(content_before_end, -1, -1):\n",
    "                if word_parser_list[i][0] == '“':\n",
    "                    content_before = ''.join(word_parser_list[i][0] for i in range(i, content_before_end+1))\n",
    "                    break\n",
    "    \n",
    "    # 位于\"说\"所在句子之后的内容\n",
    "    content_after = ''\n",
    "    content_after_start = speak_end + 1\n",
    "    if word_parser_list[speak_end][0] != '。': # 如果句子以句号结尾，那么说明后面不是说的内容\n",
    "        if word_parser_list[content_after_start][0] == '“':\n",
    "            end_wp = '”'\n",
    "        else:\n",
    "            end_wp = '。'\n",
    "        for i in range(content_after_start, len(word_parser_list)):\n",
    "            if word_parser_list[i][0] == end_wp:\n",
    "                content_after = ''.join(word_parser_list[i][0] for i in range(content_after_start, i+1))\n",
    "                break\n",
    "    \n",
    "    return speak_sentence, content_before, content_after"
   ]
  },
  {
   "cell_type": "code",
   "execution_count": 411,
   "metadata": {},
   "outputs": [],
   "source": [
    "def get_speak_content(news):\n",
    "    word_parser_list = get_news_parser(news)\n",
    "    speak_indexes = get_speak(word_parser_list)\n",
    "    if not speak_indexes:\n",
    "        print('没有人说话！')\n",
    "    for speak_index in speak_indexes:\n",
    "        speak_sentence, content_before, content_after = get_speak_sentence(word_parser_list, speak_index)\n",
    "        print('speak_sentence:')\n",
    "        print(speak_sentence)\n",
    "        if content_before:\n",
    "            print('content_before:')\n",
    "            print(content_before)\n",
    "        if content_after:\n",
    "            print('content_after:')\n",
    "            print(content_after)\n",
    "        print()"
   ]
  },
  {
   "cell_type": "code",
   "execution_count": 412,
   "metadata": {},
   "outputs": [
    {
     "name": "stdout",
     "output_type": "stream",
     "text": [
      "speak_sentence:\n",
      "周嘉威说。\n",
      "content_before:\n",
      "“现在我更多是享受比赛，作为教练员去比赛，就是欣赏一下李朱濠等比我年轻时水平高的运动员怎么游的，怎么训练的，帮助我教导我的运动员。”\n",
      "\n",
      "speak_sentence:\n",
      "他说：\n",
      "content_after:\n",
      "“李冰洁在2015年第一次拿了冠军。她有自己的特性，后来一年的起伏比较大，有一些身体问题需要调节，还有一些技术不足，自己控制不了，需要继续调整，向东京奥运会努力。”\n",
      "\n"
     ]
    }
   ],
   "source": [
    "get_speak_content(test_news)"
   ]
  },
  {
   "cell_type": "markdown",
   "metadata": {},
   "source": [
    ">这里出现了一些问题，因为新闻中说的话不止2句，检查后发现是分词将“余贺新说”分成了“余贺”、“新说”而不是“余贺新”、“说”。<br>用jieba分词代替segmentor试试"
   ]
  },
  {
   "cell_type": "code",
   "execution_count": 416,
   "metadata": {},
   "outputs": [],
   "source": [
    "def get_news_parser2(news):\n",
    "    word_list = list(jieba.cut(news))\n",
    "    postag_list = get_postag_list(word_list,pos_model)\n",
    "    parser_list = get_parser_list(word_list,postag_list,par_model)\n",
    "    return [(word_list[i], parser_list[i]) for i in range(len(word_list))]"
   ]
  },
  {
   "cell_type": "code",
   "execution_count": 417,
   "metadata": {},
   "outputs": [],
   "source": [
    "def get_speak_content2(news):\n",
    "    word_parser_list = get_news_parser2(news)\n",
    "    speak_indexes = get_speak(word_parser_list)\n",
    "    if not speak_indexes:\n",
    "        print('没有人说话！')\n",
    "    for speak_index in speak_indexes:\n",
    "        speak_sentence, content_before, content_after = get_speak_sentence(word_parser_list, speak_index)\n",
    "        print('speak_sentence:')\n",
    "        print(speak_sentence)\n",
    "        if content_before:\n",
    "            print('content_before:')\n",
    "            print(content_before)\n",
    "        if content_after:\n",
    "            print('content_after:')\n",
    "            print(content_after)\n",
    "        print()"
   ]
  },
  {
   "cell_type": "code",
   "execution_count": 418,
   "metadata": {},
   "outputs": [
    {
     "name": "stdout",
     "output_type": "stream",
     "text": [
      "speak_sentence:\n",
      "新华社记者夏一方摄比赛期间患感冒的余贺新说：\n",
      "content_after:\n",
      "“今天状态一般，仅比昨天快了一点点。世锦赛尽力去游，接着就是全运会，赛程挺煎熬的。全运会是零金牌目标，没有包袱。”\n",
      "\n",
      "speak_sentence:\n",
      "周嘉威说。\n",
      "content_before:\n",
      "“现在我更多是享受比赛，作为教练员去比赛，就是欣赏一下李朱濠等比我年轻时水平高的运动员怎么游的，怎么训练的，帮助我教导我的运动员。”\n",
      "\n",
      "speak_sentence:\n",
      "他说：\n",
      "content_after:\n",
      "“李冰洁在2015年第一次拿了冠军。她有自己的特性，后来一年的起伏比较大，有一些身体问题需要调节，还有一些技术不足，自己控制不了，需要继续调整，向东京奥运会努力。”\n",
      "\n"
     ]
    }
   ],
   "source": [
    "get_speak_content2(test_news)"
   ]
  },
  {
   "cell_type": "markdown",
   "metadata": {},
   "source": [
    ">由于新闻语料中包含插入图片的注释，比如第一句中的“新华社记者夏一方摄”。这个需要在清洗数据中进行处理了\n",
    "\n",
    ">跟换其他新闻试试"
   ]
  },
  {
   "cell_type": "code",
   "execution_count": 419,
   "metadata": {},
   "outputs": [
    {
     "name": "stdout",
     "output_type": "stream",
     "text": [
      "speak_sentence:\n",
      "勒庞说：\n",
      "content_after:\n",
      "“我给马克龙先生打了电话，祝贺他赢得选举。”\n",
      "\n",
      "speak_sentence:\n",
      "勒庞说，\n",
      "content_after:\n",
      "选举结果对“国民阵线”而言是“历史性的巨大成果”。\n",
      "\n",
      "speak_sentence:\n",
      "勒庞说，\n",
      "content_before:\n",
      "“我建议，着手深刻政党变革，建立一支全新政治力量，”\n",
      "content_after:\n",
      "“我呼吁所有爱国者加入我们。”\n",
      "\n"
     ]
    }
   ],
   "source": [
    "get_speak_content2(random.choice(content))"
   ]
  },
  {
   "cell_type": "code",
   "execution_count": 420,
   "metadata": {},
   "outputs": [
    {
     "name": "stdout",
     "output_type": "stream",
     "text": [
      "没有人说话！\n"
     ]
    }
   ],
   "source": [
    "get_speak_content2(random.choice(content))"
   ]
  },
  {
   "cell_type": "code",
   "execution_count": 422,
   "metadata": {},
   "outputs": [
    {
     "name": "stdout",
     "output_type": "stream",
     "text": [
      "speak_sentence:\n",
      "同事们都说他“\n",
      "content_after:\n",
      "能干、认干”，但他却并不满足于此。\n",
      "\n",
      "speak_sentence:\n",
      "许政超说。\n",
      "content_before:\n",
      "“其实都不是什么大发明，传统器具和作业方式也有不合理的地方，我觉得不顺手就想改一改，说白了其实就是因为自己懒，所以在工作中总寻找省事的办法。”\n",
      "\n",
      "speak_sentence:\n",
      "n虽然许政超自己说着“\n",
      "content_after:\n",
      "偷懒取巧”，但却搞出了名堂。\n",
      "\n",
      "speak_sentence:\n",
      "许政超说。\n",
      "content_before:\n",
      "“只有像我一样工作在平凡岗位上的每一位员工都行动起来，才能成就我们的事业，我不愿意做金字塔尖上的人，只想做好一块基石，用自己所掌握的技能和知识，让更多的人在岗位上成长为工匠，这样，我才有存在感和成就感！”\n",
      "\n"
     ]
    }
   ],
   "source": [
    "get_speak_content2(random.choice(content))"
   ]
  },
  {
   "cell_type": "markdown",
   "metadata": {},
   "source": [
    ">这里又发现了新的问题，就是句子中包括了\"说\"这个字，但是并不是真正的说话。\n",
    "\n",
    ">其他问题肯定还会出现，这个就不像项目一样一一进行处理了"
   ]
  }
 ],
 "metadata": {
  "kernelspec": {
   "display_name": "Python 3",
   "language": "python",
   "name": "python3"
  },
  "language_info": {
   "codemirror_mode": {
    "name": "ipython",
    "version": 3
   },
   "file_extension": ".py",
   "mimetype": "text/x-python",
   "name": "python",
   "nbconvert_exporter": "python",
   "pygments_lexer": "ipython3",
   "version": "3.6.5"
  }
 },
 "nbformat": 4,
 "nbformat_minor": 2
}
