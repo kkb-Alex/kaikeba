{
 "cells": [
  {
   "cell_type": "markdown",
   "metadata": {},
   "source": [
    "## Assignment-03 First Step of Machine Learning: Model and Evaluation"
   ]
  },
  {
   "cell_type": "markdown",
   "metadata": {},
   "source": [
    "同学们，今天我们的学习了基本的机器学习概念，相比你已经对机器学习的这些方法有一个基本的认识了。值得说明的是，机器学习不仅仅是一系列方法，更重要的是一种思维体系，即：依据以往的、现有的数据，构建某种方法来解决未见过的问题。而且决策树，贝叶斯只是实现这个目标的一个方法，包括之后的神经网络。很有可能有一天，神经网络也会被淘汰，但是重要的是我们要理解机器学习的目标，就是尽可能的自动化解决未知的问题。"
   ]
  },
  {
   "cell_type": "markdown",
   "metadata": {},
   "source": [
    "![](https://timgsa.baidu.com/timg?image&quality=80&size=b9999_10000&sec=1571556399207&di=4a97dc15ad08dd49d3748d1edf6109b3&imgtype=0&src=http%3A%2F%2Fc.hiphotos.baidu.com%2Fzhidao%2Fwh%3D450%2C600%2Fsign%3Dae742c6aedcd7b89e93932873a146e91%2F5d6034a85edf8db1b16050c40223dd54574e74c7.jpg)"
   ]
  },
  {
   "cell_type": "markdown",
   "metadata": {},
   "source": [
    "## Part-1 Programming Review 编程回顾"
   ]
  },
  {
   "cell_type": "markdown",
   "metadata": {},
   "source": [
    "#### 1. Re-code the Linear-Regression Model using scikit-learning(10 points)"
   ]
  },
  {
   "cell_type": "markdown",
   "metadata": {},
   "source": [
    "<评阅点>： \n",
    "> + 是否完成线性回归模型 (4')\n",
    "+ 能够进行预测新数据(3')\n",
    "+ 能够进行可视化操作(3')"
   ]
  },
  {
   "cell_type": "code",
   "execution_count": 1,
   "metadata": {},
   "outputs": [],
   "source": [
    "from sklearn.linear_model import LinearRegression\n",
    "import numpy as np\n",
    "import matplotlib.pyplot as plt\n",
    "%matplotlib inline"
   ]
  },
  {
   "cell_type": "code",
   "execution_count": 2,
   "metadata": {},
   "outputs": [],
   "source": [
    "from icecream import ic"
   ]
  },
  {
   "cell_type": "markdown",
   "metadata": {},
   "source": [
    "$$ Linear\\ Regresion\\ Model\\ \\Rightarrow y=ax+b $$"
   ]
  },
  {
   "cell_type": "code",
   "execution_count": 3,
   "metadata": {},
   "outputs": [],
   "source": [
    "def linear_regression(X, y):\n",
    "    \"\"\" Using linear regression model to fit dataset\n",
    "    \n",
    "    Fit the dataset on linear regression model provided by sklearn module. \n",
    "    Output the training score, training result, visualize the data and return the predict function\n",
    "    \n",
    "    Args:\n",
    "        X: A set of variable x1, x2, x3, ..., xn\n",
    "        y: A set of dependent variable y1, y2, y3, ..., yn \n",
    "    \n",
    "    Returns:\n",
    "        predict_func: predict function that accept new x and return predicted value y\n",
    "    \"\"\"\n",
    "    X = np.array(X).reshape(-1, 1) # transfer 1*n array to n*1\n",
    "    y = np.array(y)\n",
    "    \n",
    "    # training\n",
    "    model = LinearRegression()\n",
    "    model.fit(X, y)\n",
    "    \n",
    "    # training result\n",
    "    score = model.score(X, y)\n",
    "    coef = model.coef_[0]\n",
    "    intercept = model.intercept_\n",
    "    \n",
    "    # print the result\n",
    "    ic(score)\n",
    "    ic(coef)\n",
    "    ic(intercept)\n",
    "    \n",
    "    # the predict function\n",
    "    def f(x):\n",
    "        return coef * x + intercept\n",
    "    \n",
    "    # draw the line\n",
    "    plt.scatter(X, y)\n",
    "    plt.plot(X, f(X), color='red');\n",
    "    \n",
    "    return f"
   ]
  },
  {
   "cell_type": "markdown",
   "metadata": {},
   "source": [
    "##### Test the model "
   ]
  },
  {
   "cell_type": "code",
   "execution_count": 4,
   "metadata": {},
   "outputs": [],
   "source": [
    "# Generate test data\n",
    "import random\n",
    "def assuming_function(x):\n",
    "    # Salary vs cost on foods\n",
    "    return 0.3 * x + 332 + random.randint(-500, 500)\n",
    "X = np.random.randint(800, 20000, size=(100))\n",
    "y = [assuming_function(x) for x in X]"
   ]
  },
  {
   "cell_type": "code",
   "execution_count": 5,
   "metadata": {},
   "outputs": [
    {
     "name": "stderr",
     "output_type": "stream",
     "text": [
      "/Library/Frameworks/Python.framework/Versions/3.6/lib/python3.6/site-packages/sklearn/linear_model/base.py:485: RuntimeWarning: internal gelsd driver lwork query error, required iwork dimension not returned. This is likely the result of LAPACK bug 0038, fixed in LAPACK 3.2.2 (released July 21, 2010). Falling back to 'gelss' driver.\n",
      "  linalg.lstsq(X, y)\n",
      "ic| score: 0.9688182054297995\n",
      "ic| coef: 0.2935925460520709\n",
      "ic| intercept: 357.36552778192754\n"
     ]
    },
    {
     "data": {
      "image/png": "[encoded data removed]",
      "text/plain": [
       "<Figure size 432x288 with 1 Axes>"
      ]
     },
     "metadata": {},
     "output_type": "display_data"
    }
   ],
   "source": [
    "# Testing\n",
    "predict_func = linear_regression(X, y)"
   ]
  },
  {
   "cell_type": "code",
   "execution_count": 6,
   "metadata": {},
   "outputs": [
    {
     "data": {
      "text/plain": [
       "2999.6984422505657"
      ]
     },
     "execution_count": 6,
     "metadata": {},
     "output_type": "execute_result"
    }
   ],
   "source": [
    "# Predict\n",
    "predict_func(9000)"
   ]
  },
  {
   "cell_type": "markdown",
   "metadata": {},
   "source": [
    "#### 2. Complete the unfinished KNN Model using pure python to solve the previous Line-Regression problem. (8 points)"
   ]
  },
  {
   "cell_type": "markdown",
   "metadata": {},
   "source": [
    "<评阅点>:\n",
    "> + 是否完成了KNN模型 (4')\n",
    "+ 是否能够预测新的数据 (4')"
   ]
  },
  {
   "cell_type": "code",
   "execution_count": 7,
   "metadata": {},
   "outputs": [],
   "source": [
    "def knn_regression(X, y):\n",
    "    \"\"\" Using K-Nearest Neighbor model to fit dataset\n",
    "    \n",
    "    Fit the dataset on KNN model. \n",
    "    Output the predict function\n",
    "    \n",
    "    Args:\n",
    "        X: A set of variable x1, x2, x3, ..., xn\n",
    "        y: A set of dependent variable y1, y2, y3, ..., yn \n",
    "    \n",
    "    Returns:\n",
    "        predict_func: predict function that accept new x and return predicted value y\n",
    "    \"\"\"\n",
    "    dataset = np.array([(Xi, yi) for Xi, yi in zip(X, y)])\n",
    "    \n",
    "    # x is 1 dimension, so using difference as distance\n",
    "    def distance(x1, x2):\n",
    "        return abs(x1 - x2)\n",
    "    \n",
    "    def f(x, k=5):\n",
    "        most_similar = np.array(sorted(dataset, key=lambda xi: distance(xi[0], x))[:k])\n",
    "        predicted_y = sum(y for _, y in most_similar) / len(most_similar) # using average value to predict the y\n",
    "\n",
    "        # draw the graph\n",
    "        plt.scatter(dataset[:, 0], dataset[:, 1])\n",
    "        plt.scatter(most_similar[:, 0], most_similar[:, 1], color='y')\n",
    "        plt.scatter(x, predicted_y, color='red')\n",
    "        \n",
    "        return predicted_y\n",
    "    return f"
   ]
  },
  {
   "cell_type": "code",
   "execution_count": 8,
   "metadata": {},
   "outputs": [
    {
     "data": {
      "text/plain": [
       "2895.7400000000002"
      ]
     },
     "execution_count": 8,
     "metadata": {},
     "output_type": "execute_result"
    },
    {
     "data": {
      "image/png": "[encoded data removed]",
      "text/plain": [
       "<Figure size 432x288 with 1 Axes>"
      ]
     },
     "metadata": {},
     "output_type": "display_data"
    }
   ],
   "source": [
    "# Using the same data in Linear regression\n",
    "knn_predict = knn_regression(X, y)\n",
    "knn_predict(9000)"
   ]
  },
  {
   "cell_type": "code",
   "execution_count": 9,
   "metadata": {},
   "outputs": [
    {
     "data": {
      "text/plain": [
       "2849.7400000000002"
      ]
     },
     "execution_count": 9,
     "metadata": {},
     "output_type": "execute_result"
    },
    {
     "data": {
      "image/png": "[encoded data removed]",
      "text/plain": [
       "<Figure size 432x288 with 1 Axes>"
      ]
     },
     "metadata": {},
     "output_type": "display_data"
    }
   ],
   "source": [
    "# try k=10\n",
    "knn_predict(9000, 10)"
   ]
  },
  {
   "cell_type": "markdown",
   "metadata": {},
   "source": [
    "#### 3. Re-code the Decision Tree, which could sort the features by salience. (12 points)"
   ]
  },
  {
   "cell_type": "markdown",
   "metadata": {},
   "source": [
    "<评阅点>\n",
    "> + 是否实现了信息熵 (1' )\n",
    "+ 是否实现了最优先特征点的选择(5')\n",
    "+ 是否实现了持续的特征选则(6')"
   ]
  },
  {
   "cell_type": "markdown",
   "metadata": {},
   "source": [
    "信息熵：\n",
    "$$ H(X)=-\\sum_{i=1}^{n} p(x_i)log(p(x_i)) $$"
   ]
  },
  {
   "cell_type": "code",
   "execution_count": 10,
   "metadata": {},
   "outputs": [],
   "source": [
    "from collections import Counter"
   ]
  },
  {
   "cell_type": "code",
   "execution_count": 11,
   "metadata": {},
   "outputs": [],
   "source": [
    "def entropy(elements:list):\n",
    "    counter = Counter(elements)\n",
    "    probs = [counter[c] / len(elements) for c in set(elements)]\n",
    "    return - sum(p * np.log(p) for p in probs)"
   ]
  },
  {
   "cell_type": "code",
   "execution_count": 12,
   "metadata": {},
   "outputs": [
    {
     "data": {
      "text/plain": [
       "0.6931471805599453"
      ]
     },
     "execution_count": 12,
     "metadata": {},
     "output_type": "execute_result"
    }
   ],
   "source": [
    "entropy([1,1,0,0])"
   ]
  },
  {
   "cell_type": "code",
   "execution_count": 13,
   "metadata": {},
   "outputs": [],
   "source": [
    "import pandas as pd"
   ]
  },
  {
   "cell_type": "code",
   "execution_count": 14,
   "metadata": {},
   "outputs": [],
   "source": [
    "def find_best_spliter(training_data, target: str) -> str:\n",
    "    \"\"\"Sort the features by salience (defined by entropy) and return the best feature in string\n",
    "    Args:\n",
    "        training_data: the training data (xi, yi)\n",
    "        target: the target feature or element of data\n",
    "    Returns:\n",
    "        the best feature of training data\n",
    "    \"\"\"\n",
    "    features = set(training_data.columns.tolist()) - {target}  #\n",
    "    spliters = list()\n",
    "    \n",
    "    for f in features:\n",
    "        values = set(training_data[f])\n",
    "        entropy_v = sum(entropy(training_data[training_data[f] == v][target].tolist()) for v in values)\n",
    "        ic(f)\n",
    "        ic(values)\n",
    "        ic(entropy_v)\n",
    "        spliters.append([f, values, entropy_v])\n",
    "    \n",
    "    spliters.sort(key=lambda x:x[2])\n",
    "    ic(spliters)\n",
    "    return spliters[0][0]\n",
    "    "
   ]
  },
  {
   "cell_type": "code",
   "execution_count": 15,
   "metadata": {},
   "outputs": [],
   "source": [
    "# Using the mock data in class\n",
    "mock_data = {\n",
    "    'gender':['F', 'F', 'F', 'F', 'M', 'M', 'M'],\n",
    "    'income': ['+10', '-10', '+10', '+10', '+10', '+10', '-10'],\n",
    "    'family_number': [1, 1, 2, 1, 1, 1, 2],\n",
    "    'bought': [1, 1, 1, 0, 0, 0, 1],\n",
    "}\n",
    "dataset = pd.DataFrame.from_dict(mock_data)"
   ]
  },
  {
   "cell_type": "code",
   "execution_count": 16,
   "metadata": {
    "scrolled": true
   },
   "outputs": [
    {
     "name": "stderr",
     "output_type": "stream",
     "text": [
      "ic| f: 'income'\n",
      "ic| values: {'-10', '+10'}\n",
      "ic| entropy_v: 0.6730116670092565\n",
      "ic| f: 'family_number'\n",
      "ic| values: {1, 2}\n",
      "ic| entropy_v: 0.6730116670092565\n",
      "ic| f: 'gender'\n",
      "ic| values: {'F', 'M'}\n",
      "ic| entropy_v: 1.198849312913621\n",
      "ic| spliters: [['income', {'-10', '+10'}, 0.6730116670092565],\n",
      "               ['family_number', {1, 2}, 0.6730116670092565],\n",
      "               ['gender', {'F', 'M'}, 1.198849312913621]]\n"
     ]
    },
    {
     "data": {
      "text/plain": [
       "'income'"
      ]
     },
     "execution_count": 16,
     "metadata": {},
     "output_type": "execute_result"
    }
   ],
   "source": [
    "find_best_spliter(dataset, 'bought')"
   ]
  },
  {
   "cell_type": "code",
   "execution_count": 17,
   "metadata": {},
   "outputs": [
    {
     "name": "stderr",
     "output_type": "stream",
     "text": [
      "ic| f: 'income'\n",
      "ic| values: {'+10'}\n",
      "ic| entropy_v: 0.6730116670092565\n",
      "ic| f: 'family_number'\n",
      "ic| values: {1, 2}\n",
      "ic| entropy_v: 0.5623351446188083\n",
      "ic| f: 'gender'\n",
      "ic| values: {'F', 'M'}\n",
      "ic| entropy_v: 0.6365141682948128\n",
      "ic| spliters: [['family_number', {1, 2}, 0.5623351446188083],\n",
      "               ['gender', {'F', 'M'}, 0.6365141682948128],\n",
      "               ['income', {'+10'}, 0.6730116670092565]]\n"
     ]
    },
    {
     "data": {
      "text/plain": [
       "'family_number'"
      ]
     },
     "execution_count": 17,
     "metadata": {},
     "output_type": "execute_result"
    }
   ],
   "source": [
    "find_best_spliter(dataset[dataset['income'] == '+10'], 'bought')"
   ]
  },
  {
   "cell_type": "markdown",
   "metadata": {},
   "source": [
    "#### 4. Finish the K-Means using 2-D matplotlib (8 points)"
   ]
  },
  {
   "cell_type": "markdown",
   "metadata": {},
   "source": [
    "<评阅点>\n",
    "> + 是否完成了KMeans模型，基于scikit-learning (3')\n",
    "+ 是否完成了可视化任务（5'）"
   ]
  },
  {
   "cell_type": "code",
   "execution_count": 18,
   "metadata": {},
   "outputs": [
    {
     "ename": "SyntaxError",
     "evalue": "invalid syntax (<ipython-input-18-2b96eac23c37>, line 2)",
     "output_type": "error",
     "traceback": [
      "\u001b[0;36m  File \u001b[0;32m\"<ipython-input-18-2b96eac23c37>\"\u001b[0;36m, line \u001b[0;32m2\u001b[0m\n\u001b[0;31m    from collections\u001b[0m\n\u001b[0m                    ^\u001b[0m\n\u001b[0;31mSyntaxError\u001b[0m\u001b[0;31m:\u001b[0m invalid syntax\n"
     ]
    }
   ],
   "source": [
    "from sklearn.cluster import KMeans\n",
    "from collections import "
   ]
  },
  {
   "cell_type": "code",
   "execution_count": null,
   "metadata": {},
   "outputs": [],
   "source": [
    "def kmeans_for_2d(training_data: pd.DataFrame, n_clusters: int, max_iter=500):\n",
    "    # fit the model\n",
    "    cluster = KMeans(n_clusters=n_clusters, max_iter=max_iter)\n",
    "    cluster.fit(training_data)\n",
    "    \n",
    "    # visualization\n",
    "    plt.figure(1) # graph1\n",
    "    plt.scatter(training_data[:,0], training_data[:,1])\n",
    "    plt.title('Before training')\n",
    "    \n",
    "    plt.figure(2) # gragh2\n",
    "    plt.title('After training')\n",
    "    color = ['black', 'red', 'orange', 'yellow', 'green', 'aqua', \n",
    "             'royalblue', 'darkblue', 'purple', 'pink'] # assume centers are no more than 10\n",
    "    # draw the points after training\n",
    "    for location, i in zip(training_data, cluster.labels_):\n",
    "        plt.scatter(*location, c=color[i])\n",
    "    # draw the centers\n",
    "    for center in cluster.cluster_centers_:\n",
    "        plt.scatter(*center, s=100)"
   ]
  },
  {
   "cell_type": "code",
   "execution_count": null,
   "metadata": {},
   "outputs": [],
   "source": [
    "# generate testing data\n",
    "X = [random.randint(0, 500) for _ in range(100)]\n",
    "Y = [random.randint(0, 500) for _ in range(100)]\n",
    "dataset = np.array([[x, y] for x, y in zip(X, Y)])"
   ]
  },
  {
   "cell_type": "code",
   "execution_count": null,
   "metadata": {},
   "outputs": [],
   "source": [
    "kmeans_for_2d(dataset, 5)"
   ]
  },
  {
   "cell_type": "markdown",
   "metadata": {},
   "source": [
    "## Part-2 Question and Answer 问答"
   ]
  },
  {
   "cell_type": "markdown",
   "metadata": {},
   "source": [
    "#### 1. What's the *model*? why  all the models are wrong, but some are useful? (5 points) "
   ]
  },
  {
   "cell_type": "markdown",
   "metadata": {},
   "source": [
    "Ans:"
   ]
  },
  {
   "cell_type": "markdown",
   "metadata": {},
   "source": [
    "<评阅点>\n",
    "> + 对模型的理解是否正确,对模型的抽象性是否正确(5')"
   ]
  },
  {
   "cell_type": "markdown",
   "metadata": {},
   "source": [
    "1. 模型指对问题、现象、客观事物或者规律进行抽象后的表达方式\n",
    "2. 因为模型是抽象之后的产物，只保留了主要的信息或者有用的信息，所以所有的模型都不能完全代表原本的事物；但也正因为模型是抽象后的产物，过滤掉了很多对分析没有帮助的信息，保留了少量有用的信息，所以对分析问题、理解客观事物以及发现规律很有帮助"
   ]
  },
  {
   "cell_type": "markdown",
   "metadata": {},
   "source": [
    "#### 2. What's the underfitting and overfitting? List the reasons that could make model overfitting or underfitting. (10 points)"
   ]
  },
  {
   "cell_type": "markdown",
   "metadata": {},
   "source": [
    "Ans:"
   ]
  },
  {
   "cell_type": "markdown",
   "metadata": {},
   "source": [
    "<评阅点>\n",
    "> + 对过拟合和欠拟合的理解是否正确 (3')\n",
    "+ 对欠拟合产生的原因是否理解正确(2')\n",
    "+ 对过拟合产生的原因是否理解正确(5')"
   ]
  },
  {
   "cell_type": "markdown",
   "metadata": {},
   "source": [
    "- 欠拟合 -> 模型未能学习数据中的关系 \n",
    "- 欠拟合的产生原因 -> 对于给定数据集，大多数时候产生欠拟合的原因是模型过于简单，拟合函数能力不够。可以通过增加模型复杂度或者更换其他模型\n",
    "\n",
    "\n",
    "- 过拟合 -> 模型在拟合函数时过分考虑了噪声等不必要的数据关联性，导致模型对训练集拟合十分好而对测试集的预测效果很差\n",
    "- 过拟合的产生原因 -> 模型过于复杂；模型中的系数过大；训练用的数据太少；训练数据分析不均匀"
   ]
  },
  {
   "cell_type": "markdown",
   "metadata": {},
   "source": [
    "#### 3. What's the precision, recall, AUC, F1, F2score. What are they mainly target on? (12')"
   ]
  },
  {
   "cell_type": "markdown",
   "metadata": {},
   "source": [
    "Ans:"
   ]
  },
  {
   "cell_type": "markdown",
   "metadata": {},
   "source": [
    "<评阅点>\n",
    "> + 对precision, recall, AUC, F1, F2 理解是否正确(6‘)\n",
    "+ 对precision, recall, AUC, F1, F2的使用侧重点是否理解正确 (6’)"
   ]
  },
  {
   "cell_type": "markdown",
   "metadata": {},
   "source": [
    "- Confusion Matrix(混淆矩阵):\n",
    "<table>\n",
    "    <tr>\n",
    "        <th rowspan=\"2\">Actual</th>\n",
    "        <th colspan=\"2\">Predict</th>\n",
    "    </tr>\n",
    "    <tr>\n",
    "        <td>Positive</td>\n",
    "        <td>Negative</td>\n",
    "    </tr>\n",
    "    <tr>\n",
    "        <td>True</td>\n",
    "        <td>TP(True Positive)</td>\n",
    "        <td>FN(False Negative)</td>\n",
    "    </tr>\n",
    "    <tr>\n",
    "        <td>False</td>\n",
    "        <td>FP(False Positive)</td>\n",
    "        <td>TN(True Negative)</td>\n",
    "    </tr>\n",
    "</table>\n",
    "\n",
    "- <u>Precision(精度)</u> -> 所有预测为True的样本中实际为True的比例\n",
    "$$ Precision=\\frac{TP}{TP+FP} $$\n",
    "当我们希望尽量不把False判断为True时么，Precision越高越好。举个例子，假设去买10个玉石的原石，100个中有20个是真玉石，其他都是普通石头，而买原石的成本很高，那我们希望买到的10个原石全是真玉石，也就是Precision = 1\n",
    "\n",
    "\n",
    "- <u>Recall(召回率)</u> -> 所有实际为True的样本中被预测为True的比例\n",
    "$$ Recall=\\frac{TP}{TP+FN} $$\n",
    "当我们希望把所有实际为True的样本都预测为True时，Recall越高越好。也举个例子，假设雷达侦测到30个可疑信号，其中3个是导弹信号，其他是干扰信号，那我们肯定希望把3个导弹信息全部标记出来，也就是Recall = 1\n",
    "\n",
    "\n",
    "- <u>AUC(Area under Curve of ROC)</u> -> AUS最直接的定义就是ROC曲线下的面积，但是这个定义没有具体的意义。方便理解的定义是：对于一个二分类模型，随机给定一个正样本和一个负样本，分类器输出该正样本为正的概率值比分类器输出该负样本为正的概率值要大的可能性\n",
    "    - 如果要理解AUC，必须先弄懂<u>ROC</u> -> ROC曲线的x轴为FPR(False Positive Rate), y轴为TPR(True Positive Rate), 具体定义为：\n",
    "    $$ FPR=\\frac{FP}{FP+TN} $$\n",
    "    $$ TPR=\\frac{TP}{TP+FN} $$\n",
    "    - 机器学习中的ROC是如何画出来的 -> 混淆矩阵的使用或者准确率(Accuracy)的计算都需要对样本进行分类，但是在实际分析中，很多时候我们计算的结果是样本分类的概率，这样的话，就需要引入一个阈值。但是阈值的选取会很大程度上影响准确率以及混淆矩阵的结果。ROC是在取不同阈值情况下FPR和TPR在2d图中的点相连后的曲线，而曲线下的面积就是AUC。\n",
    "    - 一般情况下，在样本非常不均匀的情况下使用AUC会有比较好的效果，比如在反欺诈场景中，设置欺诈行为是True，但是占比很少(假设0.1%)，那么只要把所有样本判断为False，准确率将高达99.9%，而AUC下将所有样本判断为False，AUC为0.5\n",
    "\n",
    "\n",
    "- <u>F-Score</u> -> 在理想情况下，我们都希望Precision和Recall都高。虽然Precision和Recall在公式上并没有必然的相关性，但是在实际情况下，很多时候这两个指标往往是相互制约的。所以，我们需要对这两个指标进行取舍，根据实际情况分配不同的权重，于是引入F-Score:\n",
    "$$ F\\!-\\!Score=(1+\\beta^2)\\cdot\\frac{Precision\\cdot Recall}{\\beta^2\\cdot Precision+Recall} $$\n",
    "    - 当 $ \\beta=1 $ 时，我们认为Precision和Recall同等重要，此时被称为F1-Score\n",
    "    - 当 $ \\beta>1 $ 时，我们认为Recall更加重要，此时被称为F2-Score"
   ]
  },
  {
   "cell_type": "markdown",
   "metadata": {},
   "source": [
    "#### 4. Based on our course and yourself mind, what's the machine learning?  (8')"
   ]
  },
  {
   "cell_type": "markdown",
   "metadata": {},
   "source": [
    "Ans:"
   ]
  },
  {
   "cell_type": "markdown",
   "metadata": {},
   "source": [
    "<评阅点> 开放式问题，是否能说出来机器学习这种思维方式和传统的分析式编程的区别（8'）"
   ]
  },
  {
   "cell_type": "markdown",
   "metadata": {},
   "source": [
    ">&emsp;&emsp;我不是科班出身的，所以对传统的分析式编程的具体含义不是很了解，网上也搜不到相关内容，所以就简单的写一下我接触机器学习这个概念前后我在解决一个问题时思维方式的变化吧。<br>\n",
    "&emsp;&emsp;以预测房价为例，传统的思维方式是，找到和房价相关的变量，然后通过回归等方式拟合出一个函数，并且在对函数本身进行解释的同时对函数的预测能力进行评价解释；在机器学习的思维模式下，虽然同样会进行建模，拟合函数，但是不需要对函数进行解释，也不需要对函数的预测结果进行解释，只需要评价函数的拟合效果和预测能力。<br>\n",
    "&emsp;&emsp;这两者之间最大的差别在于，传统思维模式下，我们认为如果一个函数能很好的预测新数据，那么就需要对我们拟合的函数进行解释，甚至还要和我们的认知进行对比，比如房价和房子的总面积正相关是合理的，但是如果房价和总面积的三次方正相关，那么我们可能会觉得有点难以解释，假设如果房价和销售当月总放晴天数正相关，那我们会觉得这可能存在问题。另外，在传统的思维模式下，我们会主动筛除那些我们认为根本不相关的变量。但是如果使用机器学习，我们不在乎为什么<u>总面积*客厅面积/厨房面积</u>会对房价产生影响，不需要解释为什么模型是这样的，为什么这些变量是有效的，只要拟合模型效果好，有预测能力，那就是一个有用的模型，而且，数据越多，变量越多(在保证拟合效果的前提下)，机器学习的效果就越好。"
   ]
  },
  {
   "cell_type": "markdown",
   "metadata": {},
   "source": [
    "#### 5. \"正确定义了机器学习模型的评价标准(evaluation)， 问题基本上就已经解决一半\". 这句话是否正确？你是怎么看待的？ (8‘)"
   ]
  },
  {
   "cell_type": "markdown",
   "metadata": {},
   "source": [
    "<评阅点> 开放式问题，主要看能理解评价指标对机器学习模型的重要性."
   ]
  },
  {
   "cell_type": "markdown",
   "metadata": {},
   "source": [
    ">我同意这个观点。对于一个机器学习任务而言，会有很多不同模型的选择，这些模型都能在一定程度上拟合训练数据，但是我们希望能找一个最优的模型，这时一个正确的评价指标就尤为重要。如果评价指标不准确，就会导致选择错误的模型，甚至把整个机器学习的优化导向错误的方向。而且评价模型的指标有很多种，需要根据不同的模型，不同的问题环境，不同的目标进行选择，可以说定义了模型的评价标准就等于是确定了机器学习目标的方向。"
   ]
  },
  {
   "cell_type": "markdown",
   "metadata": {},
   "source": [
    "## Part-03 Programming Practice 编程练习"
   ]
  },
  {
   "cell_type": "markdown",
   "metadata": {},
   "source": [
    "1. In our course and previous practice, we complete some importance components of Decision Tree. In this problem, you need to build a **completed** Decision Tree Model. You show finish a `predicate()` function, which accepts three parameters **<gender, income, family_number>**, and outputs the predicated 'bought': 1 or 0.  (20 points)"
   ]
  },
  {
   "cell_type": "code",
   "execution_count": null,
   "metadata": {},
   "outputs": [],
   "source": [
    "# Restructure find_best_spliter function\n",
    "def best_spliter(training_data, features, target: str) -> str:\n",
    "    \"\"\"Sort the features by salience (defined by entropy) and return the best feature in string\n",
    "    Args:\n",
    "        training_data: the training data (xi, yi)\n",
    "        features: unused spliters\n",
    "        target: the target feature or element of data\n",
    "    Returns:\n",
    "        the best feature of training data\n",
    "    \"\"\"\n",
    "    spliters = list()\n",
    "    \n",
    "    for f in features:\n",
    "        values = set(training_data[f])\n",
    "        entropy_v = sum(entropy(training_data[training_data[f] == v][target].tolist()) for v in values)\n",
    "        spliters.append([f, values, entropy_v])\n",
    "    \n",
    "    spliters.sort(key=lambda x:x[2])\n",
    "    return spliters[0][0]"
   ]
  },
  {
   "cell_type": "code",
   "execution_count": null,
   "metadata": {},
   "outputs": [],
   "source": [
    "def decision_tree(training_data: pd.DataFrame, target:str, criterion=entropy):\n",
    "    \"\"\"Fit the data on decision model and return the predict function\n",
    "    Args: \n",
    "        training_data: the data in pd.DataFrame structure\n",
    "        target: the target column's title\n",
    "        criterion: the function to sort the feature. Default is entropy I defined before\n",
    "    Returns:\n",
    "        predict function\n",
    "    \"\"\"\n",
    "    features = set(training_data.columns.tolist()) - {target}\n",
    "    \n",
    "    def get_tree(data, features_unused):\n",
    "        spliter = best_spliter(data, features_unused, target) # get the best spliter\n",
    "        values = set(training_data[spliter])\n",
    "        features_unused -= {spliter}\n",
    "        return [spliter] + [get_details(spliter, value, data,features_unused) for value in values]\n",
    "    \n",
    "    def get_details(spliter, value, data, features_unused):\n",
    "        entropy = criterion(data[data[spliter] == value][target].tolist())\n",
    "        # entropy == 0, return the target value of this group\n",
    "        if entropy == 0:\n",
    "            return [value, entropy, data[data[spliter] == value][target].tolist()[0]]\n",
    "        # entropy != 0, and no more spliters, return the highest probablity value\n",
    "        if not features_unused:\n",
    "            return [value, entropy, majority(data[data[spliter] == value][target].tolist())]\n",
    "        # keep splitting\n",
    "        return [value, entropy, get_tree(data[data[spliter] == value], features_unused)]\n",
    "    \n",
    "    def majority(data):\n",
    "        count = dict()\n",
    "        for v in data:\n",
    "            if v not in count:\n",
    "                count[v] = 1\n",
    "            else:\n",
    "                count[v] += 1\n",
    "        return max(count, key=count.get)\n",
    "    \n",
    "    tree = get_tree(training_data, features)\n",
    "    ic(tree)\n",
    "    \n",
    "    def predict_func(data):\n",
    "        # search the tree until find the target value\n",
    "        def next_node(data, tree):\n",
    "            node = tree[0]\n",
    "            for sub_tree in tree[1:]:\n",
    "                if data[node] == sub_tree[0]:\n",
    "                    if isinstance(sub_tree[2], int):\n",
    "                        return sub_tree[2]\n",
    "                    else:\n",
    "                        return next_node(data, sub_tree[2])\n",
    "        return next_node(data, tree)\n",
    "    return predict_func"
   ]
  },
  {
   "cell_type": "code",
   "execution_count": null,
   "metadata": {},
   "outputs": [],
   "source": [
    "# Using the mock data in class\n",
    "mock_data = {\n",
    "    'gender':['F', 'F', 'F', 'F', 'M', 'M', 'M'],\n",
    "    'income': ['+10', '-10', '+10', '+10', '+10', '+10', '-10'],\n",
    "    'family_number': [1, 1, 2, 1, 1, 1, 2],\n",
    "    'bought': [1, 1, 1, 0, 0, 0, 1],\n",
    "}\n",
    "dataset = pd.DataFrame.from_dict(mock_data)"
   ]
  },
  {
   "cell_type": "code",
   "execution_count": null,
   "metadata": {},
   "outputs": [],
   "source": [
    "model = decision_tree(dataset, 'bought')"
   ]
  },
  {
   "cell_type": "code",
   "execution_count": null,
   "metadata": {},
   "outputs": [],
   "source": [
    "model({'gender': 'M', 'income': '-10', 'family_number': 1})"
   ]
  },
  {
   "cell_type": "code",
   "execution_count": null,
   "metadata": {},
   "outputs": [],
   "source": [
    "model({'gender': 'F', 'income': '+10', 'family_number': 2})"
   ]
  },
  {
   "cell_type": "code",
   "execution_count": null,
   "metadata": {},
   "outputs": [],
   "source": [
    "model({'gender': 'M', 'income': '+10', 'family_number': 1})"
   ]
  },
  {
   "cell_type": "markdown",
   "metadata": {},
   "source": [
    "<评阅点>\n",
    "> + 是否将之前的决策树模型的部分进行合并组装， predicate函数能够顺利运行(8')\n",
    "+ 是够能够输入未曾见过的X变量，例如gender, income, family_number 分别是： <M, -10, 1>, 模型能够预测出结果 (12')"
   ]
  },
  {
   "cell_type": "markdown",
   "metadata": {},
   "source": [
    "2. 将上一节课(第二节课)的线性回归问题中的Loss函数改成\"绝对值\"，并且改变其偏导的求值方式，观察其结果的变化。(19 point)"
   ]
  },
  {
   "cell_type": "markdown",
   "metadata": {},
   "source": [
    "New loss function\n",
    "$$ loss=\\frac{1}{n}\\sum \\left|y_i-\\hat{y_i}\\right|=\\frac{1}{n}\\sum \\sqrt{(y_i-\\hat{y_i})^2}$$\n",
    "$$ loss=\\frac{1}{n}\\sum \\left|y_i-(kx_i+b)\\right|=\\frac{1}{n}\\sum \\sqrt{(y_i-(kx_i+b))^2} $$"
   ]
  },
  {
   "cell_type": "code",
   "execution_count": null,
   "metadata": {},
   "outputs": [],
   "source": [
    "def loss(y, y_hat):\n",
    "    return sum(abs(y_i - y_hat_i) for y_i, y_hat_i in zip(y, y_hat)) / len(list(y))"
   ]
  },
  {
   "cell_type": "markdown",
   "metadata": {},
   "source": [
    "Partial Derivatives\n",
    "$$ \\frac{\\partial{loss}}{\\partial{k}}=\\frac{1}{n}\\sum -x_i\\frac{y_i-\\hat{y_i}}{\\left|y_i-\\hat{y_i}\\right|} $$\n",
    "$$ \\frac{\\partial{loss}}{\\partial{b}}=\\frac{1}{n}\\sum -\\frac{y_i-\\hat{y_i}}{\\left|y_i-\\hat{y_i}\\right|} $$"
   ]
  },
  {
   "cell_type": "code",
   "execution_count": null,
   "metadata": {},
   "outputs": [],
   "source": [
    "def partial_k(x, y, y_hat):\n",
    "    n = len(y)\n",
    "    gradient = 0\n",
    "    for x_i, y_i, y_hat_i in zip(x, y, y_hat):\n",
    "        gradient += (-x_i) * (y_i - y_hat_i) / abs(y_i - y_hat_i)\n",
    "    return 1 / n * gradient\n",
    "\n",
    "def partial_b(y, y_hat):\n",
    "    n = len(y)\n",
    "    gradient = 0\n",
    "    for y_i, y_hat_i in zip(y, y_hat):\n",
    "        gradient -= (y_i - y_hat_i) / abs(y_i - y_hat_i)\n",
    "    return 1 / n * gradient"
   ]
  },
  {
   "cell_type": "code",
   "execution_count": null,
   "metadata": {},
   "outputs": [],
   "source": [
    "from sklearn.datasets import load_boston\n",
    "import random"
   ]
  },
  {
   "cell_type": "code",
   "execution_count": null,
   "metadata": {},
   "outputs": [],
   "source": [
    "# generate data\n",
    "dataset = load_boston()\n",
    "x, y=dataset['data'], dataset['target']\n",
    "X_rm = x[:,5]"
   ]
  },
  {
   "cell_type": "code",
   "execution_count": null,
   "metadata": {},
   "outputs": [],
   "source": [
    "#define target function\n",
    "def price(rm, k, b):\n",
    "    return k * rm + b"
   ]
  },
  {
   "cell_type": "code",
   "execution_count": null,
   "metadata": {},
   "outputs": [],
   "source": [
    "#initialized parameters\n",
    "\n",
    "k = random.random() * 200 - 100  # -100 100\n",
    "b = random.random() * 200 - 100  # -100 100\n",
    "\n",
    "learning_rate = 1e-2\n",
    "\n",
    "iteration_num = 1000 \n",
    "losses = []\n",
    "for i in range(iteration_num):\n",
    "    \n",
    "    price_use_current_parameters = [price(r, k, b) for r in X_rm]  # \\hat{y}\n",
    "    \n",
    "    current_loss = loss(y, price_use_current_parameters)\n",
    "    losses.append(current_loss)\n",
    "    print(\"Iteration {}, the loss is {}, parameters k is {} and b is {}\".format(i,current_loss,k,b))\n",
    "    \n",
    "    k_gradient = partial_k(X_rm, y, price_use_current_parameters)\n",
    "    b_gradient = partial_b(y, price_use_current_parameters)\n",
    "    \n",
    "    k = k + (-1 * k_gradient) * learning_rate\n",
    "    b = b + (-1 * b_gradient) * learning_rate\n",
    "best_k = k\n",
    "best_b = b"
   ]
  },
  {
   "cell_type": "code",
   "execution_count": null,
   "metadata": {},
   "outputs": [],
   "source": [
    "plt.plot(list(range(iteration_num)),losses)"
   ]
  },
  {
   "cell_type": "code",
   "execution_count": null,
   "metadata": {},
   "outputs": [],
   "source": [
    "price_use_best_parameters = [price(r, best_k, best_b) for r in X_rm]\n",
    "\n",
    "plt.scatter(X_rm,y)\n",
    "plt.scatter(X_rm,price_use_current_parameters)"
   ]
  },
  {
   "cell_type": "markdown",
   "metadata": {},
   "source": [
    "<评阅点>\n",
    "+ 是否将Loss改成了“绝对值”(3')\n",
    "+ 是否完成了偏导的重新定义(5')\n",
    "+ 新的模型Loss是否能够收敛 (11’)"
   ]
  },
  {
   "cell_type": "markdown",
   "metadata": {},
   "source": []
  }
 ],
 "metadata": {
  "kernelspec": {
   "display_name": "Python 3",
   "language": "python",
   "name": "python3"
  },
  "language_info": {
   "codemirror_mode": {
    "name": "ipython",
    "version": 3
   },
   "file_extension": ".py",
   "mimetype": "text/x-python",
   "name": "python",
   "nbconvert_exporter": "python",
   "pygments_lexer": "ipython3",
   "version": "3.6.5"
  }
 },
 "nbformat": 4,
 "nbformat_minor": 2
}
