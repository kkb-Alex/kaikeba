{
 "cells": [
  {
   "cell_type": "markdown",
   "metadata": {},
   "source": [
    "# PART1 Search Methods"
   ]
  },
  {
   "cell_type": "markdown",
   "metadata": {},
   "source": [
    "### Extract Data from string"
   ]
  },
  {
   "cell_type": "code",
   "execution_count": 1,
   "metadata": {},
   "outputs": [],
   "source": [
    "coordination_source = \"\"\"\n",
    "{name:'兰州', geoCoord:[103.73, 36.03]},\n",
    "{name:'嘉峪关', geoCoord:[98.17, 39.47]},\n",
    "{name:'西宁', geoCoord:[101.74, 36.56]},\n",
    "{name:'成都', geoCoord:[104.06, 30.67]},\n",
    "{name:'石家庄', geoCoord:[114.48, 38.03]},\n",
    "{name:'拉萨', geoCoord:[102.73, 25.04]},\n",
    "{name:'贵阳', geoCoord:[106.71, 26.57]},\n",
    "{name:'武汉', geoCoord:[114.31, 30.52]},\n",
    "{name:'郑州', geoCoord:[113.65, 34.76]},\n",
    "{name:'济南', geoCoord:[117, 36.65]},\n",
    "{name:'南京', geoCoord:[118.78, 32.04]},\n",
    "{name:'合肥', geoCoord:[117.27, 31.86]},\n",
    "{name:'杭州', geoCoord:[120.19, 30.26]},\n",
    "{name:'南昌', geoCoord:[115.89, 28.68]},\n",
    "{name:'福州', geoCoord:[119.3, 26.08]},\n",
    "{name:'广州', geoCoord:[113.23, 23.16]},\n",
    "{name:'长沙', geoCoord:[113, 28.21]},\n",
    "//{name:'海口', geoCoord:[110.35, 20.02]},\n",
    "{name:'沈阳', geoCoord:[123.38, 41.8]},\n",
    "{name:'长春', geoCoord:[125.35, 43.88]},\n",
    "{name:'哈尔滨', geoCoord:[126.63, 45.75]},\n",
    "{name:'太原', geoCoord:[112.53, 37.87]},\n",
    "{name:'西安', geoCoord:[108.95, 34.27]},\n",
    "//{name:'台湾', geoCoord:[121.30, 25.03]},\n",
    "{name:'北京', geoCoord:[116.46, 39.92]},\n",
    "{name:'上海', geoCoord:[121.48, 31.22]},\n",
    "{name:'重庆', geoCoord:[106.54, 29.59]},\n",
    "{name:'天津', geoCoord:[117.2, 39.13]},\n",
    "{name:'呼和浩特', geoCoord:[111.65, 40.82]},\n",
    "{name:'南宁', geoCoord:[108.33, 22.84]},\n",
    "//{name:'西藏', geoCoord:[91.11, 29.97]},\n",
    "{name:'银川', geoCoord:[106.27, 38.47]},\n",
    "{name:'乌鲁木齐', geoCoord:[87.68, 43.77]},\n",
    "{name:'香港', geoCoord:[114.17, 22.28]},\n",
    "{name:'澳门', geoCoord:[113.54, 22.19]}\n",
    "\"\"\""
   ]
  },
  {
   "cell_type": "code",
   "execution_count": 2,
   "metadata": {},
   "outputs": [],
   "source": [
    "import re\n",
    "def get_city_info(city_data):\n",
    "    city_loc = {} # init dict\n",
    "    for line in city_data.split('\\n'):\n",
    "        if line.strip().startswith('//'): continue # ignore line started with '//'\n",
    "        if not line.strip(): continue             # skip empty line\n",
    "        city = re.findall(\"name:'(\\w+)'\", line)[0] # find the city name in the line\n",
    "        x_y = re.findall('geoCoord:\\[(\\d+\\.?\\d+),\\s(\\d+\\.?\\d+)\\]', line)[0] # find the coordination of city\n",
    "        city_loc[city] = tuple(map(float, x_y))\n",
    "    return city_loc\n",
    "        "
   ]
  },
  {
   "cell_type": "code",
   "execution_count": 3,
   "metadata": {},
   "outputs": [
    {
     "data": {
      "text/plain": [
       "{'兰州': (103.73, 36.03),\n",
       " '嘉峪关': (98.17, 39.47),\n",
       " '西宁': (101.74, 36.56),\n",
       " '成都': (104.06, 30.67),\n",
       " '石家庄': (114.48, 38.03),\n",
       " '拉萨': (102.73, 25.04),\n",
       " '贵阳': (106.71, 26.57),\n",
       " '武汉': (114.31, 30.52),\n",
       " '郑州': (113.65, 34.76),\n",
       " '济南': (117.0, 36.65),\n",
       " '南京': (118.78, 32.04),\n",
       " '合肥': (117.27, 31.86),\n",
       " '杭州': (120.19, 30.26),\n",
       " '南昌': (115.89, 28.68),\n",
       " '福州': (119.3, 26.08),\n",
       " '广州': (113.23, 23.16),\n",
       " '长沙': (113.0, 28.21),\n",
       " '沈阳': (123.38, 41.8),\n",
       " '长春': (125.35, 43.88),\n",
       " '哈尔滨': (126.63, 45.75),\n",
       " '太原': (112.53, 37.87),\n",
       " '西安': (108.95, 34.27),\n",
       " '北京': (116.46, 39.92),\n",
       " '上海': (121.48, 31.22),\n",
       " '重庆': (106.54, 29.59),\n",
       " '天津': (117.2, 39.13),\n",
       " '呼和浩特': (111.65, 40.82),\n",
       " '南宁': (108.33, 22.84),\n",
       " '银川': (106.27, 38.47),\n",
       " '乌鲁木齐': (87.68, 43.77),\n",
       " '香港': (114.17, 22.28),\n",
       " '澳门': (113.54, 22.19)}"
      ]
     },
     "execution_count": 3,
     "metadata": {},
     "output_type": "execute_result"
    }
   ],
   "source": [
    "city_info = get_city_info(coordination_source)\n",
    "city_info"
   ]
  },
  {
   "cell_type": "markdown",
   "metadata": {},
   "source": [
    "### Calculate the distance between cities"
   ]
  },
  {
   "cell_type": "markdown",
   "metadata": {},
   "source": [
    "#### 球面上两点的弧长公式"
   ]
  },
  {
   "cell_type": "markdown",
   "metadata": {},
   "source": [
    "$$ Distance=\\arccos(\\cos\\beta_1\\cos\\beta_2\\cos(\\alpha_1-\\alpha_2)+\\sin\\beta_1\\sin\\beta_2) $$"
   ]
  },
  {
   "cell_type": "code",
   "execution_count": 4,
   "metadata": {},
   "outputs": [],
   "source": [
    "import math\n",
    "\n",
    "def loc_distance(begin, destination):\n",
    "    \"\"\"\n",
    "    Calculate the Haversine distance.\n",
    "    \n",
    "    Parameters:\n",
    "    begin: tuple of float (long, lat)\n",
    "    destination: tuple of float (long, lat)\n",
    "    \n",
    "    Returns: distance in km: float\n",
    "    \"\"\"\n",
    "    # 老师上课时没时间查，实际上提供的坐标为（经度，纬度），和上课时相反；这里我就按照正确的来写了\n",
    "    rlong1, rlat1 = map(math.radians, begin) #角度转换为弧度\n",
    "    rlong2, rlat2 = map(math.radians, destination)\n",
    "    radius = 6371 # km\n",
    "    \n",
    "    d = radius * math.acos(math.cos(rlat1) * math.cos(rlat2) * math.cos(rlong1 - rlong2) + \n",
    "                  math.sin(rlat1) * math.sin(rlat2))\n",
    "    return d"
   ]
  },
  {
   "cell_type": "code",
   "execution_count": 5,
   "metadata": {},
   "outputs": [],
   "source": [
    "# return the distance between two city\n",
    "def city_distance(city1, city2):\n",
    "    return loc_distance(city_info[city1], city_info[city2])"
   ]
  },
  {
   "cell_type": "code",
   "execution_count": 6,
   "metadata": {},
   "outputs": [
    {
     "data": {
      "text/plain": [
       "163.07608214040593"
      ]
     },
     "execution_count": 6,
     "metadata": {},
     "output_type": "execute_result"
    }
   ],
   "source": [
    "city_distance('杭州', '上海') # 经纬度和上课不同，所以结果也不同"
   ]
  },
  {
   "cell_type": "markdown",
   "metadata": {},
   "source": [
    "### Draw the graph"
   ]
  },
  {
   "cell_type": "code",
   "execution_count": 7,
   "metadata": {},
   "outputs": [],
   "source": [
    "import networkx as nx\n",
    "import matplotlib.pyplot as plt\n",
    "%matplotlib inline\n",
    "\n",
    "plt.rcParams['font.sans-serif'] = ['SimHei']\n",
    "plt.rcParams['axes.unicode_minus'] = False"
   ]
  },
  {
   "cell_type": "code",
   "execution_count": 8,
   "metadata": {},
   "outputs": [
    {
     "data": {
      "image/png": "[encoded data removed]",
      "text/plain": [
       "<Figure size 432x288 with 1 Axes>"
      ]
     },
     "metadata": {},
     "output_type": "display_data"
    }
   ],
   "source": [
    "city_graph = nx.Graph()\n",
    "city_graph.add_nodes_from(list(city_info.keys()))\n",
    "nx.draw(city_graph, city_info, with_labels=True, node_size=10)"
   ]
  },
  {
   "cell_type": "markdown",
   "metadata": {},
   "source": [
    "### Build connection between"
   ]
  },
  {
   "cell_type": "code",
   "execution_count": 9,
   "metadata": {},
   "outputs": [],
   "source": [
    "from collections import defaultdict\n",
    "\n",
    "# Assume that two cities are linked if distance less than 700km\n",
    "threshold = 700\n",
    "\n",
    "def build_connection(city_info):\n",
    "    cities_connection = defaultdict(list) # 这里使用defaultdict可以防止key error\n",
    "    for c1 in city_info.keys():\n",
    "        for c2 in city_info.keys():\n",
    "            if c1 == c2: continue\n",
    "            \n",
    "            if city_distance(c1, c2) < threshold:\n",
    "                cities_connection[c1].append(c2)\n",
    "    return cities_connection\n",
    "cities_connection = build_connection(city_info)"
   ]
  },
  {
   "cell_type": "code",
   "execution_count": 10,
   "metadata": {},
   "outputs": [
    {
     "data": {
      "text/plain": [
       "defaultdict(list,\n",
       "            {'兰州': ['嘉峪关', '西宁', '成都', '西安', '银川'],\n",
       "             '嘉峪关': ['兰州', '西宁'],\n",
       "             '西宁': ['兰州', '嘉峪关', '成都', '银川'],\n",
       "             '成都': ['兰州', '西宁', '拉萨', '贵阳', '西安', '重庆'],\n",
       "             '石家庄': ['郑州', '济南', '太原', '西安', '北京', '天津', '呼和浩特'],\n",
       "             '拉萨': ['成都', '贵阳', '重庆', '南宁'],\n",
       "             '贵阳': ['成都', '拉萨', '长沙', '重庆', '南宁'],\n",
       "             '武汉': ['郑州', '南京', '合肥', '杭州', '南昌', '福州', '长沙', '西安', '上海'],\n",
       "             '郑州': ['石家庄',\n",
       "              '武汉',\n",
       "              '济南',\n",
       "              '南京',\n",
       "              '合肥',\n",
       "              '太原',\n",
       "              '西安',\n",
       "              '北京',\n",
       "              '天津',\n",
       "              '呼和浩特'],\n",
       "             '济南': ['石家庄', '郑州', '南京', '合肥', '太原', '北京', '天津', '呼和浩特'],\n",
       "             '南京': ['武汉', '郑州', '济南', '合肥', '杭州', '南昌', '福州', '上海'],\n",
       "             '合肥': ['武汉', '郑州', '济南', '南京', '杭州', '南昌', '福州', '长沙', '上海'],\n",
       "             '杭州': ['武汉', '南京', '合肥', '南昌', '福州', '上海'],\n",
       "             '南昌': ['武汉', '南京', '合肥', '杭州', '福州', '广州', '长沙', '上海'],\n",
       "             '福州': ['武汉', '南京', '合肥', '杭州', '南昌', '广州', '长沙', '上海', '香港'],\n",
       "             '广州': ['南昌', '福州', '长沙', '南宁', '香港', '澳门'],\n",
       "             '长沙': ['贵阳', '武汉', '合肥', '南昌', '福州', '广州', '重庆', '香港', '澳门'],\n",
       "             '沈阳': ['长春', '哈尔滨', '北京', '天津'],\n",
       "             '长春': ['沈阳', '哈尔滨'],\n",
       "             '哈尔滨': ['沈阳', '长春'],\n",
       "             '太原': ['石家庄', '郑州', '济南', '西安', '北京', '天津', '呼和浩特', '银川'],\n",
       "             '西安': ['兰州', '成都', '石家庄', '武汉', '郑州', '太原', '重庆', '银川'],\n",
       "             '北京': ['石家庄', '郑州', '济南', '沈阳', '太原', '天津', '呼和浩特'],\n",
       "             '上海': ['武汉', '南京', '合肥', '杭州', '南昌', '福州'],\n",
       "             '重庆': ['成都', '拉萨', '贵阳', '长沙', '西安'],\n",
       "             '天津': ['石家庄', '郑州', '济南', '沈阳', '太原', '北京', '呼和浩特'],\n",
       "             '呼和浩特': ['石家庄', '郑州', '济南', '太原', '北京', '天津', '银川'],\n",
       "             '南宁': ['拉萨', '贵阳', '广州', '香港', '澳门'],\n",
       "             '银川': ['兰州', '西宁', '太原', '西安', '呼和浩特'],\n",
       "             '香港': ['福州', '广州', '长沙', '南宁', '澳门'],\n",
       "             '澳门': ['广州', '长沙', '南宁', '香港']})"
      ]
     },
     "execution_count": 10,
     "metadata": {},
     "output_type": "execute_result"
    }
   ],
   "source": [
    "cities_connection"
   ]
  },
  {
   "cell_type": "markdown",
   "metadata": {},
   "source": [
    "### Draw connection graph"
   ]
  },
  {
   "cell_type": "code",
   "execution_count": 11,
   "metadata": {},
   "outputs": [
    {
     "data": {
      "image/png": "[encoded data removed]",
      "text/plain": [
       "<Figure size 432x288 with 1 Axes>"
      ]
     },
     "metadata": {},
     "output_type": "display_data"
    }
   ],
   "source": [
    "cities_connection_graph = nx.Graph(cities_connection)\n",
    "nx.draw(cities_connection_graph, city_info, with_labels=True, node_size=10)"
   ]
  },
  {
   "cell_type": "markdown",
   "metadata": {},
   "source": [
    "### BFS version1"
   ]
  },
  {
   "cell_type": "code",
   "execution_count": 12,
   "metadata": {},
   "outputs": [],
   "source": [
    "def search_1(graph, start, destination):\n",
    "    paths = [[start]] # 把起始点作为第一个搜索的路径点\n",
    "    visited = set() # 记录检查过的路径点，避免重复检查\n",
    "    \n",
    "    while paths:\n",
    "        path = paths.pop(0)\n",
    "        froniter = path[-1]\n",
    "        \n",
    "        for city in graph[froniter]:\n",
    "            if city in visited: continue\n",
    "            \n",
    "            new_path = path + [city]\n",
    "            \n",
    "            paths.append(new_path)\n",
    "            \n",
    "            if city == destination:\n",
    "                return new_path\n",
    "        visited.add(froniter)\n",
    "    return []"
   ]
  },
  {
   "cell_type": "code",
   "execution_count": 13,
   "metadata": {},
   "outputs": [
    {
     "data": {
      "text/plain": [
       "['上海', '福州', '香港']"
      ]
     },
     "execution_count": 13,
     "metadata": {},
     "output_type": "execute_result"
    }
   ],
   "source": [
    "search_1(cities_connection, '上海', '香港')"
   ]
  },
  {
   "cell_type": "markdown",
   "metadata": {},
   "source": [
    "### Optimal search using variation of BFS"
   ]
  },
  {
   "cell_type": "code",
   "execution_count": 14,
   "metadata": {},
   "outputs": [],
   "source": [
    "def optimal_search(graph, start, destination, search_strategy):\n",
    "    paths = [[start]]\n",
    "    visited = set()\n",
    "    while paths:\n",
    "        path = paths.pop(0)\n",
    "        froniter = path[-1]\n",
    "        \n",
    "        for city in graph[froniter]:\n",
    "            if city in visited: continue\n",
    "            \n",
    "            new_path = path + [city]\n",
    "            \n",
    "            paths.append(new_path)\n",
    "\n",
    "        paths = search_strategy(paths)\n",
    "        visited.add(froniter)\n",
    "        if paths and paths[0][-1] == destination:\n",
    "            return paths[0]\n",
    "    return []"
   ]
  },
  {
   "cell_type": "code",
   "execution_count": 15,
   "metadata": {},
   "outputs": [],
   "source": [
    "# strategy\n",
    "def sort_by_distance(paths):\n",
    "    def distance_of_path(path):\n",
    "        distance = 0\n",
    "        for i in range(len(path) - 1):\n",
    "            distance += city_distance(path[i], path[i+1])\n",
    "        return distance\n",
    "    return sorted(paths, key=distance_of_path)"
   ]
  },
  {
   "cell_type": "code",
   "execution_count": 16,
   "metadata": {},
   "outputs": [
    {
     "data": {
      "text/plain": [
       "['北京', '济南', '南京', '上海']"
      ]
     },
     "execution_count": 16,
     "metadata": {},
     "output_type": "execute_result"
    }
   ],
   "source": [
    "optimal_search(cities_connection, '北京', '上海', sort_by_distance)"
   ]
  },
  {
   "cell_type": "code",
   "execution_count": 17,
   "metadata": {},
   "outputs": [
    {
     "data": {
      "text/plain": [
       "['香港', '福州', '上海']"
      ]
     },
     "execution_count": 17,
     "metadata": {},
     "output_type": "execute_result"
    }
   ],
   "source": [
    "optimal_search(cities_connection, '香港', '上海', sort_by_distance)"
   ]
  },
  {
   "cell_type": "markdown",
   "metadata": {},
   "source": [
    "### General code for BFS"
   ]
  },
  {
   "cell_type": "markdown",
   "metadata": {},
   "source": [
    "BFS代码的通用版"
   ]
  },
  {
   "cell_type": "code",
   "execution_count": 19,
   "metadata": {},
   "outputs": [],
   "source": [
    "def bfs(moves, start, destination, strategy=lambda x:x):\n",
    "    \"\"\"\n",
    "    moves:       dict include all possible movements given a status\n",
    "    start:       begin status\n",
    "    destination: target status\n",
    "    strategy:    the strategy that result in best searching result\n",
    "    \"\"\"\n",
    "    paths = [[start]]\n",
    "    searched = set()\n",
    "    \n",
    "    while paths:\n",
    "        path = paths.pop(0)\n",
    "        froniter = path[-1]\n",
    "        \n",
    "        for status in moves[froniter]:\n",
    "            if status in searched: continue\n",
    "            \n",
    "            new_path = path + [status]\n",
    "            \n",
    "            paths.append(new_path)\n",
    "            \n",
    "        paths = strategy(paths)\n",
    "        \n",
    "        if paths and paths[0][-1] == destination:\n",
    "            return paths[0]\n",
    "        \n",
    "        searched.add(froniter)\n",
    "    return []"
   ]
  },
  {
   "cell_type": "markdown",
   "metadata": {},
   "source": [
    "# PART2 Machine Learning"
   ]
  },
  {
   "cell_type": "markdown",
   "metadata": {},
   "source": [
    "### Boston House Prices"
   ]
  },
  {
   "cell_type": "code",
   "execution_count": 20,
   "metadata": {},
   "outputs": [],
   "source": [
    "from sklearn.datasets import load_boston\n",
    "import random"
   ]
  },
  {
   "cell_type": "code",
   "execution_count": 21,
   "metadata": {},
   "outputs": [],
   "source": [
    "dataset = load_boston()\n",
    "x, y = dataset['data'], dataset['target']"
   ]
  },
  {
   "cell_type": "code",
   "execution_count": 22,
   "metadata": {},
   "outputs": [
    {
     "data": {
      "text/plain": [
       "(506, 13)"
      ]
     },
     "execution_count": 22,
     "metadata": {},
     "output_type": "execute_result"
    }
   ],
   "source": [
    "x.shape"
   ]
  },
  {
   "cell_type": "code",
   "execution_count": 23,
   "metadata": {},
   "outputs": [
    {
     "data": {
      "text/plain": [
       "(506,)"
      ]
     },
     "execution_count": 23,
     "metadata": {},
     "output_type": "execute_result"
    }
   ],
   "source": [
    "y.shape"
   ]
  },
  {
   "cell_type": "code",
   "execution_count": 24,
   "metadata": {},
   "outputs": [
    {
     "data": {
      "text/plain": [
       "array(['CRIM', 'ZN', 'INDUS', 'CHAS', 'NOX', 'RM', 'AGE', 'DIS', 'RAD',\n",
       "       'TAX', 'PTRATIO', 'B', 'LSTAT'], dtype='<U7')"
      ]
     },
     "execution_count": 24,
     "metadata": {},
     "output_type": "execute_result"
    }
   ],
   "source": [
    "dataset.feature_names"
   ]
  },
  {
   "cell_type": "code",
   "execution_count": 25,
   "metadata": {},
   "outputs": [
    {
     "data": {
      "text/plain": [
       "\".. _boston_dataset:\\n\\nBoston house prices dataset\\n---------------------------\\n\\n**Data Set Characteristics:**  \\n\\n    :Number of Instances: 506 \\n\\n    :Number of Attributes: 13 numeric/categorical predictive. Median Value (attribute 14) is usually the target.\\n\\n    :Attribute Information (in order):\\n        - CRIM     per capita crime rate by town\\n        - ZN       proportion of residential land zoned for lots over 25,000 sq.ft.\\n        - INDUS    proportion of non-retail business acres per town\\n        - CHAS     Charles River dummy variable (= 1 if tract bounds river; 0 otherwise)\\n        - NOX      nitric oxides concentration (parts per 10 million)\\n        - RM       average number of rooms per dwelling\\n        - AGE      proportion of owner-occupied units built prior to 1940\\n        - DIS      weighted distances to five Boston employment centres\\n        - RAD      index of accessibility to radial highways\\n        - TAX      full-value property-tax rate per $10,000\\n        - PTRATIO  pupil-teacher ratio by town\\n        - B        1000(Bk - 0.63)^2 where Bk is the proportion of blacks by town\\n        - LSTAT    % lower status of the population\\n        - MEDV     Median value of owner-occupied homes in $1000's\\n\\n    :Missing Attribute Values: None\\n\\n    :Creator: Harrison, D. and Rubinfeld, D.L.\\n\\nThis is a copy of UCI ML housing dataset.\\nhttps://archive.ics.uci.edu/ml/machine-learning-databases/housing/\\n\\n\\nThis dataset was taken from the StatLib library which is maintained at Carnegie Mellon University.\\n\\nThe Boston house-price data of Harrison, D. and Rubinfeld, D.L. 'Hedonic\\nprices and the demand for clean air', J. Environ. Economics & Management,\\nvol.5, 81-102, 1978.   Used in Belsley, Kuh & Welsch, 'Regression diagnostics\\n...', Wiley, 1980.   N.B. Various transformations are used in the table on\\npages 244-261 of the latter.\\n\\nThe Boston house-price data has been used in many machine learning papers that address regression\\nproblems.   \\n     \\n.. topic:: References\\n\\n   - Belsley, Kuh & Welsch, 'Regression diagnostics: Identifying Influential Data and Sources of Collinearity', Wiley, 1980. 244-261.\\n   - Quinlan,R. (1993). Combining Instance-Based and Model-Based Learning. In Proceedings on the Tenth International Conference of Machine Learning, 236-243, University of Massachusetts, Amherst. Morgan Kaufmann.\\n\""
      ]
     },
     "execution_count": 25,
     "metadata": {},
     "output_type": "execute_result"
    }
   ],
   "source": [
    "dataset['DESCR']"
   ]
  },
  {
   "cell_type": "code",
   "execution_count": 30,
   "metadata": {},
   "outputs": [
    {
     "data": {
      "image/png": "[encoded data removed]",
      "text/plain": [
       "<Figure size 432x288 with 1 Axes>"
      ]
     },
     "metadata": {},
     "output_type": "display_data"
    }
   ],
   "source": [
    "X_rm = x[:,5]\n",
    "plt.scatter(X_rm, y);"
   ]
  },
  {
   "cell_type": "markdown",
   "metadata": {},
   "source": [
    "### Gradient descent"
   ]
  },
  {
   "cell_type": "markdown",
   "metadata": {},
   "source": [
    "#### Assume target function is linear function"
   ]
  },
  {
   "cell_type": "markdown",
   "metadata": {},
   "source": [
    "$$ y=k*x+b $$"
   ]
  },
  {
   "cell_type": "code",
   "execution_count": 35,
   "metadata": {},
   "outputs": [],
   "source": [
    "# define the target function\n",
    "def linear_func(x, k, b):\n",
    "    return k * x + b"
   ]
  },
  {
   "cell_type": "markdown",
   "metadata": {},
   "source": [
    "#### Define mean square loss"
   ]
  },
  {
   "cell_type": "markdown",
   "metadata": {},
   "source": [
    "$$\n",
    "\\begin{align}\n",
    "loss & = \\frac{1}{n}\\sum(y_i-\\hat{y_i})^2 \\\\\n",
    "& = \\frac{1}{n}\\sum(y_i-(kx_i+b))^2 \\\\\n",
    "\\end{align}\n",
    "$$"
   ]
  },
  {
   "cell_type": "code",
   "execution_count": 32,
   "metadata": {},
   "outputs": [],
   "source": [
    "# define the loss function\n",
    "def loss(y, y_hat):\n",
    "    return sum((y_i - y_hat_i) ** 2 for y_i, y_hat_i in zip(y, y_hat)) / len(y)"
   ]
  },
  {
   "cell_type": "markdown",
   "metadata": {},
   "source": [
    "#### Define partial derivatives"
   ]
  },
  {
   "cell_type": "markdown",
   "metadata": {},
   "source": [
    "$$ \\frac{\\partial loss}{\\partial k} = -\\frac{2}{n}\\sum(y_i - \\hat{y_i})x_i $$"
   ]
  },
  {
   "cell_type": "markdown",
   "metadata": {},
   "source": [
    "$$ \\frac{\\partial loss}{\\partial b} = -\\frac{2}{n}\\sum(y_i-\\hat{y_i}) $$"
   ]
  },
  {
   "cell_type": "code",
   "execution_count": 60,
   "metadata": {},
   "outputs": [],
   "source": [
    "# define the partial derivative\n",
    "def partial_derivative_k(x, y, y_hat):\n",
    "    return sum((y_i - y_hat_i) * x_i for y_i, y_hat_i, x_i in zip(y, y_hat, x)) * (-2 / len(y))\n",
    "\n",
    "def partial_derivative_b(y, y_hat):\n",
    "    return sum((y_i - y_hat_i) for y_i, y_hat_i in zip(y, y_hat)) * (-2 / len(y))"
   ]
  },
  {
   "cell_type": "markdown",
   "metadata": {},
   "source": [
    "#### Calculate the parameters k, b"
   ]
  },
  {
   "cell_type": "code",
   "execution_count": 61,
   "metadata": {},
   "outputs": [],
   "source": [
    "# y = kx + b\n",
    "def linear_reg(y, x, learning_rate=1e-3, iteration_num=200):\n",
    "    # randomly initialize start point in [-100, 100)\n",
    "    k = random.random() * 200 - 100\n",
    "    b = random.random() * 200 - 100\n",
    "    \n",
    "    losses = []\n",
    "    \n",
    "    for i in range(iteration_num):\n",
    "        y_hat = [linear_func(x_i, k, b) for x_i in x] # \\hat_{y}\n",
    "        current_loss = loss(y, y_hat)\n",
    "        losses.append(current_loss)\n",
    "        \n",
    "        k_gradient = partial_derivative_k(x, y, y_hat)\n",
    "        b_gradient = partial_derivative_b(y, y_hat)\n",
    "        \n",
    "        print(\"Iteration {}, the loss is {}, parameters k is {} and b is {}\".format(i, current_loss, k, b))\n",
    "        \n",
    "        k = k + (-1 * k_gradient) * learning_rate\n",
    "        b = b + (-1 * b_gradient) * learning_rate\n",
    "        \n",
    "    return k, b, losses"
   ]
  },
  {
   "cell_type": "code",
   "execution_count": 62,
   "metadata": {},
   "outputs": [
    {
     "name": "stdout",
     "output_type": "stream",
     "text": [
      "Iteration 0, the loss is 56620.20595987138, parameters k is 50.001376779199944 and b is -55.58799962943968\n",
      "Iteration 1, the loss is 47728.15854237704, parameters k is 46.99322474440794 and b is -56.060238761375565\n",
      "Iteration 2, the loss is 40233.875530776226, parameters k is 44.231596346514934 and b is -56.493723143607106\n",
      "Iteration 3, the loss is 33917.63863800618, parameters k is 41.696287839181124 and b is -56.89162890748521\n",
      "Iteration 4, the loss is 28594.267676176594, parameters k is 39.36875126605632 and b is -57.25687188578009\n",
      "Iteration 5, the loss is 24107.691421332816, parameters k is 37.231958761170375 and b is -57.592128945347824\n",
      "Iteration 6, the loss is 20326.37189835896, parameters k is 35.27027797053115 and b is -57.899857571486734\n",
      "Iteration 7, the loss is 17139.447934649288, parameters k is 33.469357683495794 and b is -58.182313847265654\n",
      "Iteration 8, the loss is 14453.484918787191, parameters k is 31.816022837177496 and b is -58.44156895936345\n",
      "Iteration 9, the loss is 12189.735473260796, parameters k is 30.298178125724277 and b is -58.67952435117909\n",
      "Iteration 10, the loss is 10281.83072928604, parameters k is 28.904719509260975 and b is -58.89792563407458\n",
      "Iteration 11, the loss is 8673.834516251965, parameters k is 27.625452975080655 and b is -59.098375358527534\n",
      "Iteration 12, the loss is 7318.603418277872, parameters k is 26.451019956730274 and b is -59.28234473862898\n",
      "Iteration 13, the loss is 6176.4046178213885, parameters k is 25.37282886534546 and b is -59.45118441570469\n",
      "Iteration 14, the loss is 5213.751004108692, parameters k is 24.382992232307522 and b is -59.60613433980814\n",
      "Iteration 15, the loss is 4402.419393954192, parameters k is 23.47426900334896 and b is -59.748332841379685\n",
      "Iteration 16, the loss is 3718.623081048467, parameters k is 22.640011561922627 and b is -59.87882495944149\n",
      "Iteration 17, the loss is 3142.3144544140587, parameters k is 21.874117094249538 and b is -59.998570087258585\n",
      "Iteration 18, the loss is 2656.597240112248, parameters k is 21.170982940224874 and b is -60.10844899140281\n",
      "Iteration 19, the loss is 2247.2311342318467, parameters k is 20.52546560352268 and b is -60.209270255572136\n",
      "Iteration 20, the loss is 1902.2143039298173, parameters k is 19.932843121011125 and b is -60.30177619630938\n",
      "Iteration 21, the loss is 1611.431516238463, parameters k is 19.388780516167373 and b is -60.386648293900535\n",
      "Iteration 22, the loss is 1366.3575784369073, parameters k is 18.889298083744062 and b is -60.464512178185956\n",
      "Iteration 23, the loss is 1159.8073954155932, parameters k is 18.43074227365334 and b is -60.53594220576144\n",
      "Iteration 24, the loss is 985.7253161853301, parameters k is 18.00975896105058 and b is -60.60146566205653\n",
      "Iteration 25, the loss is 839.0075935661771, parameters k is 17.623268907057753 and b is -60.661566619033266\n",
      "Iteration 26, the loss is 715.3527519078363, parameters k is 17.268445230593446 and b is -60.71668947672866\n",
      "Iteration 27, the loss is 611.1354759041681, parameters k is 16.942692726490097 and b is -60.76724221455156\n",
      "Iteration 28, the loss is 523.300323158786, parameters k is 16.64362887858667 and b is -60.813599376120706\n",
      "Iteration 29, the loss is 449.2721443538342, parameters k is 16.3690664288858 and b is -60.856104809481614\n",
      "Iteration 30, the loss is 386.88058470955554, parameters k is 16.116997375248697 and b is -60.89507418275007\n",
      "Iteration 31, the loss is 334.29645325929624, parameters k is 15.885578280552606 and b is -60.93079729358704\n",
      "Iteration 32, the loss is 289.9780944066098, parameters k is 15.673116785830425 and b is -60.963540189401506\n",
      "Iteration 33, the loss is 252.62618947925935, parameters k is 15.478059228720587 and b is -60.9935471137929\n",
      "Iteration 34, the loss is 221.14566314660027, parameters k is 15.29897927664196 and b is -61.02104229347366\n",
      "Iteration 35, the loss is 194.61357786804913, parameters k is 15.134567491532374 and b is -61.04623157874523\n",
      "Iteration 36, the loss is 172.2520750981888, parameters k is 14.983621749804845 and b is -61.06930394952948\n",
      "Iteration 37, the loss is 153.40556993547003, parameters k is 14.845038447432474 and b is -61.09043289797399\n",
      "Iteration 38, the loss is 137.521530604456, parameters k is 14.717804425817118 and b is -61.10977769774641\n",
      "Iteration 39, the loss is 124.13427926212879, parameters k is 14.600989559370273 and b is -61.127484569304315\n",
      "Iteration 40, the loss is 112.85133919833785, parameters k is 14.493739950575819 and b is -61.14368774966585\n",
      "Iteration 41, the loss is 103.34192815594851, parameters k is 14.395271682748687 and b is -61.15851047450774\n",
      "Iteration 42, the loss is 95.3272604164584, parameters k is 14.304865084783712 and b is -61.17206587977585\n",
      "Iteration 43, the loss is 88.57237332644603, parameters k is 14.221859465934694 and b is -61.18445782940459\n",
      "Iteration 44, the loss is 82.87923863396435, parameters k is 14.14564828210256 and b is -61.195781675200955\n",
      "Iteration 45, the loss is 78.08095667220213, parameters k is 14.075674698268449 and b is -61.206124954452505\n",
      "Iteration 46, the loss is 74.03686317478376, parameters k is 14.011427514605831 and b is -61.21556803036321\n",
      "Iteration 47, the loss is 70.62840526372547, parameters k is 13.952437426466483 and b is -61.224184680002615\n",
      "Iteration 48, the loss is 67.7556657017619, parameters k is 13.898273590877825 and b is -61.23204263406988\n",
      "Iteration 49, the loss is 65.33443350665036, parameters k is 13.8485404744316 and b is -61.23920407242162\n",
      "Iteration 50, the loss is 63.293735043366, parameters k is 13.802874959502589 and b is -61.24572607898905\n",
      "Iteration 51, the loss is 61.57375321045232, parameters k is 13.76094368762601 and b is -61.25166105941246\n",
      "Iteration 52, the loss is 60.12407371497556, parameters k is 13.722440620597375 and b is -61.25705712444875\n",
      "Iteration 53, the loss is 58.902207020162905, parameters k is 13.687084801451421 and b is -61.26195844195683\n",
      "Iteration 54, the loss is 57.872342632003125, parameters k is 13.654618298939146 and b is -61.2664055600363\n",
      "Iteration 55, the loss is 57.004299202834474, parameters k is 13.624804320464388 and b is -61.270435703683354\n",
      "Iteration 56, the loss is 56.27263967092898, parameters k is 13.59742547967395 and b is -61.274083047134425\n",
      "Iteration 57, the loss is 55.655925493627336, parameters k is 13.572282206026678 and b is -61.27737896388996\n",
      "Iteration 58, the loss is 55.13608810954196, parameters k is 13.54919128470568 and b is -61.28035225624763\n",
      "Iteration 59, the loss is 54.6978992022799, parameters k is 13.527984516191454 and b is -61.28302936602425\n",
      "Iteration 60, the loss is 54.32852423481366, parameters k is 13.508507485689163 and b is -61.28543456800802\n",
      "Iteration 61, the loss is 54.01714616496606, parameters k is 13.490618433407018 and b is -61.28759014755651\n",
      "Iteration 62, the loss is 53.754648310053945, parameters k is 13.474187217420535 and b is -61.28951656363964\n",
      "Iteration 63, the loss is 53.53334706287827, parameters k is 13.459094361534847 and b is -61.29123259852057\n",
      "Iteration 64, the loss is 53.346766622795265, parameters k is 13.445230181179076 and b is -61.29275549516954\n",
      "Iteration 65, the loss is 53.189449137406626, parameters k is 13.432493980937688 and b is -61.294101083415974\n",
      "Iteration 66, the loss is 53.05679468858014, parameters k is 13.420793317847846 and b is -61.29528389576191\n",
      "Iteration 67, the loss is 52.944926431491325, parameters k is 13.410043325072932 and b is -61.29631727370394\n",
      "Iteration 68, the loss is 52.850576932816246, parameters k is 13.40016609100414 and b is -61.29721346534157\n",
      "Iteration 69, the loss is 52.77099237572439, parameters k is 13.391090089247545 and b is -61.29798371498617\n",
      "Iteration 70, the loss is 52.703851823142415, parameters k is 13.382749655326364 and b is -61.29863834542599\n",
      "Iteration 71, the loss is 52.64719917223933, parameters k is 13.375084506269868 and b is -61.29918683344929\n",
      "Iteration 72, the loss is 52.59938580516597, parameters k is 13.368039299574194 and b is -61.29963787917785\n",
      "Iteration 73, the loss is 52.55902225467714, parameters k is 13.36156322830835 and b is -61.29999946971842\n",
      "Iteration 74, the loss is 52.524937467561635, parameters k is 13.355609649403148 and b is -61.30027893759757\n",
      "Iteration 75, the loss is 52.49614447156248, parameters k is 13.35013574240356 and b is -61.300483014407526\n",
      "Iteration 76, the loss is 52.47181143920427, parameters k is 13.34510219618791 and b is -61.30061788005553\n",
      "Iteration 77, the loss is 52.45123730017423, parameters k is 13.340472921361838 and b is -61.30068920797697\n",
      "Iteration 78, the loss is 52.43383118725782, parameters k is 13.336214786222936 and b is -61.30070220664305\n",
      "Iteration 79, the loss is 52.419095113221886, parameters k is 13.332297374364272 and b is -61.30066165766676\n",
      "Iteration 80, the loss is 52.40660937076452, parameters k is 13.328692762143433 and b is -61.300571950785866\n",
      "Iteration 81, the loss is 52.39602022748556, parameters k is 13.325375314389001 and b is -61.3004371159789\n",
      "Iteration 82, the loss is 52.387029555116996, parameters k is 13.322321496849824 and b is -61.30026085294908\n",
      "Iteration 83, the loss is 52.37938608896223, parameters k is 13.319509704014928 and b is -61.30004655819188\n",
      "Iteration 84, the loss is 52.37287806128751, parameters k is 13.316920101044392 and b is -61.29979734984431\n",
      "Iteration 85, the loss is 52.36732699268944, parameters k is 13.314534478654695 and b is -61.29951609049768\n",
      "Iteration 86, the loss is 52.36258245941434, parameters k is 13.312336119896898 and b is -61.299205408140736\n",
      "Iteration 87, the loss is 52.358517683216405, parameters k is 13.310309677852954 and b is -61.298867715386415\n",
      "Iteration 88, the loss is 52.35502581445792, parameters k is 13.30844106335537 and b is -61.298505227122895\n",
      "Iteration 89, the loss is 52.35201679947825, parameters k is 13.306717341908762 and b is -61.29811997671804\n",
      "Iteration 90, the loss is 52.3494147403899, parameters k is 13.305126639059162 and b is -61.297713830895844\n",
      "Iteration 91, the loss is 52.34715566989508, parameters k is 13.303658053518747 and b is -61.29728850339363\n",
      "Iteration 92, the loss is 52.34518567588492, parameters k is 13.302301577410393 and b is -61.29684556750005\n",
      "Iteration 93, the loss is 52.34345932083713, parameters k is 13.301048023048558 and b is -61.29638646756546\n",
      "Iteration 94, the loss is 52.341938309674006, parameters k is 13.299888955720807 and b is -61.295912529569044\n",
      "Iteration 95, the loss is 52.34059036702216, parameters k is 13.298816631978198 and b is -61.29542497081985\n",
      "Iteration 96, the loss is 52.33938829095947, parameters k is 13.297823942983063 and b is -61.294924908862825\n",
      "Iteration 97, the loss is 52.33830915550592, parameters k is 13.29690436249969 and b is -61.29441336965492\n",
      "Iteration 98, the loss is 52.33733363847654, parameters k is 13.296051899147413 and b is -61.29389129507118\n",
      "Iteration 99, the loss is 52.336445454992024, parameters k is 13.295261052566778 and b is -61.2933595497956\n",
      "Iteration 100, the loss is 52.335630880035744, parameters k is 13.294526773178097 and b is -61.29281892764735\n",
      "Iteration 101, the loss is 52.334878346063, parameters k is 13.29384442523797 and b is -61.29227015738841\n",
      "Iteration 102, the loss is 52.334178103861724, parameters k is 13.293209752923495 and b is -61.29171390805532\n",
      "Iteration 103, the loss is 52.333521936724125, parameters k is 13.292618849196042 and b is -61.291150793853994\n",
      "Iteration 104, the loss is 52.33290291954839, parameters k is 13.292068127216771 and b is -61.2905813786533\n",
      "Iteration 105, the loss is 52.332315215807725, parameters k is 13.291554294104783 and b is -61.29000618011043\n",
      "Iteration 106, the loss is 52.33175390643398, parameters k is 13.29107432684592 and b is -61.289425673458155\n",
      "Iteration 107, the loss is 52.33121484560049, parameters k is 13.290625450175941 and b is -61.2888402949817\n",
      "Iteration 108, the loss is 52.330694539173756, parameters k is 13.29020511627628 and b is -61.28825044521069\n",
      "Iteration 109, the loss is 52.330190042272285, parameters k is 13.289810986133816 and b is -61.28765649184947\n",
      "Iteration 110, the loss is 52.329698872928155, parameters k is 13.289440912428317 and b is -61.28705877246727\n",
      "Iteration 111, the loss is 52.32921893932036, parameters k is 13.289092923822322 and b is -61.28645759696796\n",
      "Iteration 112, the loss is 52.3287484784466, parameters k is 13.28876521053854 and b is -61.28585324985734\n",
      "Iteration 113, the loss is 52.32828600443544, parameters k is 13.28845611111925 and b is -61.28524599232459\n",
      "Iteration 114, the loss is 52.327830264983454, parameters k is 13.288164100270839 and b is -61.28463606415323\n",
      "Iteration 115, the loss is 52.327380204639844, parameters k is 13.287887777704515 and b is -61.284023685475375\n",
      "Iteration 116, the loss is 52.32693493386269, parameters k is 13.287625857891596 and b is -61.28340905838227\n",
      "Iteration 117, the loss is 52.32649370293969, parameters k is 13.287377160658382 and b is -61.28279236840282\n",
      "Iteration 118, the loss is 52.326055880007154, parameters k is 13.287140602551837 and b is -61.28217378586097\n",
      "Iteration 119, the loss is 52.32562093252607, parameters k is 13.286915188912882 and b is -61.281553467121775\n",
      "Iteration 120, the loss is 52.32518841166818, parameters k is 13.286700006599323 and b is -61.28093155573545\n",
      "Iteration 121, the loss is 52.324757939157664, parameters k is 13.286494217305165 and b is -61.28030818348756\n",
      "Iteration 122, the loss is 52.32432919618066, parameters k is 13.286297051427443 and b is -61.27968347136322\n",
      "Iteration 123, the loss is 52.32390191403847, parameters k is 13.28610780243569 and b is -61.27905753043222\n",
      "Iteration 124, the loss is 52.32347586626971, parameters k is 13.285925821702863 and b is -61.27843046266163\n",
      "Iteration 125, the loss is 52.32305086201074, parameters k is 13.285750513759877 and b is -61.27780236166184\n",
      "Iteration 126, the loss is 52.32262674040024, parameters k is 13.285581331939081 and b is -61.2771733133714\n",
      "Iteration 127, the loss is 52.322203365863004, parameters k is 13.285417774374746 and b is -61.27654339668576\n",
      "Iteration 128, the loss is 52.321780624134995, parameters k is 13.285259380331347 and b is -61.27591268403451\n",
      "Iteration 129, the loss is 52.3213584189135, parameters k is 13.285105726832745 and b is -61.27528124191125\n",
      "Iteration 130, the loss is 52.32093666903384, parameters k is 13.284956425567643 and b is -61.27464913136012\n",
      "Iteration 131, the loss is 52.320515306089575, parameters k is 13.284811120048635 and b is -61.27401640842236\n",
      "Iteration 132, the loss is 52.320094272427156, parameters k is 13.284669483004095 and b is -61.273383124546356\n",
      "Iteration 133, the loss is 52.319673519455506, parameters k is 13.284531213983804 and b is -61.272749326964025\n",
      "Iteration 134, the loss is 52.319253006221594, parameters k is 13.284396037160821 and b is -61.27211505903637\n",
      "Iteration 135, the loss is 52.31883269820987, parameters k is 13.284263699313485 and b is -61.27148036057076\n",
      "Iteration 136, the loss is 52.31841256633005, parameters k is 13.284133967972812 and b is -61.27084526811211\n",
      "Iteration 137, the loss is 52.317992586064555, parameters k is 13.284006629721715 and b is -61.270209815210286\n",
      "Iteration 138, the loss is 52.31757273674976, parameters k is 13.283881488633615 and b is -61.26957403266556\n",
      "Iteration 139, the loss is 52.3171530009698, parameters k is 13.283758364839013 and b is -61.26893794875395\n",
      "Iteration 140, the loss is 52.316733364046456, parameters k is 13.28363709320954 and b is -61.2683015894341\n",
      "Iteration 141, the loss is 52.31631381360864, parameters k is 13.28351752214985 and b is -61.267664978537184\n",
      "Iteration 142, the loss is 52.31589433922979, parameters k is 13.28339951248853 and b is -61.267028137941274\n",
      "Iteration 143, the loss is 52.31547493212215, parameters k is 13.283282936459896 and b is -61.26639108773141\n",
      "Iteration 144, the loss is 52.315055584879104, parameters k is 13.283167676769251 and b is -61.26575384634652\n",
      "Iteration 145, the loss is 52.31463629125826, parameters k is 13.283053625734729 and b is -61.26511643071437\n",
      "Iteration 146, the loss is 52.31421704599834, parameters k is 13.282940684499486 and b is -61.26447885637538\n",
      "Iteration 147, the loss is 52.31379784466484, parameters k is 13.282828762308446 and b is -61.26384113759633\n",
      "Iteration 148, the loss is 52.31337868352021, parameters k is 13.282717775844324 and b is -61.26320328747473\n",
      "Iteration 149, the loss is 52.31295955941439, parameters k is 13.282607648618065 and b is -61.26256531803468\n",
      "Iteration 150, the loss is 52.312540469692145, parameters k is 13.28249831040924 and b is -61.261927240314805\n",
      "Iteration 151, the loss is 52.31212141211554, parameters k is 13.282389696752302 and b is -61.26128906444903\n",
      "Iteration 152, the loss is 52.311702384798316, parameters k is 13.282281748464948 and b is -61.260650799740745\n",
      "Iteration 153, the loss is 52.31128338615053, parameters k is 13.282174411215133 and b is -61.260012454730834\n",
      "Iteration 154, the loss is 52.31086441483211, parameters k is 13.282067635123566 and b is -61.2593740372602\n",
      "Iteration 155, the loss is 52.31044546971331, parameters k is 13.28196137439879 and b is -61.25873555452712\n",
      "Iteration 156, the loss is 52.31002654984186, parameters k is 13.281855587002164 and b is -61.258097013139896\n",
      "Iteration 157, the loss is 52.30960765441526, parameters k is 13.281750234340302 and b is -61.257458419165225\n",
      "Iteration 158, the loss is 52.30918878275661, parameters k is 13.28164528098272 and b is -61.25681977817258\n",
      "Iteration 159, the loss is 52.308769934295654, parameters k is 13.28154069440262 and b is -61.256181095274954\n"
     ]
    },
    {
     "name": "stdout",
     "output_type": "stream",
     "text": [
      "Iteration 160, the loss is 52.30835110855129, parameters k is 13.281436444738919 and b is -61.25554237516629\n",
      "Iteration 161, the loss is 52.30793230511815, parameters k is 13.281332504577781 and b is -61.25490362215581\n",
      "Iteration 162, the loss is 52.307513523654215, parameters k is 13.28122884875206 and b is -61.25426484019952\n",
      "Iteration 163, the loss is 52.307094763871255, parameters k is 13.281125454157163 and b is -61.25362603292921\n",
      "Iteration 164, the loss is 52.30667602552613, parameters k is 13.281022299582025 and b is -61.25298720367899\n",
      "Iteration 165, the loss is 52.30625730841371, parameters k is 13.280919365553919 and b is -61.25234835550969\n",
      "Iteration 166, the loss is 52.30583861236117, parameters k is 13.28081663419599 and b is -61.25170949123126\n",
      "Iteration 167, the loss is 52.30541993722226, parameters k is 13.280714089096472 and b is -61.25107061342334\n",
      "Iteration 168, the loss is 52.30500128287416, parameters k is 13.280611715188614 and b is -61.25043172445412\n",
      "Iteration 169, the loss is 52.304582649212726, parameters k is 13.280509498640448 and b is -61.24979282649767\n",
      "Iteration 170, the loss is 52.30416403615021, parameters k is 13.280407426753596 and b is -61.24915392154987\n",
      "Iteration 171, the loss is 52.30374544361248, parameters k is 13.280305487870365 and b is -61.24851501144298\n",
      "Iteration 172, the loss is 52.303326871536974, parameters k is 13.28020367128846 and b is -61.24787609785909\n",
      "Iteration 173, the loss is 52.30290831987065, parameters k is 13.28010196718268 and b is -61.24723718234238\n",
      "Iteration 174, the loss is 52.302489788568955, parameters k is 13.280000366533047 and b is -61.246598266310464\n",
      "Iteration 175, the loss is 52.30207127759383, parameters k is 13.279898861058797 and b is -61.24595935106474\n",
      "Iteration 176, the loss is 52.30165278691327, parameters k is 13.279797443157817 and b is -61.24532043779992\n",
      "Iteration 177, the loss is 52.30123431650004, parameters k is 13.279696105851013 and b is -61.24468152761277\n",
      "Iteration 178, the loss is 52.300815866331114, parameters k is 13.279594842731255 and b is -61.24404262151015\n",
      "Iteration 179, the loss is 52.30039743638687, parameters k is 13.279493647916503 and b is -61.24340372041636\n",
      "Iteration 180, the loss is 52.29997902665075, parameters k is 13.279392516006773 and b is -61.24276482517994\n",
      "Iteration 181, the loss is 52.299560637108456, parameters k is 13.279291442044627 and b is -61.24212593657983\n",
      "Iteration 182, the loss is 52.29914226774787, parameters k is 13.279190421478912 and b is -61.24148705533113\n",
      "Iteration 183, the loss is 52.29872391855864, parameters k is 13.279089450131453 and b is -61.24084818209028\n",
      "Iteration 184, the loss is 52.298305589531914, parameters k is 13.278988524166495 and b is -61.240209317459914\n",
      "Iteration 185, the loss is 52.29788728066002, parameters k is 13.278887640062633 and b is -61.239570461993225\n",
      "Iteration 186, the loss is 52.297468991936334, parameters k is 13.278786794587054 and b is -61.23893161619805\n",
      "Iteration 187, the loss is 52.2970507233553, parameters k is 13.278685984771885 and b is -61.23829278054058\n",
      "Iteration 188, the loss is 52.29663247491176, parameters k is 13.278585207892478 and b is -61.23765395544877\n",
      "Iteration 189, the loss is 52.29621424660143, parameters k is 13.278484461447476 and b is -61.23701514131545\n",
      "Iteration 190, the loss is 52.295796038420605, parameters k is 13.27838374314052 and b is -61.23637633850126\n",
      "Iteration 191, the loss is 52.29537785036584, parameters k is 13.278283050863436 and b is -61.23573754733722\n",
      "Iteration 192, the loss is 52.29495968243411, parameters k is 13.278182382680827 and b is -61.23509876812722\n",
      "Iteration 193, the loss is 52.294541534622844, parameters k is 13.278081736815903 and b is -61.2344600011502\n",
      "Iteration 194, the loss is 52.294123406929565, parameters k is 13.277981111637484 and b is -61.233821246662195\n",
      "Iteration 195, the loss is 52.2937052993522, parameters k is 13.277880505648069 and b is -61.23318250489826\n",
      "Iteration 196, the loss is 52.29328721188868, parameters k is 13.27777991747288 and b is -61.23254377607413\n",
      "Iteration 197, the loss is 52.29286914453711, parameters k is 13.277679345849803 and b is -61.23190506038784\n",
      "Iteration 198, the loss is 52.292451097296045, parameters k is 13.277578789620156 and b is -61.23126635802116\n",
      "Iteration 199, the loss is 52.29203307016369, parameters k is 13.277478247720211 and b is -61.23062766914094\n"
     ]
    }
   ],
   "source": [
    "k, b, losses = linear_reg(y, X_rm)"
   ]
  },
  {
   "cell_type": "code",
   "execution_count": 65,
   "metadata": {},
   "outputs": [
    {
     "data": {
      "image/png": "[encoded data removed]",
      "text/plain": [
       "<Figure size 432x288 with 1 Axes>"
      ]
     },
     "metadata": {},
     "output_type": "display_data"
    }
   ],
   "source": [
    "plt.plot(list(range(200)), losses);"
   ]
  },
  {
   "cell_type": "code",
   "execution_count": 66,
   "metadata": {},
   "outputs": [
    {
     "data": {
      "text/plain": [
       "<matplotlib.collections.PathCollection at 0x10f4b2278>"
      ]
     },
     "execution_count": 66,
     "metadata": {},
     "output_type": "execute_result"
    },
    {
     "data": {
      "image/png": "[encoded data removed]",
      "text/plain": [
       "<Figure size 432x288 with 1 Axes>"
      ]
     },
     "metadata": {},
     "output_type": "display_data"
    }
   ],
   "source": [
    "plt.scatter(X_rm, y)\n",
    "plt.scatter(X_rm, [linear_func(x, k, b) f])"
   ]
  },
  {
   "cell_type": "code",
   "execution_count": null,
   "metadata": {},
   "outputs": [],
   "source": []
  }
 ],
 "metadata": {
  "kernelspec": {
   "display_name": "Python 3",
   "language": "python",
   "name": "python3"
  },
  "language_info": {
   "codemirror_mode": {
    "name": "ipython",
    "version": 3
   },
   "file_extension": ".py",
   "mimetype": "text/x-python",
   "name": "python",
   "nbconvert_exporter": "python",
   "pygments_lexer": "ipython3",
   "version": "3.6.5"
  }
 },
 "nbformat": 4,
 "nbformat_minor": 2
}
