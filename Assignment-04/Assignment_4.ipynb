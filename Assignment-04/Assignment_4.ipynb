{
 "cells": [
  {
   "cell_type": "markdown",
   "metadata": {},
   "source": [
    "# Assignment 4"
   ]
  },
  {
   "cell_type": "markdown",
   "metadata": {},
   "source": [
    "### 1. 复习上课内容以及复现课程代码"
   ]
  },
  {
   "cell_type": "markdown",
   "metadata": {},
   "source": [
    "在本部分，你需要复习上课内容和课程代码后，自己复现课程代码。"
   ]
  },
  {
   "cell_type": "markdown",
   "metadata": {},
   "source": [
    "Ans: 已完成，见Lesson04-Recode.ipynb"
   ]
  },
  {
   "cell_type": "markdown",
   "metadata": {},
   "source": [
    "### 2. 回答一下理论题目"
   ]
  },
  {
   "cell_type": "markdown",
   "metadata": {},
   "source": [
    "#### 1. What does a neuron compute?"
   ]
  },
  {
   "cell_type": "markdown",
   "metadata": {},
   "source": [
    "Ans:\n",
    ">在神经网络中，一个神经元计算的是一个线性函数$z=W^Tx+b$，然后紧跟一个激活函数，常用激活函数有Sigmoid, ReLu, Leaky ReLu和tanh"
   ]
  },
  {
   "cell_type": "markdown",
   "metadata": {},
   "source": [
    "####  2. Why we use non-linear activation funcitons in neural networks?"
   ]
  },
  {
   "cell_type": "markdown",
   "metadata": {},
   "source": [
    "Ans:\n",
    ">这个问题不同角度去回答：\n",
    "1. 如果隐藏层使用线性函数，那么多个线性函数的叠加一定可以由一个线性函数来表示，这样的话隐藏层的深度就没有意义了。而且，我们希望描述输入X与输出y的复杂关系，但是用线性函数作为激活函数无法让神经网络去逼近复杂函数\n",
    "2. 很多时候神经元的输出会很大，然后再往下传递会对系统的算力有比较大的需求；另外我们在处理特定问题的时候希望把输出控制在某一范围内，比如说概率问题，我们就可以用sigmoid可以把输出映射在(0,1)。简单的说就是激活函数有时需要将神经元输出压缩到某一有界区间内，这时用线性函数是无法做到的。"
   ]
  },
  {
   "cell_type": "markdown",
   "metadata": {},
   "source": [
    "#### 3. What is the 'Logistic Loss' ?"
   ]
  },
  {
   "cell_type": "markdown",
   "metadata": {},
   "source": [
    "Ans:\n",
    "> Logistic Loss是Logistic Regression的损失函数\n",
    "$$ L= -ylog\\hat{y} - (1-y)log(1-\\hat{y}) $$"
   ]
  },
  {
   "cell_type": "markdown",
   "metadata": {},
   "source": [
    "#### 4. Assume that you are building a binary classifier for detecting if an image containing cats, which activation functions would you recommen using for the output layer ?\n",
    "\n",
    "A. ReLU    \n",
    "B. Leaky ReLU    \n",
    "C. sigmoid    \n",
    "D. tanh  "
   ]
  },
  {
   "cell_type": "markdown",
   "metadata": {},
   "source": [
    "Ans:\n",
    ">C. Sigmoid ($Sigmoid(i)=\\frac{1}{1+e^{-z}}$)可以把输出映射到(0, 1)，满足题中图像识别(是不是包含猫，二分类问题)的需求"
   ]
  },
  {
   "cell_type": "markdown",
   "metadata": {},
   "source": [
    "#### 5. Why we don't use zero initialization for all parameters ?"
   ]
  },
  {
   "cell_type": "markdown",
   "metadata": {},
   "source": [
    "Ans:\n",
    ">如果所有参数都初始化为0，那么会导致对称性问题，也就是所有的节点都一样。当所有节点初始状态都为0，都一样，那么在接受相同的输入X时，输出的y也一样，迭代更新时参数的变化也一样，用神经网络来训练就没有意义了。所以一般的做法是w初始化为比较小的值，b可以初始化为0"
   ]
  },
  {
   "cell_type": "markdown",
   "metadata": {},
   "source": [
    "#### 6. Can you implement the softmax function using python ? "
   ]
  },
  {
   "cell_type": "markdown",
   "metadata": {},
   "source": [
    "$$ S_i=\\frac{e^{V_i}}{\\sum^{C}_{i}e^{V_i}} $$"
   ]
  },
  {
   "cell_type": "code",
   "execution_count": 1,
   "metadata": {},
   "outputs": [],
   "source": [
    "import numpy as np\n",
    "def softmax(x:np.array):\n",
    "    x -= np.max(x)\n",
    "    return np.exp(x) / np.sum(np.exp(x))"
   ]
  },
  {
   "cell_type": "code",
   "execution_count": 2,
   "metadata": {},
   "outputs": [
    {
     "data": {
      "text/plain": [
       "array([0.03192011, 0.2358595 , 0.08676786, 0.00431992, 0.6411326 ])"
      ]
     },
     "execution_count": 2,
     "metadata": {},
     "output_type": "execute_result"
    }
   ],
   "source": [
    "test = np.array([4.0, 6.0, 5.0, 2.0, 7.0])\n",
    "softmax(test)"
   ]
  },
  {
   "cell_type": "markdown",
   "metadata": {},
   "source": [
    "### 3.实践题"
   ]
  },
  {
   "cell_type": "markdown",
   "metadata": {},
   "source": [
    "#### In this practical part, you will build a simple digits recognizer to check if the digit in the image is larger than 5. This assignmnet will guide you step by step to finish your first small project in this course ."
   ]
  },
  {
   "cell_type": "markdown",
   "metadata": {},
   "source": [
    "#### 1 - Packages  \n",
    "sklearn is a famous package for machine learning.   \n",
    "matplotlib is a common package for vasualization."
   ]
  },
  {
   "cell_type": "code",
   "execution_count": 3,
   "metadata": {},
   "outputs": [],
   "source": [
    "from sklearn import datasets\n",
    "import matplotlib.pyplot as plt\n",
    "from sklearn.model_selection import train_test_split"
   ]
  },
  {
   "cell_type": "markdown",
   "metadata": {},
   "source": [
    "#### 2 - Overvie of the dataset  \n",
    "    - a training set has m_train images labeled as 0 if the digit < 5 or 1 if the digit >= 5\n",
    "    - a test set contains m_test images labels as if the digit < 5 or 1 if the digit >= 5\n",
    "    - eah image if of shape (num_px, num_px ). Thus, each image is square(height=num_px and  width = num_px)"
   ]
  },
  {
   "cell_type": "code",
   "execution_count": 4,
   "metadata": {},
   "outputs": [],
   "source": [
    "# Loading the data \n",
    "digits = datasets.load_digits()"
   ]
  },
  {
   "cell_type": "code",
   "execution_count": 5,
   "metadata": {},
   "outputs": [
    {
     "data": {
      "image/png": "[encoded data removed]",
      "text/plain": [
       "<Figure size 432x288 with 10 Axes>"
      ]
     },
     "metadata": {},
     "output_type": "display_data"
    }
   ],
   "source": [
    "# Vilizating the data\n",
    "for i in range(1,11):\n",
    "    plt.subplot(2,5,i)\n",
    "    plt.imshow(digits.data[i-1].reshape([8,8]),cmap=plt.cm.gray_r)\n",
    "    plt.text(3,10,str(digits.target[i-1]))\n",
    "    plt.xticks([])\n",
    "    plt.yticks([])\n",
    "plt.show()"
   ]
  },
  {
   "cell_type": "code",
   "execution_count": 6,
   "metadata": {},
   "outputs": [],
   "source": [
    "# Split the data into training set and test set \n",
    "X_train, X_test, y_train, y_test = train_test_split(digits.data, digits.target, test_size=0.25)"
   ]
  },
  {
   "cell_type": "code",
   "execution_count": 7,
   "metadata": {},
   "outputs": [],
   "source": [
    "# reformulate the label. \n",
    "# If the digit is smaller than 5, the label is 0.\n",
    "# If the digit is larger than 5, the label is 1.\n",
    "\n",
    "y_train[y_train < 5 ] = 0\n",
    "y_train[y_train >= 5] = 1\n",
    "y_test[y_test < 5] = 0\n",
    "y_test[y_test >= 5] = 1"
   ]
  },
  {
   "cell_type": "code",
   "execution_count": 8,
   "metadata": {
    "scrolled": true
   },
   "outputs": [
    {
     "name": "stdout",
     "output_type": "stream",
     "text": [
      "(1347, 64)\n",
      "(450, 64)\n",
      "(1347,)\n",
      "(450,)\n"
     ]
    }
   ],
   "source": [
    "print(X_train.shape)\n",
    "print(X_test.shape)\n",
    "print(y_train.shape)\n",
    "print(y_test.shape)"
   ]
  },
  {
   "cell_type": "markdown",
   "metadata": {},
   "source": [
    "#### 3- Architecture of the neural network"
   ]
  },
  {
   "cell_type": "markdown",
   "metadata": {},
   "source": [
    "![title](network.png)"
   ]
  },
  {
   "cell_type": "code",
   "execution_count": 9,
   "metadata": {},
   "outputs": [
    {
     "name": "stdout",
     "output_type": "stream",
     "text": [
      "/Users/renshawjiang/PycharmProjects/kkb_nlp/lecture4\r\n"
     ]
    }
   ],
   "source": [
    "!pwd"
   ]
  },
  {
   "cell_type": "markdown",
   "metadata": {},
   "source": [
    "##### Mathematical expression of the algorithm:"
   ]
  },
  {
   "cell_type": "markdown",
   "metadata": {},
   "source": [
    "For one example $x^{(i)}$:   \n",
    " $$ z^{(i)} = w^T * x^{(i)} +b $$   \n",
    " $$ y^{(i)} = a^{(i)} = sigmoid(z^{(i)})$$   \n",
    " $$L(a^{(i)},y^{(i)}) = -y^{(i)} log(a^{(i)})-(1-y^{(i)})log(1-a^{(i)})$$"
   ]
  },
  {
   "cell_type": "markdown",
   "metadata": {},
   "source": [
    "The total cost over all training examples:\n",
    "$$ J = \\frac{1}{m}\\sum_{i=1}^{m}L(a^{(i)},y^{(i)}) $$"
   ]
  },
  {
   "cell_type": "markdown",
   "metadata": {},
   "source": [
    "#### 4 - Building the algorithm"
   ]
  },
  {
   "cell_type": "markdown",
   "metadata": {},
   "source": [
    "##### 4.1- Activation function    \n",
    "###### Exercise:\n",
    "Finish the sigmoid funciton "
   ]
  },
  {
   "cell_type": "code",
   "execution_count": 58,
   "metadata": {},
   "outputs": [],
   "source": [
    "def sigmoid(z):\n",
    "    '''\n",
    "    Compute the sigmoid of z\n",
    "    Arguments: z -- a scalar or numpy array of any size.\n",
    "    \n",
    "    Return:\n",
    "    s -- sigmoid(z)\n",
    "    '''\n",
    "    s = 1 / (1 + np.exp(-z))\n",
    "    \n",
    "    return s"
   ]
  },
  {
   "cell_type": "code",
   "execution_count": 59,
   "metadata": {},
   "outputs": [
    {
     "name": "stdout",
     "output_type": "stream",
     "text": [
      "sigmoid([0,2]) = [0.5        0.88079708]\n"
     ]
    }
   ],
   "source": [
    "# Test your code \n",
    "# The result should be [0.5 0.88079708]\n",
    "print(\"sigmoid([0,2]) = \" + str(sigmoid(np.array([0,2]))))"
   ]
  },
  {
   "cell_type": "markdown",
   "metadata": {},
   "source": [
    "##### 4.1-Initializaing parameters\n",
    "###### Exercise:\n",
    "Finishe the initialize_parameters function below"
   ]
  },
  {
   "cell_type": "code",
   "execution_count": 94,
   "metadata": {},
   "outputs": [],
   "source": [
    "# Random innitialize the parameters\n",
    "\n",
    "\n",
    "def initialize_parameters(dim):\n",
    "    '''\n",
    "    Argument: dim -- size of the w vector\n",
    "    \n",
    "    Returns:\n",
    "    w -- initialized vector of shape (dim,1)\n",
    "    b -- initializaed scalar\n",
    "    '''\n",
    "    \n",
    "    w = np.random.rand(dim, 1) * 1e-2\n",
    "    b = 1e-2\n",
    "    \n",
    "    assert(w.shape == (dim,1))\n",
    "    assert(isinstance(b,float) or isinstance(b,int))\n",
    "    \n",
    "    return w,b"
   ]
  },
  {
   "cell_type": "markdown",
   "metadata": {},
   "source": [
    "#### 4.3-Forward and backward propagation"
   ]
  },
  {
   "cell_type": "markdown",
   "metadata": {},
   "source": [
    "###### Some mathematical expressions\n",
    "Forward Propagation:   \n",
    ". X    \n",
    ". A = $\\sigma(w^T*X+b) = (a^{(1)},a^{(2)},...,a^{(m)})$   \n",
    ". J = $-\\frac{1}{m} \\sum_{i=1}^{m}y^{(i)}log(a^{(i)})+(1-y^{(i)})log(1-a^{(i)})$       "
   ]
  },
  {
   "cell_type": "markdown",
   "metadata": {},
   "source": [
    "Some derivative: \n",
    "$$\\frac{\\partial{J}}{\\partial{w}} = \\frac{1}{m}X*(A-Y)^T$$   \n",
    "$$\\frac{\\partial{J}}{\\partial{b}} = \\frac{1}{m}\\sum_{i=1}^m(a^{(i)}-y^{(i)}) $$"
   ]
  },
  {
   "cell_type": "markdown",
   "metadata": {},
   "source": [
    "###### Exercise:\n",
    "Finish the function below:"
   ]
  },
  {
   "cell_type": "code",
   "execution_count": 68,
   "metadata": {},
   "outputs": [],
   "source": [
    "def propagate(w,b,X,Y):\n",
    "    '''\n",
    "    Implement the cost function and its gradient for the propagation\n",
    "    \n",
    "    Arguments:\n",
    "    w - weights\n",
    "    b - bias\n",
    "    X - data\n",
    "    Y - ground truth\n",
    "    '''\n",
    "    m = X.shape[0]\n",
    "    A = sigmoid(np.dot(X, w) + b)\n",
    "    A = A.reshape(1, -1)\n",
    "    Y = Y.reshape(1, -1)\n",
    "    \n",
    "    cost = -1/m * np.sum(Y * np.log(A) + (1-Y) * np.log(1-A))\n",
    "    dw = 1/m * np.dot((A-Y), X).T\n",
    "    db = 1/m * np.sum(A-Y)\n",
    "    \n",
    "    assert(dw.shape == w.shape)\n",
    "    assert(db.dtype == float)\n",
    "    cost = np.squeeze(cost)\n",
    "    assert(cost.shape == ())\n",
    "    \n",
    "    grads = {'dw':dw,\n",
    "             'db':db}\n",
    "    return grads, cost"
   ]
  },
  {
   "cell_type": "markdown",
   "metadata": {},
   "source": [
    "##### 4.4 -Optimization"
   ]
  },
  {
   "cell_type": "markdown",
   "metadata": {},
   "source": [
    "###### Exercise:\n",
    "Minimizing the cost function using gradient descent.   \n",
    "$$\\theta = \\theta - \\alpha*d\\theta$$ where $\\alpha$ is the learning rate."
   ]
  },
  {
   "cell_type": "code",
   "execution_count": 14,
   "metadata": {},
   "outputs": [],
   "source": [
    "def optimize(w, b, X, Y, num_iterations, learning_rate, print_cost=False):\n",
    "    '''\n",
    "    This function optimize w and b by running a gradient descen algorithm\n",
    "    \n",
    "    Arguments:\n",
    "    w - weights\n",
    "    b - bias\n",
    "    X - data\n",
    "    Y - ground truth\n",
    "    num_iterations -- number of iterations of the optimization loop\n",
    "    learning_rate -- learning rate of the gradient descent update rule\n",
    "    print_cost -- True to print the loss every 100 steps\n",
    "    \n",
    "    Returns:\n",
    "    params - dictionary containing the weights w and bias b\n",
    "    grads -- dictionary containing the gradients of the weights and bias with respect to the cost function\n",
    "    costs -- list of all the costs computed during the optimization, this will be used to plot the learning curve.\n",
    "    \n",
    "    '''\n",
    "    \n",
    "    costs = []\n",
    "    \n",
    "    for i in range(num_iterations):\n",
    "        \n",
    "        grads, cost = propagate(w, b, X, Y)\n",
    "        \n",
    "        dw = grads['dw']\n",
    "        db = grads['db']\n",
    "        \n",
    "        w -= learning_rate * dw\n",
    "        b -= learning_rate * db\n",
    "        \n",
    "        if i % 100 == 0:\n",
    "            costs.append(cost)\n",
    "        if print_cost and i % 100 == 0:\n",
    "            print (\"Cost after iteration %i: %f\" %(i, cost))\n",
    "    \n",
    "    params = {\"w\":w,\n",
    "              \"b\":b}\n",
    "    \n",
    "    grads = {\"dw\":dw,\n",
    "             \"db\":db}\n",
    "    \n",
    "    return params, grads, costs"
   ]
  },
  {
   "cell_type": "markdown",
   "metadata": {},
   "source": [
    "###### Exercise\n",
    "The previous function will output the learned w and b. We are able to use w and b to predict the labels for a dataset X. Implement the predict() function.    \n",
    "Two steps to finish this task:   \n",
    "1. Calculate $\\hat{Y} = A = \\sigma(w^T*X+b)$   \n",
    "2. Convert the entries of a into 0 (if activation <= 0.5) or 1 (if activation > 0.5), stores the predictions in a vector Y_prediction. If you wish, you can use an if/else statement in a for loop (though there is also a way to vectorize this)."
   ]
  },
  {
   "cell_type": "code",
   "execution_count": 15,
   "metadata": {},
   "outputs": [],
   "source": [
    "def predict(w, b, X):\n",
    "    '''\n",
    "    Predict whether the label is 0 or 1 using learned logistic regression parameters (w, b)\n",
    "    \n",
    "    Arguments:\n",
    "    w -- weights\n",
    "    b -- bias \n",
    "    X -- data \n",
    "    \n",
    "    Returns:\n",
    "    Y_prediction -- a numpy array (vector) containing all predictions (0/1) for the examples in X\n",
    "    '''\n",
    "    m = X.shape[0]\n",
    "    Y_prediction = np.zeros((1,m))\n",
    "    w = w.reshape(X.shape[1],1)\n",
    "    \n",
    "    A = sigmoid(np.dot(X, w) + b)\n",
    "    \n",
    "    A[A > 0.5] = 1\n",
    "    A[A <= 0.5] = 0\n",
    "    \n",
    "    Y_prediction = A.reshape(1, -1)\n",
    "    \n",
    "    \n",
    "    assert(Y_prediction.shape == (1,m))\n",
    "    \n",
    "    return Y_prediction"
   ]
  },
  {
   "cell_type": "markdown",
   "metadata": {},
   "source": [
    "##### 5- Merge all functions into a model"
   ]
  },
  {
   "cell_type": "markdown",
   "metadata": {},
   "source": [
    "Congratulations !! You have finished all the necessary components for constructing a model. Now, Let's take the challenge to merge all the implemented function into one model."
   ]
  },
  {
   "cell_type": "code",
   "execution_count": 16,
   "metadata": {},
   "outputs": [],
   "source": [
    "def model(X_train, Y_train, X_test, Y_test, num_iterations, learning_rate, print_cost):\n",
    "    \"\"\"\n",
    "    Build the logistic regression model by calling all the functions you have implemented.\n",
    "    Arguments:\n",
    "    X_train - training set\n",
    "    Y_train - training label\n",
    "    X_test - test set\n",
    "    Y_test - test label\n",
    "    num_iteration - hyperparameter representing the number of iterations to optimize the parameters\n",
    "    learning_rate -- hyperparameter representing the learning rate used in the update rule of optimize()\n",
    "    print_cost -- Set to true to print the cost every 100 iterations\n",
    "    \n",
    "    Returns:\n",
    "    d - dictionary should contain following information w,b,training_accuracy, test_accuracy,cost\n",
    "    eg: d = {\"w\":w,\n",
    "             \"b\":b,\n",
    "             \"training_accuracy\": traing_accuracy,\n",
    "             \"test_accuracy\":test_accuracy,\n",
    "             \"cost\":cost}\n",
    "    \"\"\"\n",
    "    # Initial parms\n",
    "    dim = X_train.shape[1]\n",
    "    w, b = initialize_parameters(dim)\n",
    "    \n",
    "    # Training\n",
    "    params, grads, costs = optimize(w, b, X_train, Y_train, num_iterations, learning_rate, print_cost)\n",
    "    w, b = params['w'], params['b']\n",
    "    \n",
    "    # Accuracy\n",
    "    def acc(y, y_predict):\n",
    "        diff = y - y_predict\n",
    "        correct = diff[diff == 0] # if same, the difference equals 0\n",
    "        return correct.shape[0] / y.shape[0]\n",
    "    train_predict = predict(w, b, X_train)\n",
    "    test_predict = predict(w, b, X_test)\n",
    "    training_accuracy = acc(Y_train, train_predict)\n",
    "    test_accuracy = acc(Y_test, test_predict)\n",
    "    \n",
    "    result = {\n",
    "        'w': w,\n",
    "        'b': b,\n",
    "        'training_accuracy': training_accuracy,\n",
    "        'test_accuracy': test_accuracy,\n",
    "        'cost': costs\n",
    "    }\n",
    "    \n",
    "    return result\n",
    "        "
   ]
  },
  {
   "cell_type": "markdown",
   "metadata": {},
   "source": [
    "### 4.选做题"
   ]
  },
  {
   "cell_type": "markdown",
   "metadata": {},
   "source": [
    "Congratulations on building your first logistic regression model. It is your time to analyze it further."
   ]
  },
  {
   "cell_type": "code",
   "execution_count": 98,
   "metadata": {
    "scrolled": false
   },
   "outputs": [
    {
     "name": "stdout",
     "output_type": "stream",
     "text": [
      "Cost after iteration 0: 0.993762\n",
      "Cost after iteration 100: 0.352997\n",
      "Cost after iteration 200: 0.328619\n",
      "Cost after iteration 300: 0.276490\n",
      "Cost after iteration 400: 0.285825\n",
      "Cost after iteration 500: 0.302989\n",
      "Cost after iteration 600: 0.262833\n",
      "Cost after iteration 700: 0.259752\n",
      "Cost after iteration 800: 0.275396\n",
      "Cost after iteration 900: 0.264910\n",
      "Cost after iteration 1000: 0.261794\n",
      "Cost after iteration 1100: 0.267046\n",
      "Cost after iteration 1200: 0.262586\n",
      "Cost after iteration 1300: 0.262886\n",
      "Cost after iteration 1400: 0.263253\n",
      "Cost after iteration 1500: 0.261804\n",
      "Cost after iteration 1600: 0.262273\n",
      "Cost after iteration 1700: 0.261582\n",
      "Cost after iteration 1800: 0.261423\n",
      "Cost after iteration 1900: 0.261233\n",
      "Cost after iteration 2000: 0.260924\n",
      "Cost after iteration 2100: 0.260808\n",
      "Cost after iteration 2200: 0.260567\n",
      "Cost after iteration 2300: 0.260427\n",
      "Cost after iteration 2400: 0.260253\n",
      "Cost after iteration 2500: 0.260105\n",
      "Cost after iteration 2600: 0.259964\n",
      "Cost after iteration 2700: 0.259827\n",
      "Cost after iteration 2800: 0.259701\n",
      "Cost after iteration 2900: 0.259577\n",
      "Cost after iteration 3000: 0.259462\n",
      "Cost after iteration 3100: 0.259349\n",
      "Cost after iteration 3200: 0.259241\n",
      "Cost after iteration 3300: 0.259137\n",
      "Cost after iteration 3400: 0.259036\n",
      "Cost after iteration 3500: 0.258939\n",
      "Cost after iteration 3600: 0.258844\n",
      "Cost after iteration 3700: 0.258753\n",
      "Cost after iteration 3800: 0.258663\n",
      "Cost after iteration 3900: 0.258576\n",
      "Cost after iteration 4000: 0.258491\n",
      "Cost after iteration 4100: 0.258408\n",
      "Cost after iteration 4200: 0.258326\n",
      "Cost after iteration 4300: 0.258247\n",
      "Cost after iteration 4400: 0.258169\n",
      "Cost after iteration 4500: 0.258092\n",
      "Cost after iteration 4600: 0.258017\n",
      "Cost after iteration 4700: 0.257943\n",
      "Cost after iteration 4800: 0.257870\n",
      "Cost after iteration 4900: 0.257798\n"
     ]
    }
   ],
   "source": [
    "# test on data\n",
    "result = model(X_train, y_train, X_test, y_test, 5000, 1e-2, True)"
   ]
  },
  {
   "cell_type": "code",
   "execution_count": 99,
   "metadata": {},
   "outputs": [
    {
     "data": {
      "text/plain": [
       "{'w': array([[ 0.00787827],\n",
       "        [-0.01181231],\n",
       "        [ 0.05709668],\n",
       "        [-0.06240109],\n",
       "        [ 0.0784013 ],\n",
       "        [ 0.09855221],\n",
       "        [ 0.19870259],\n",
       "        [-0.11377913],\n",
       "        [ 0.12455956],\n",
       "        [-0.16466806],\n",
       "        [ 0.1056311 ],\n",
       "        [ 0.07863837],\n",
       "        [-0.05918309],\n",
       "        [-0.04092658],\n",
       "        [-0.0557852 ],\n",
       "        [ 0.18634581],\n",
       "        [-0.02929343],\n",
       "        [ 0.06025461],\n",
       "        [ 0.14607656],\n",
       "        [-0.03044287],\n",
       "        [-0.25826436],\n",
       "        [-0.0548388 ],\n",
       "        [-0.11038257],\n",
       "        [-0.20553043],\n",
       "        [-0.0328296 ],\n",
       "        [-0.23150812],\n",
       "        [ 0.05420515],\n",
       "        [ 0.16743641],\n",
       "        [ 0.06569767],\n",
       "        [ 0.17538294],\n",
       "        [-0.15762595],\n",
       "        [-0.03900698],\n",
       "        [ 0.00070102],\n",
       "        [-0.22914379],\n",
       "        [-0.01419121],\n",
       "        [ 0.21132342],\n",
       "        [-0.09865932],\n",
       "        [-0.04331597],\n",
       "        [ 0.04407415],\n",
       "        [ 0.00834743],\n",
       "        [ 0.00234509],\n",
       "        [-0.01057082],\n",
       "        [ 0.04060357],\n",
       "        [-0.04449285],\n",
       "        [ 0.14358702],\n",
       "        [ 0.09288436],\n",
       "        [ 0.07145083],\n",
       "        [ 0.06302807],\n",
       "        [-0.00418244],\n",
       "        [-0.00979808],\n",
       "        [ 0.04127244],\n",
       "        [-0.04224438],\n",
       "        [-0.31547767],\n",
       "        [-0.03777139],\n",
       "        [ 0.09715261],\n",
       "        [-0.02214442],\n",
       "        [ 0.00797584],\n",
       "        [-0.13792579],\n",
       "        [ 0.02211941],\n",
       "        [-0.02129126],\n",
       "        [-0.14669366],\n",
       "        [-0.05001353],\n",
       "        [-0.0753882 ],\n",
       "        [-0.30041164]]),\n",
       " 'b': -0.01807554456628258,\n",
       " 'training_accuracy': 0.9057164068299925,\n",
       " 'test_accuracy': 0.8844444444444445,\n",
       " 'cost': [0.993762145714826,\n",
       "  0.3529969406819573,\n",
       "  0.3286192362076983,\n",
       "  0.2764900245693155,\n",
       "  0.28582501651138637,\n",
       "  0.30298920645612865,\n",
       "  0.26283328592980865,\n",
       "  0.2597519354917479,\n",
       "  0.27539589743857257,\n",
       "  0.2649102680309742,\n",
       "  0.26179371715337135,\n",
       "  0.26704619834454835,\n",
       "  0.262585634477043,\n",
       "  0.2628859865191659,\n",
       "  0.26325283482988454,\n",
       "  0.2618038573463439,\n",
       "  0.26227295557421787,\n",
       "  0.26158150062591046,\n",
       "  0.2614228681872622,\n",
       "  0.26123307861115586,\n",
       "  0.2609243183217317,\n",
       "  0.26080841768061164,\n",
       "  0.26056691560795664,\n",
       "  0.2604267402958974,\n",
       "  0.2602527699273294,\n",
       "  0.2601050483605051,\n",
       "  0.2599644513839846,\n",
       "  0.259826567709165,\n",
       "  0.25970140603196795,\n",
       "  0.25957701060085797,\n",
       "  0.2594615348573198,\n",
       "  0.25934855756496455,\n",
       "  0.2592410594462407,\n",
       "  0.25913685201255376,\n",
       "  0.25903632526954234,\n",
       "  0.2589389626015235,\n",
       "  0.2588444349875545,\n",
       "  0.25875263411410554,\n",
       "  0.2586632033208172,\n",
       "  0.2585760648587603,\n",
       "  0.258490968565603,\n",
       "  0.25840781520867273,\n",
       "  0.2583264394682775,\n",
       "  0.2582467377843149,\n",
       "  0.25816859427848077,\n",
       "  0.2580919157240925,\n",
       "  0.2580166142888808,\n",
       "  0.25794261154300757,\n",
       "  0.2578698373301178,\n",
       "  0.25779822712931094]}"
      ]
     },
     "execution_count": 99,
     "metadata": {},
     "output_type": "execute_result"
    }
   ],
   "source": [
    "result"
   ]
  },
  {
   "cell_type": "markdown",
   "metadata": {},
   "source": [
    "##### 4.1 Observe the effect of learning rate on the leraning process.   \n",
    "Hits: plot the learning curve with different learning rate"
   ]
  },
  {
   "cell_type": "code",
   "execution_count": 103,
   "metadata": {},
   "outputs": [
    {
     "data": {
      "image/png": "[encoded data removed]",
      "text/plain": [
       "<Figure size 432x288 with 1 Axes>"
      ]
     },
     "metadata": {},
     "output_type": "display_data"
    }
   ],
   "source": [
    "lrs = [1e-2, 1e-3, 1e-4, 1e-5, 1e-6]\n",
    "colors = ['red', 'orange', 'blue', 'green', 'black']\n",
    "for lr, c in zip(lrs, colors):\n",
    "    cost = model(X_train, y_train, X_test, y_test, 5000, lr, False)['cost']\n",
    "    plt.plot(range(len(cost)), cost, color=c)"
   ]
  },
  {
   "cell_type": "markdown",
   "metadata": {},
   "source": [
    "Comments\n",
    "> from the graph we know learning-rate 1e-3 is the best. <br>\n",
    "1e-2 is too large so that the line is not smooth<br>\n",
    "others are too small"
   ]
  },
  {
   "cell_type": "markdown",
   "metadata": {},
   "source": [
    "##### 4.2 Observe the effect of iteration_num on the test accuracy."
   ]
  },
  {
   "cell_type": "code",
   "execution_count": 111,
   "metadata": {},
   "outputs": [
    {
     "data": {
      "image/png": "[encoded data removed]",
      "text/plain": [
       "<Figure size 432x288 with 1 Axes>"
      ]
     },
     "metadata": {},
     "output_type": "display_data"
    }
   ],
   "source": [
    "iteration_nums = [100, 500, 1000, 1500, 2000, 3000, 5000]\n",
    "test_acc = []\n",
    "for iteration_num in iteration_nums:\n",
    "    test_acc.append(model(X_train, y_train, X_test, y_test, iteration_num, 1e-3, False)['test_accuracy'])\n",
    "plt.plot(iteration_nums, test_acc);"
   ]
  },
  {
   "cell_type": "markdown",
   "metadata": {},
   "source": [
    "Comments:\n",
    "> The accuracy increase rapidly with iterations_num when iterations_num is less than 1500, then converge"
   ]
  },
  {
   "cell_type": "markdown",
   "metadata": {},
   "source": [
    "# Challenge ! ! !\n",
    "\n",
    "The original data have images labeled 0,1,2,3,4,5,6,7,8,9. In our logistic model, we only detect if the digit in the image is larger or smaller than 5. Now, Let's go for a more challenging problem. Try to use softmax function to build a model to recognize which digits (0,1,2,3,4,5,6,7,8,9) is in the image."
   ]
  },
  {
   "cell_type": "markdown",
   "metadata": {},
   "source": [
    "> 1. 用softmax代替sigmoid为激活函数\n",
    "2. 把y = i 转化为 y[i] = 1, 其他为0 (如y=2 -> y=[0, 0, 1, 0, 0, 0, 0, 0, 0, 0])\n",
    "3. w.shape = [dim of X, 10]\n",
    "4. 导数计算:\n",
    "    - softmax\n",
    "$$\n",
    "\\frac{\\partial{S_i}}{\\partial{a_j}}= \\frac{\\partial{\\frac{e^{a_i}}{\\sum_{j} e^{a_i}}}}{\\partial{a_j}}\n",
    "= \\frac{\\frac{\\partial{e^{a_i}}}{\\partial{e^{a_j}}}}{\\sum}-\\frac{e^{a_i}\\frac{\\partial{\\sum}}{\\partial{a_j}}}{(\\sum)^2} = \\frac{\\frac{\\partial{e^{a_i}}}{\\partial{e^{a_j}}}\\sum -e^{a_i}e^{a_j}}{(\\sum)^2} =\n",
    "\\begin{cases}\n",
    "\\frac{e^{a_i}\\sum - e^{a_i}e^{a_j}}{(\\sum)^2}, & i = j \\\\\n",
    "-\\frac{e^{a_i}e^{e_j}}{(\\sum)^2}, & i \\ne j\n",
    "\\end{cases} = \n",
    "\\begin{cases}\n",
    "S_i(1-S_j), & i = j \\\\\n",
    "-S_iS_j, & i \\ne j\n",
    "\\end{cases}\n",
    "$$\n",
    "    - cost function\n",
    "$$ L = - \\frac{1}{m}\\sum y_ilogS_i $$\n",
    "$$ \\frac{\\partial{L}}{\\partial{S_i}}=-\\frac{1}{m} \\frac{y_i}{S_i} $$\n",
    "    - 根据链式法则\n",
    "$$\n",
    "\\begin{align}\n",
    "\\frac{\\partial{L}}{\\partial{a_i}} & = \\sum_{j}\\frac{\\partial{L}}{\\partial{S_j}}\\frac{\\partial{S_j}}{\\partial{a_i}} \\\\\n",
    "& = -\\frac{1}{m}(\\frac{y_i}{S_i}S_i(1-S_i)-\\sum_{j \\ne i}\\frac{y_j}{S_j}S_iS_j) \\\\\n",
    "& = -\\frac{1}{m}(y_i - y_iS_i - \\sum_{j \\ne i}y_jS_i) \\\\\n",
    "& = -\\frac{1}{m}(y_i - S_i\\sum_jy_j) \\\\\n",
    "& = -\\frac{1}{m}(y_i - S_i)\n",
    "\\end{align}\n",
    "$$"
   ]
  },
  {
   "cell_type": "code",
   "execution_count": 249,
   "metadata": {},
   "outputs": [],
   "source": [
    "X_train, X_test, y_train, y_test = train_test_split(digits.data, digits.target, test_size=0.25)"
   ]
  },
  {
   "cell_type": "code",
   "execution_count": 124,
   "metadata": {},
   "outputs": [],
   "source": [
    "def transfer(y):\n",
    "    after = []\n",
    "    for e in y:\n",
    "        new = [0] * 10\n",
    "        new[e] = 1\n",
    "        after.append(new)\n",
    "    return np.array(after)"
   ]
  },
  {
   "cell_type": "code",
   "execution_count": 250,
   "metadata": {},
   "outputs": [],
   "source": [
    "y_train_ = transfer(y_train)\n",
    "y_test_ = transfer(y_test)"
   ]
  },
  {
   "cell_type": "code",
   "execution_count": 303,
   "metadata": {},
   "outputs": [],
   "source": [
    "from sklearn.utils import resample\n",
    "def digits_recognization(X_train, y_train, X_test, y_test, num_iterations, learning_rate, print_cost=True):\n",
    "    \"\"\"\n",
    "    Params:\n",
    "        X_train, y_train, X_test, y_test: training data and test data\n",
    "        num_iterations: number of iterations\n",
    "        learning_rate: the step of parameters change in every iteration\n",
    "        print_cost: True of False\n",
    "        \n",
    "    Returns:\n",
    "        result: A dict of training result\n",
    "        predict_model: A function that accept a digit graph and return the predict number based on this algorithm\n",
    "    \"\"\"\n",
    "    \n",
    "    def softmax_func(x: np.array):\n",
    "        x -= np.max(x)\n",
    "        return np.exp(x) / np.sum(np.exp(x))\n",
    "    \n",
    "    def propagate_func(X, y, w, b):\n",
    "        # z = wX + b\n",
    "        # a = softmax(z)\n",
    "        assert(X.shape[1] == w.shape[0])\n",
    "        S = softmax_func(np.dot(X, w) + b)\n",
    "        assert(S.shape == y.shape)\n",
    "        m = X.shape[0]\n",
    "        # cost_func: L = -1/m * \\sum (y_i * log(S_i))\n",
    "        cost = -1/m * np.sum(y * np.log(S))\n",
    "        # partial\n",
    "        dw = 1/m * np.dot(X.T, (S - y))\n",
    "        db = 1/m * np.sum(S - y, axis=0).reshape(1, -1)\n",
    "        assert(dw.shape == w.shape)\n",
    "        assert(db.shape == b.shape)\n",
    "        \n",
    "        grads = {\n",
    "            'dw': dw,\n",
    "            'db': db\n",
    "        }\n",
    "        \n",
    "        return grads, cost\n",
    "    \n",
    "    def optimize_func(X_train, y_train, X_test, y_test, num_iterations, learning_rate, print_cost):\n",
    "        # initialize params\n",
    "        w = np.random.rand(X_train.shape[1], 10) * 1e-4\n",
    "        b = np.random.rand(1, 10) * 1e-4\n",
    "        accuracy_and_cost = {\n",
    "            'train_cost': [],\n",
    "            'train_acc': [],\n",
    "            'test_cost': [],\n",
    "            'test_acc': []\n",
    "        }\n",
    "        batch_size = 100\n",
    "        steps_per_iter = X_train.shape[0] // batch_size\n",
    "        for i in range(num_iterations):\n",
    "            cost = 0\n",
    "            for j in range(steps_per_iter):\n",
    "                X_batch, y_batch = resample(X_train, y_train, n_samples=batch_size)\n",
    "                grads, batch_cost = propagate_func(X_batch, y_batch, w, b)\n",
    "            \n",
    "                dw = grads['dw']\n",
    "                db = grads['db']\n",
    "            \n",
    "                w -= learning_rate * dw\n",
    "                b -= learning_rate * db\n",
    "                \n",
    "                cost += batch_cost\n",
    "            if i % 100 == 0:\n",
    "                train_acc, train_cost = accuracy_cost_func(X_train, y_train, w, b)\n",
    "                test_acc, test_cost = accuracy_cost_func(X_test, y_test, w, b)\n",
    "                accuracy_and_cost['train_acc'].append(train_acc)\n",
    "                accuracy_and_cost['train_cost'].append(train_cost)\n",
    "                accuracy_and_cost['test_cost'].append(test_cost)\n",
    "                accuracy_and_cost['test_acc'].append(test_acc)\n",
    "            if print_cost and i % 100 == 0:\n",
    "                print (\"Cost after iteration %i: %f\" %(i, cost / steps_per_iter))\n",
    "        \n",
    "        params = {\n",
    "            'w': w,\n",
    "            'b': b\n",
    "        }\n",
    "        grads = {\n",
    "            'dw': dw,\n",
    "            'db': b\n",
    "        }\n",
    "        return params, grads, accuracy_and_cost\n",
    "    \n",
    "    def accuracy_cost_func(x, y, w, b):\n",
    "        S = softmax_func(np.dot(x, w) + b)\n",
    "        m = x.shape[0]\n",
    "        cost = -1/m * np.sum(y * np.log(S))\n",
    "        y_predict = []\n",
    "        for s in S:\n",
    "            s[s == np.max(s)] = 1\n",
    "            s[s < 1] = 0\n",
    "            y_predict.append(s)\n",
    "        y_predict = np.array(y_predict)\n",
    "        \n",
    "        diff = y - y_predict\n",
    "        \n",
    "        correct = 0\n",
    "        total = 0\n",
    "        for e in diff:\n",
    "            if (e == 0).all():\n",
    "                correct += 1\n",
    "            total += 1\n",
    "        return correct / total, cost\n",
    "    \n",
    "    params, grads, acc_and_cost = optimize_func(X_train, y_train, X_test, y_test, num_iterations, learning_rate, print_cost)\n",
    "    \n",
    "    result = {\n",
    "        'w': params['w'],\n",
    "        'b': params['b'],\n",
    "        'accuracy and cost': acc_and_cost\n",
    "    }\n",
    "    def predict_model(x, y):\n",
    "        plt.imshow(x.reshape([8,8]),cmap=plt.cm.gray_r)\n",
    "        S = softmax_func(np.dot(x, params['w']) + params['b']).tolist()[0]\n",
    "        y_predict = S.index(max(S))\n",
    "        print('The predict value is {}, the real digit is {}'.format(y_predict, y))\n",
    "    \n",
    "    return result, predict_model"
   ]
  },
  {
   "cell_type": "code",
   "execution_count": 304,
   "metadata": {},
   "outputs": [
    {
     "name": "stdout",
     "output_type": "stream",
     "text": [
      "Cost after iteration 0: 6.908145\n",
      "Cost after iteration 100: 6.875624\n",
      "Cost after iteration 200: 6.844283\n",
      "Cost after iteration 300: 6.814119\n",
      "Cost after iteration 400: 6.783946\n",
      "Cost after iteration 500: 6.750959\n",
      "Cost after iteration 600: 6.724299\n",
      "Cost after iteration 700: 6.699720\n",
      "Cost after iteration 800: 6.667966\n",
      "Cost after iteration 900: 6.634634\n",
      "Cost after iteration 1000: 6.618508\n",
      "Cost after iteration 1100: 6.588527\n",
      "Cost after iteration 1200: 6.563895\n",
      "Cost after iteration 1300: 6.554586\n",
      "Cost after iteration 1400: 6.512306\n",
      "Cost after iteration 1500: 6.498251\n",
      "Cost after iteration 1600: 6.461628\n",
      "Cost after iteration 1700: 6.449096\n",
      "Cost after iteration 1800: 6.427069\n",
      "Cost after iteration 1900: 6.411863\n",
      "Cost after iteration 2000: 6.399614\n",
      "Cost after iteration 2100: 6.380109\n",
      "Cost after iteration 2200: 6.366561\n",
      "Cost after iteration 2300: 6.333600\n",
      "Cost after iteration 2400: 6.324650\n",
      "Cost after iteration 2500: 6.306685\n",
      "Cost after iteration 2600: 6.297557\n",
      "Cost after iteration 2700: 6.278666\n",
      "Cost after iteration 2800: 6.261189\n",
      "Cost after iteration 2900: 6.258428\n",
      "Cost after iteration 3000: 6.253746\n",
      "Cost after iteration 3100: 6.227659\n",
      "Cost after iteration 3200: 6.229557\n",
      "Cost after iteration 3300: 6.215716\n",
      "Cost after iteration 3400: 6.226819\n",
      "Cost after iteration 3500: 6.203596\n",
      "Cost after iteration 3600: 6.205170\n",
      "Cost after iteration 3700: 6.195525\n",
      "Cost after iteration 3800: 6.204103\n",
      "Cost after iteration 3900: 6.199956\n",
      "Cost after iteration 4000: 6.143625\n",
      "Cost after iteration 4100: 6.184874\n",
      "Cost after iteration 4200: 6.150537\n",
      "Cost after iteration 4300: 6.174985\n",
      "Cost after iteration 4400: 6.163987\n",
      "Cost after iteration 4500: 6.230766\n",
      "Cost after iteration 4600: 6.147418\n",
      "Cost after iteration 4700: 6.174868\n",
      "Cost after iteration 4800: 6.135009\n",
      "Cost after iteration 4900: 6.167741\n"
     ]
    }
   ],
   "source": [
    "result, predict = digits_recognization(X_train, y_train_, X_test, y_test_, 5000, 1e-6 / 2)"
   ]
  },
  {
   "cell_type": "code",
   "execution_count": 311,
   "metadata": {},
   "outputs": [
    {
     "data": {
      "text/plain": [
       "Text(0,0.5,'Accuracy')"
      ]
     },
     "execution_count": 311,
     "metadata": {},
     "output_type": "execute_result"
    },
    {
     "data": {
      "image/png": "[encoded data removed]",
      "text/plain": [
       "<Figure size 432x288 with 2 Axes>"
      ]
     },
     "metadata": {},
     "output_type": "display_data"
    }
   ],
   "source": [
    "acc_and_cost = result['accuracy and cost']\n",
    "train_cost = acc_and_cost['train_cost']\n",
    "train_acc = acc_and_cost['train_acc']\n",
    "test_cost = acc_and_cost['test_cost']\n",
    "test_acc = acc_and_cost['test_acc']\n",
    "\n",
    "fig = plt.figure()\n",
    " \n",
    "ax1 = fig.add_subplot(111)\n",
    "ax1.plot(range(len(train_cost)), train_cost, color='red')\n",
    "ax1.plot(range(len(test_cost)), test_cost, color='blue')\n",
    "ax1.set_ylabel('Cost')\n",
    "\n",
    "ax2 = ax1.twinx()\n",
    "ax2.plot(range(len(train_acc)), train_acc, color='orange')\n",
    "ax2.plot(range(len(test_acc)), test_acc, color='green')\n",
    "ax2.set_ylabel('Accuracy')"
   ]
  },
  {
   "cell_type": "code",
   "execution_count": 312,
   "metadata": {},
   "outputs": [
    {
     "name": "stdout",
     "output_type": "stream",
     "text": [
      "The predict value is 8, the real digit is 8\n"
     ]
    },
    {
     "data": {
      "image/png": "[encoded data removed]",
      "text/plain": [
       "<Figure size 432x288 with 1 Axes>"
      ]
     },
     "metadata": {},
     "output_type": "display_data"
    }
   ],
   "source": [
    "predict(X_test[99], y_test[99])"
   ]
  },
  {
   "cell_type": "code",
   "execution_count": 288,
   "metadata": {
    "scrolled": true
   },
   "outputs": [
    {
     "data": {
      "image/png": "[encoded data removed]",
      "text/plain": [
       "<Figure size 432x288 with 1 Axes>"
      ]
     },
     "metadata": {},
     "output_type": "display_data"
    }
   ],
   "source": [
    "# learning rate graph1\n",
    "lrs = [1e-5, 1e-5 / 2, 1e-6, 1e-6 / 2, 1e-7]\n",
    "colors = ['red', 'orange', 'blue', 'green', 'black']\n",
    "for lr, c in zip(lrs, colors):\n",
    "    cost = digits_recognization(X_train, y_train_, X_test, y_test_, 1000, lr, False)[0]['cost']\n",
    "    plt.plot(range(len(cost)), cost, color=c)"
   ]
  },
  {
   "cell_type": "code",
   "execution_count": 290,
   "metadata": {},
   "outputs": [
    {
     "data": {
      "image/png": "[encoded data removed]",
      "text/plain": [
       "<Figure size 432x288 with 1 Axes>"
      ]
     },
     "metadata": {},
     "output_type": "display_data"
    }
   ],
   "source": [
    "# increase the iteration times\n",
    "# learning rate graph1\n",
    "lrs = [1e-6, 1e-6 / 2, 1e-6 / 4, 1e-6 / 8, 1e-7]\n",
    "colors = ['red', 'orange', 'blue', 'green', 'black']\n",
    "for lr, c in zip(lrs, colors):\n",
    "    cost = digits_recognization(X_train, y_train_, X_test, y_test_, 5000, lr, False)[0]['cost']\n",
    "    plt.plot(range(len(cost)), cost, color=c)"
   ]
  },
  {
   "cell_type": "markdown",
   "metadata": {},
   "source": [
    "> 1e-6 / 2 是比较不错的学习率"
   ]
  },
  {
   "cell_type": "markdown",
   "metadata": {},
   "source": [
    "# Congratulations ! You have completed assigment 4. "
   ]
  }
 ],
 "metadata": {
  "kernelspec": {
   "display_name": "Python 3",
   "language": "python",
   "name": "python3"
  },
  "language_info": {
   "codemirror_mode": {
    "name": "ipython",
    "version": 3
   },
   "file_extension": ".py",
   "mimetype": "text/x-python",
   "name": "python",
   "nbconvert_exporter": "python",
   "pygments_lexer": "ipython3",
   "version": "3.6.5"
  }
 },
 "nbformat": 4,
 "nbformat_minor": 2
}
