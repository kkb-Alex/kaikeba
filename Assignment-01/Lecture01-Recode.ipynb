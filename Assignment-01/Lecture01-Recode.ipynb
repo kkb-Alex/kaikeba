{
 "cells": [
  {
   "cell_type": "markdown",
   "metadata": {},
   "source": [
    "## Pattern Based AI"
   ]
  },
  {
   "cell_type": "code",
   "execution_count": 1,
   "metadata": {},
   "outputs": [],
   "source": [
    "# Rules: statement => expression | expressions\n",
    "test_gram = \"\"\"\n",
    "sentence => noun_phrase verb_phrase\n",
    "noun_phrase => Article Adj* noun\n",
    "Adj* => Adj | Adj Adj*\n",
    "verb_phrase => verb noun_phrase\n",
    "Article =>  一个 | 这个\n",
    "noun =>   女人 |  篮球 | 桌子 | 小猫\n",
    "verb => 看着   |  坐在 |  听着 | 看见\n",
    "Adj =>   蓝色的 |  好看的 | 小小的\n",
    "\"\"\""
   ]
  },
  {
   "cell_type": "code",
   "execution_count": 2,
   "metadata": {},
   "outputs": [],
   "source": [
    "import random\n",
    "\n",
    "# Get grammar dictionary\n",
    "def get_gram_dict(gram_str: str, stmt_split='=>', or_split='|'):\n",
    "    rules = dict() # key is stmt, value is expr\n",
    "    \n",
    "    for line in gram_str.split('\\n'):\n",
    "        if not line: continue # skip the empty line\n",
    "        \n",
    "        stmt, expr = line.split(stmt_split)\n",
    "        \n",
    "        rules[stmt.strip()] = [e.strip() for e in expr.split(or_split)]\n",
    "    \n",
    "    return rules\n",
    "\n",
    "# Get target according to given rules\n",
    "def generate(gram_rule, target):\n",
    "    # if target in rules, return expr, else return itself\n",
    "    if target in gram_rule:\n",
    "        candidates = gram_rule[target]\n",
    "        candidate = random.choice(candidates)\n",
    "        return ''.join(generate(gram_rule, target=c.strip()) for c in candidate.split())\n",
    "    else:\n",
    "        return target\n"
   ]
  },
  {
   "cell_type": "markdown",
   "metadata": {},
   "source": [
    "#### 之所以把rule生成器和target生成器分开，是为了在多次获取target时不需要重新生成rules，减少冗余"
   ]
  },
  {
   "cell_type": "code",
   "execution_count": 3,
   "metadata": {},
   "outputs": [],
   "source": [
    "# test\n",
    "test_rule = get_gram_dict(test_gram)"
   ]
  },
  {
   "cell_type": "code",
   "execution_count": 4,
   "metadata": {},
   "outputs": [
    {
     "data": {
      "text/plain": [
       "'这个小小的小猫坐在一个蓝色的桌子'"
      ]
     },
     "execution_count": 4,
     "metadata": {},
     "output_type": "execute_result"
    }
   ],
   "source": [
    "# test\n",
    "generate(test_rule, 'sentence')"
   ]
  },
  {
   "cell_type": "markdown",
   "metadata": {},
   "source": [
    "## Language Model"
   ]
  },
  {
   "cell_type": "code",
   "execution_count": 5,
   "metadata": {},
   "outputs": [
    {
     "name": "stdout",
     "output_type": "stream",
     "text": [
      "33425826\n"
     ]
    }
   ],
   "source": [
    "# 读取语料文件\n",
    "corpus = 'article_9k.txt'\n",
    "FILE = open(corpus).read()\n",
    "print(len(FILE))"
   ]
  },
  {
   "cell_type": "code",
   "execution_count": 7,
   "metadata": {},
   "outputs": [
    {
     "name": "stderr",
     "output_type": "stream",
     "text": [
      "Building prefix dict from the default dictionary ...\n",
      "Dumping model to file cache /var/folders/qn/yh63v8fn5fd2l36nndjc3tw80000gn/T/jieba.cache\n",
      "Loading model cost 1.445 seconds.\n",
      "Prefix dict has been built succesfully.\n"
     ]
    },
    {
     "name": "stdout",
     "output_type": "stream",
     "text": [
      "532454\n"
     ]
    }
   ],
   "source": [
    "# 用jieba分词切分预料库\n",
    "import jieba\n",
    "max_length = 1000000 # 测试只用部分库\n",
    "sub_file = FILE[:max_length]\n",
    "TOKENS = list(jieba.cut(sub_file))\n",
    "print(len(TOKENS))"
   ]
  },
  {
   "cell_type": "code",
   "execution_count": 9,
   "metadata": {},
   "outputs": [
    {
     "data": {
      "text/plain": [
       "[('的', 28764),\n",
       " ('在', 7563),\n",
       " ('了', 6529),\n",
       " ('是', 4883),\n",
       " ('和', 4245),\n",
       " ('也', 2531),\n",
       " ('月', 2433),\n",
       " ('有', 2374),\n",
       " ('将', 2114),\n",
       " ('他', 1960),\n",
       " ('年', 1959),\n",
       " ('对', 1795),\n",
       " ('都', 1720),\n",
       " ('中', 1699),\n",
       " ('为', 1686),\n",
       " ('日', 1674),\n",
       " ('等', 1655),\n",
       " ('与', 1601),\n",
       " ('中国', 1597),\n",
       " ('上', 1583)]"
      ]
     },
     "execution_count": 9,
     "metadata": {},
     "output_type": "execute_result"
    }
   ],
   "source": [
    "# 观察一下正在使用的语料库的单词频次\n",
    "from collections import Counter\n",
    "words_count = Counter(TOKENS)\n",
    "words_count.most_common(20)"
   ]
  },
  {
   "cell_type": "code",
   "execution_count": 12,
   "metadata": {},
   "outputs": [
    {
     "name": "stderr",
     "output_type": "stream",
     "text": [
      "/Library/Frameworks/Python.framework/Versions/3.6/lib/python3.6/site-packages/ipykernel_launcher.py:6: RuntimeWarning: divide by zero encountered in log\n",
      "  \n"
     ]
    },
    {
     "data": {
      "image/png": "[encoded data removed]",
      "text/plain": [
       "<Figure size 432x288 with 1 Axes>"
      ]
     },
     "metadata": {},
     "output_type": "display_data"
    }
   ],
   "source": [
    "# 用2d图像来看一下频次分布情况\n",
    "%matplotlib inline\n",
    "import matplotlib.pyplot as plt\n",
    "import numpy as np\n",
    "words_with_fre = [f for w, f in words_count.most_common()]\n",
    "plt.plot(np.log(np.log(words_with_fre)));"
   ]
  },
  {
   "cell_type": "markdown",
   "metadata": {},
   "source": [
    "## 建立2-gram model"
   ]
  },
  {
   "cell_type": "code",
   "execution_count": 14,
   "metadata": {},
   "outputs": [],
   "source": [
    "# 获取单个词和两个词的list及count\n",
    "one_words = TOKENS\n",
    "two_words = [TOKENS[i] + TOKENS[i+1] for i in range(len(TOKENS)-1)]\n",
    "one_count = Counter(one_words)\n",
    "two_count = Counter(two_words)"
   ]
  },
  {
   "cell_type": "code",
   "execution_count": 15,
   "metadata": {},
   "outputs": [],
   "source": [
    "# 获取频次的函数\n",
    "def get_gram_count(word, wc):\n",
    "    if word in wc: return wc[word]\n",
    "    else:\n",
    "        return wc.most_common()[-1][-1]"
   ]
  },
  {
   "cell_type": "code",
   "execution_count": 18,
   "metadata": {},
   "outputs": [],
   "source": [
    "# two gram language model\n",
    "def two_gram_model(sentence):\n",
    "    tokens = list(jieba.cut(sentence)) # 先将传入参数分词\n",
    "    \n",
    "    probability = 1\n",
    "    \n",
    "    for i in range(len(tokens)-1):\n",
    "        word = tokens[i]\n",
    "        next_w = tokens[i+1]\n",
    "        \n",
    "        two_gram_c = get_gram_count(word+next_w, two_count)\n",
    "        one_gram_c = get_gram_count(next_w, one_count)\n",
    "        pro = two_gram_c / one_gram_c\n",
    "        \n",
    "        probability *= pro\n",
    "    return probability"
   ]
  },
  {
   "cell_type": "code",
   "execution_count": 20,
   "metadata": {},
   "outputs": [
    {
     "data": {
      "text/plain": [
       "3.794778384942319e-05"
      ]
     },
     "execution_count": 20,
     "metadata": {},
     "output_type": "execute_result"
    }
   ],
   "source": [
    "two_gram_model('冬天很热')"
   ]
  },
  {
   "cell_type": "code",
   "execution_count": 21,
   "metadata": {},
   "outputs": [
    {
     "data": {
      "text/plain": [
       "0.00022768670309653916"
      ]
     },
     "execution_count": 21,
     "metadata": {},
     "output_type": "execute_result"
    }
   ],
   "source": [
    "two_gram_model('冬天很冷')"
   ]
  },
  {
   "cell_type": "code",
   "execution_count": 23,
   "metadata": {},
   "outputs": [
    {
     "data": {
      "text/plain": [
       "8.237775141689733e-06"
      ]
     },
     "execution_count": 23,
     "metadata": {},
     "output_type": "execute_result"
    }
   ],
   "source": [
    "two_gram_model('')"
   ]
  },
  {
   "cell_type": "code",
   "execution_count": null,
   "metadata": {},
   "outputs": [],
   "source": []
  }
 ],
 "metadata": {
  "kernelspec": {
   "display_name": "Python 3",
   "language": "python",
   "name": "python3"
  },
  "language_info": {
   "codemirror_mode": {
    "name": "ipython",
    "version": 3
   },
   "file_extension": ".py",
   "mimetype": "text/x-python",
   "name": "python",
   "nbconvert_exporter": "python",
   "pygments_lexer": "ipython3",
   "version": "3.6.5"
  }
 },
 "nbformat": 4,
 "nbformat_minor": 2
}
